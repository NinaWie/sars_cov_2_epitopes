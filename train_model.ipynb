{
 "cells": [
  {
   "cell_type": "code",
   "execution_count": 1,
   "metadata": {},
   "outputs": [],
   "source": [
    "import pandas as pd\n",
    "import numpy as np\n",
    "import matplotlib.pyplot as plt\n",
    "import os"
   ]
  },
  {
   "cell_type": "code",
   "execution_count": 2,
   "metadata": {},
   "outputs": [],
   "source": [
    "property_dict = {\n",
    "    \"A\": [\"NonPolar\", 'Neutral', 'Hydrophobic', 'NonAromatic', 'NonIonizable'],\n",
    "    \"R\": [\"Polar\", \"Positive\", 'Hydrophilic', 'NonAromatic', 'Ionizable'],\n",
    "    \"N\": [\"Polar\", 'Neutral', 'Hydrophilic', 'NonAromatic', 'NonIonizable'],\n",
    "    \"D\": [\"Polar\", \"Negative\", 'Hydrophilic', 'NonAromatic', 'Ionizable'],\n",
    "    \"C\": [\"Polar\", 'Neutral', 'Hydrophilic', 'NonAromatic', 'Ionizable'],\n",
    "    \"Q\": [\"Polar\", 'Neutral', 'Hydrophilic', 'NonAromatic', 'NonIonizable'],\n",
    "    \"E\": [\"Polar\", \"Negative\", 'Hydrophilic', 'NonAromatic', 'Ionizable'],\n",
    "    \"G\": [\"NonPolar\", 'Neutral', 'Hydrophobic', 'NonAromatic', 'NonIonizable'],\n",
    "    \"H\": [\"Polar\", \"Positive\", 'Hydrophilic', 'NonAromatic', 'Ionizable'],\n",
    "    \"I\": [\"NonPolar\", 'Neutral', 'Hydrophobic', 'NonAromatic', 'NonIonizable'],\n",
    "    \"L\": [\"NonPolar\", 'Neutral', 'Hydrophobic', 'NonAromatic', 'NonIonizable'],\n",
    "    \"K\": [\"Polar\", \"Positive\", 'Hydrophilic', 'NonAromatic', 'Ionizable'],\n",
    "    \"M\": [\"NonPolar\", 'Neutral', 'Hydrophobic', 'NonAromatic', 'NonIonizable'],\n",
    "    \"F\": [\"NonPolar\", 'Neutral', 'Hydrophobic', \"Aromatic\", 'NonIonizable'],\n",
    "    \"P\": [\"NonPolar\", 'Neutral', 'Hydrophobic', 'NonAromatic', 'NonIonizable'],\n",
    "    \"S\": [\"Polar\", 'Neutral', 'Hydrophilic', 'NonAromatic', 'NonIonizable'],\n",
    "    \"T\": [\"Polar\", 'Neutral', 'Hydrophilic', 'NonAromatic', 'NonIonizable'],\n",
    "    \"W\": [\"NonPolar\", 'Neutral', 'Hydrophobic', \"Aromatic\", 'NonIonizable'],\n",
    "    \"Y\": [\"Polar\", 'Neutral', 'Hydrophobic', \"Aromatic\", 'Ionizable'],\n",
    "    \"V\": [\"NonPolar\", 'Neutral', 'Hydrophobic', 'NonAromatic', 'NonIonizable']\n",
    "}\n",
    "\n",
    "mapping = {'Hydrophobic':0, 'Hydrophilic':1, 'Neutral':0, 'Positive':1, 'Negative':-1, 'Polar':1, 'NonPolar':0, 'Aromatic':1, 'NonAromatic':0, 'Ionizable':1, 'NonIonizable':0}\n",
    "\n"
   ]
  },
  {
   "cell_type": "code",
   "execution_count": 3,
   "metadata": {},
   "outputs": [],
   "source": [
    "data_path = \"data\""
   ]
  },
  {
   "cell_type": "code",
   "execution_count": 4,
   "metadata": {},
   "outputs": [],
   "source": [
    "data = pd.read_csv(os.path.join(data_path, \"data_struct_features.csv\"))"
   ]
  },
  {
   "cell_type": "code",
   "execution_count": 11,
   "metadata": {},
   "outputs": [
    {
     "data": {
      "text/html": [
       "<div>\n",
       "<style scoped>\n",
       "    .dataframe tbody tr th:only-of-type {\n",
       "        vertical-align: middle;\n",
       "    }\n",
       "\n",
       "    .dataframe tbody tr th {\n",
       "        vertical-align: top;\n",
       "    }\n",
       "\n",
       "    .dataframe thead th {\n",
       "        text-align: right;\n",
       "    }\n",
       "</style>\n",
       "<table border=\"1\" class=\"dataframe\">\n",
       "  <thead>\n",
       "    <tr style=\"text-align: right;\">\n",
       "      <th></th>\n",
       "      <th>Unnamed: 0</th>\n",
       "      <th>our_id</th>\n",
       "      <th>metadata</th>\n",
       "      <th>position</th>\n",
       "      <th>amino_acid</th>\n",
       "      <th>data</th>\n",
       "      <th>labels</th>\n",
       "    </tr>\n",
       "  </thead>\n",
       "  <tbody>\n",
       "    <tr>\n",
       "      <th>0</th>\n",
       "      <td>0</td>\n",
       "      <td>0</td>\n",
       "      <td>1AHW_ED C 4</td>\n",
       "      <td>0</td>\n",
       "      <td>t</td>\n",
       "      <td>[[0.5, 0.5, 0.5, 0.5, 0.5], [0.5, 0.5, 0.5, 0....</td>\n",
       "      <td>0</td>\n",
       "    </tr>\n",
       "    <tr>\n",
       "      <th>1</th>\n",
       "      <td>1</td>\n",
       "      <td>0</td>\n",
       "      <td>1AHW_ED C 4</td>\n",
       "      <td>1</td>\n",
       "      <td>n</td>\n",
       "      <td>[[0.5, 0.5, 0.5, 0.5, 0.5], [0.5, 0.5, 0.5, 0....</td>\n",
       "      <td>0</td>\n",
       "    </tr>\n",
       "    <tr>\n",
       "      <th>2</th>\n",
       "      <td>2</td>\n",
       "      <td>0</td>\n",
       "      <td>1AHW_ED C 4</td>\n",
       "      <td>2</td>\n",
       "      <td>t</td>\n",
       "      <td>[[0.5, 0.5, 0.5, 0.5, 0.5], [0.5, 0.5, 0.5, 0....</td>\n",
       "      <td>0</td>\n",
       "    </tr>\n",
       "    <tr>\n",
       "      <th>3</th>\n",
       "      <td>3</td>\n",
       "      <td>0</td>\n",
       "      <td>1AHW_ED C 4</td>\n",
       "      <td>3</td>\n",
       "      <td>v</td>\n",
       "      <td>[[0.5, 0.5, 0.5, 0.5, 0.5], [1.0, 0.0, 1.0, 0....</td>\n",
       "      <td>0</td>\n",
       "    </tr>\n",
       "    <tr>\n",
       "      <th>4</th>\n",
       "      <td>4</td>\n",
       "      <td>0</td>\n",
       "      <td>1AHW_ED C 4</td>\n",
       "      <td>4</td>\n",
       "      <td>a</td>\n",
       "      <td>[[1.0, 0.0, 1.0, 0.0, 0.0], [1.0, 0.0, 1.0, 0....</td>\n",
       "      <td>0</td>\n",
       "    </tr>\n",
       "  </tbody>\n",
       "</table>\n",
       "</div>"
      ],
      "text/plain": [
       "   Unnamed: 0  our_id     metadata  position amino_acid  \\\n",
       "0           0       0  1AHW_ED C 4         0          t   \n",
       "1           1       0  1AHW_ED C 4         1          n   \n",
       "2           2       0  1AHW_ED C 4         2          t   \n",
       "3           3       0  1AHW_ED C 4         3          v   \n",
       "4           4       0  1AHW_ED C 4         4          a   \n",
       "\n",
       "                                                data  labels  \n",
       "0  [[0.5, 0.5, 0.5, 0.5, 0.5], [0.5, 0.5, 0.5, 0....       0  \n",
       "1  [[0.5, 0.5, 0.5, 0.5, 0.5], [0.5, 0.5, 0.5, 0....       0  \n",
       "2  [[0.5, 0.5, 0.5, 0.5, 0.5], [0.5, 0.5, 0.5, 0....       0  \n",
       "3  [[0.5, 0.5, 0.5, 0.5, 0.5], [1.0, 0.0, 1.0, 0....       0  \n",
       "4  [[1.0, 0.0, 1.0, 0.0, 0.0], [1.0, 0.0, 1.0, 0....       0  "
      ]
     },
     "execution_count": 11,
     "metadata": {},
     "output_type": "execute_result"
    }
   ],
   "source": [
    "data.head()"
   ]
  },
  {
   "cell_type": "code",
   "execution_count": 29,
   "metadata": {},
   "outputs": [],
   "source": [
    "def get_train_test(df, train_size, test_size, val_size):\n",
    "    # first select train and test samples\n",
    "    inds = np.random.permutation(len(np.unique(df[\"our_id\"])))\n",
    "    train_inds = inds[:int(train_size*len(inds))]\n",
    "    test_inds = inds[int(train_size*len(inds)): int(train_size*len(inds))+int(test_size*len(inds))]\n",
    "    val_inds = inds[int(train_size*len(inds))+int(test_size*len(inds)):]\n",
    "    \n",
    "    train_data = df[df['our_id'].isin(train_inds)]\n",
    "    test_data = df[df['our_id'].isin(test_inds)]\n",
    "    val_data = df[df['our_id'].isin(val_inds)]\n",
    "\n",
    "    x_train = np.array([eval(d) for d in train_data[\"data\"].values])\n",
    "    y_train = np.array(train_data[\"labels\"])\n",
    "    x_test = np.array([eval(d) for d in test_data[\"data\"].values])\n",
    "    y_test = np.array(test_data[\"labels\"])\n",
    "    x_val = np.array([eval(d) for d in val_data[\"data\"].values])\n",
    "    y_val = np.array(val_data[\"labels\"])\n",
    "\n",
    "    print(\"number of protein sequences:\", len(train_inds), len(test_inds), len(val_inds))\n",
    "    print(\"train:\", x_train.shape, y_train.shape,\"val:\", x_val.shape, y_val.shape, \"test:\", x_test.shape, y_test.shape)\n",
    "    return x_train, y_train, x_val, y_val, x_test, y_test"
   ]
  },
  {
   "cell_type": "code",
   "execution_count": 30,
   "metadata": {},
   "outputs": [
    {
     "name": "stdout",
     "output_type": "stream",
     "text": [
      "number of protein sequences: 181 51 27\n",
      "train: (41994, 9, 5) (41994,) val: (6429, 9, 5) (6429,) test: (13003, 9, 5) (13003,)\n"
     ]
    }
   ],
   "source": [
    "train_size = 0.7\n",
    "test_size = 0.2\n",
    "val_size = 0.1\n",
    "x_train, y_train, x_val, y_val, x_test, y_test = get_train_test(data, train_size, test_size, val_size)"
   ]
  },
  {
   "cell_type": "markdown",
   "metadata": {},
   "source": [
    "### Train sklearn models"
   ]
  },
  {
   "cell_type": "code",
   "execution_count": 40,
   "metadata": {},
   "outputs": [],
   "source": [
    "from sklearn.ensemble import RandomForestClassifier, RandomForestRegressor\n",
    "from sklearn.svm import SVR\n",
    "from sklearn.metrics import accuracy_score, balanced_accuracy_score, roc_auc_score"
   ]
  },
  {
   "cell_type": "code",
   "execution_count": 51,
   "metadata": {},
   "outputs": [],
   "source": [
    "# define model with class weights for unbalanced\n",
    "clf = RandomForestRegressor(max_depth=30)\n",
    "# clf = RandomForestClassifier(max_depth=10, random_state=0, class_weight={0: 1, 1:5})\n",
    "# clf = SVR()"
   ]
  },
  {
   "cell_type": "code",
   "execution_count": 52,
   "metadata": {},
   "outputs": [
    {
     "data": {
      "text/plain": [
       "RandomForestRegressor(bootstrap=True, ccp_alpha=0.0, criterion='mse',\n",
       "                      max_depth=30, max_features='auto', max_leaf_nodes=None,\n",
       "                      max_samples=None, min_impurity_decrease=0.0,\n",
       "                      min_impurity_split=None, min_samples_leaf=1,\n",
       "                      min_samples_split=2, min_weight_fraction_leaf=0.0,\n",
       "                      n_estimators=100, n_jobs=None, oob_score=False,\n",
       "                      random_state=None, verbose=0, warm_start=False)"
      ]
     },
     "execution_count": 52,
     "metadata": {},
     "output_type": "execute_result"
    }
   ],
   "source": [
    "clf.fit(x_train.reshape(len(x_train), 45), y_train)\n",
    "\n",
    "# print(clf.feature_importances_)\n",
    "# print(clf.predict([[0, 0, 0, 0]]))"
   ]
  },
  {
   "cell_type": "code",
   "execution_count": 53,
   "metadata": {},
   "outputs": [],
   "source": [
    "out = clf.predict(x_val.reshape(len(x_val), 45))"
   ]
  },
  {
   "cell_type": "code",
   "execution_count": 49,
   "metadata": {},
   "outputs": [],
   "source": [
    "def split_bal_acc(gt, pred):\n",
    "    gt_1 = gt[gt==1]\n",
    "    pred_1 = pred[gt==1]\n",
    "    gt_0 = gt[gt==0]\n",
    "    pred_0 = pred[gt==0]\n",
    "    print(\"accuracy for gt 1:\", accuracy_score(gt_1, pred_1))\n",
    "    print(\"accuracy for gt 0:\", accuracy_score(gt_0, pred_0))"
   ]
  },
  {
   "cell_type": "code",
   "execution_count": 54,
   "metadata": {},
   "outputs": [
    {
     "name": "stdout",
     "output_type": "stream",
     "text": [
      "roc auc: 0.6112596145686623\n"
     ]
    }
   ],
   "source": [
    "# print(\"accuracy:\", accuracy_score(y_val, out), \"balanced:\", balanced_accuracy_score(y_val, out))\n",
    "print(\"roc auc:\", roc_auc_score(y_val, out)) # [:,1]"
   ]
  },
  {
   "cell_type": "code",
   "execution_count": null,
   "metadata": {},
   "outputs": [],
   "source": [
    "split_bal_acc(y_val, out[:,1])"
   ]
  },
  {
   "cell_type": "code",
   "execution_count": 55,
   "metadata": {},
   "outputs": [
    {
     "data": {
      "image/png": "[encoded data removed]",
      "text/plain": [
       "<Figure size 432x288 with 1 Axes>"
      ]
     },
     "metadata": {
      "needs_background": "light"
     },
     "output_type": "display_data"
    }
   ],
   "source": [
    "plt.hist(out)\n",
    "plt.show()"
   ]
  },
  {
   "cell_type": "markdown",
   "metadata": {},
   "source": [
    "### Train XGBoost"
   ]
  },
  {
   "cell_type": "code",
   "execution_count": 114,
   "metadata": {},
   "outputs": [],
   "source": [
    "import xgboost as xgb"
   ]
  },
  {
   "cell_type": "code",
   "execution_count": 118,
   "metadata": {},
   "outputs": [
    {
     "data": {
      "text/plain": [
       "XGBRegressor(base_score=0.5, booster=None, colsample_bylevel=1,\n",
       "             colsample_bynode=1, colsample_bytree=1, gamma=0, gpu_id=-1,\n",
       "             importance_type='gain', interaction_constraints=None,\n",
       "             learning_rate=0.300000012, max_delta_step=0, max_depth=6,\n",
       "             min_child_weight=1, missing=nan, monotone_constraints=None,\n",
       "             n_estimators=100, n_jobs=0, num_parallel_tree=1,\n",
       "             objective='binary:logistic', random_state=42, reg_alpha=0,\n",
       "             reg_lambda=1, scale_pos_weight=1, subsample=1, tree_method=None,\n",
       "             validate_parameters=False, verbosity=None)"
      ]
     },
     "execution_count": 118,
     "metadata": {},
     "output_type": "execute_result"
    }
   ],
   "source": [
    "xgb_model = xgb.XGBRegressor(objective=\"binary:logistic\", random_state=42)\n",
    "xgb_model.fit(x_train.reshape(len(x_train), 45), y_train)"
   ]
  },
  {
   "cell_type": "code",
   "execution_count": 119,
   "metadata": {},
   "outputs": [],
   "source": [
    "out = xgb_model.predict(x_val.reshape(len(x_val), 45))"
   ]
  },
  {
   "cell_type": "code",
   "execution_count": 120,
   "metadata": {},
   "outputs": [
    {
     "name": "stdout",
     "output_type": "stream",
     "text": [
      "roc auc: 0.5728449904731904\n"
     ]
    }
   ],
   "source": [
    "print(\"roc auc:\", roc_auc_score(y_val, out)) # [:,1]"
   ]
  },
  {
   "cell_type": "markdown",
   "metadata": {},
   "source": [
    "### Train keras CNN"
   ]
  },
  {
   "cell_type": "code",
   "execution_count": 13,
   "metadata": {},
   "outputs": [],
   "source": [
    "from tensorflow import keras"
   ]
  },
  {
   "cell_type": "code",
   "execution_count": 17,
   "metadata": {},
   "outputs": [],
   "source": [
    "from tensorflow.keras.models import Sequential\n",
    "from tensorflow.keras.layers import Dense, Flatten, Dropout, Conv1D, MaxPooling1D"
   ]
  },
  {
   "cell_type": "code",
   "execution_count": 111,
   "metadata": {},
   "outputs": [],
   "source": [
    "window_size = 9\n",
    "n_features = 5\n",
    "\n",
    "epochs = 20\n",
    "batch_size = 16\n",
    "\n",
    "class_weight = {0: 1., 1: 2.}"
   ]
  },
  {
   "cell_type": "code",
   "execution_count": 87,
   "metadata": {},
   "outputs": [],
   "source": [
    "# normalize with general mean and std\n",
    "train_mean = np.mean(x_train)\n",
    "train_std = np.std(x_train)\n",
    "x_train_norm = (x_train-np.mean(x_train))/ np.std(x_train)\n",
    "x_val_norm = (x_val-train_mean)/train_std"
   ]
  },
  {
   "cell_type": "code",
   "execution_count": 88,
   "metadata": {},
   "outputs": [],
   "source": [
    "# normalize per feature\n",
    "means = np.mean(np.mean(x_train, axis=0), axis=0)\n",
    "stds = np.mean(np.std(x_train, axis=0), axis=0)\n",
    "x_train_std = (x_train - means)/stds\n",
    "x_val_std = (x_val - means)/stds\n",
    "x_test_std = (x_test - means)/stds"
   ]
  },
  {
   "cell_type": "code",
   "execution_count": 112,
   "metadata": {},
   "outputs": [],
   "source": [
    "# START CNN\n",
    "model = Sequential()\n",
    "model.add(Conv1D(filters=64, kernel_size=3, activation='relu', input_shape=(window_size,n_features)))\n",
    "model.add(Conv1D(filters=64, kernel_size=3, activation='relu'))\n",
    "model.add(Dropout(0.2))\n",
    "# model.add(MaxPooling1D(pool_size=2))\n",
    "model.add(Flatten())\n",
    "model.add(Dense(56, activation='relu'))\n",
    "model.add(Dropout(0.1))\n",
    "model.add(Dense(1, activation='sigmoid'))\n",
    "model.compile(loss='mean_squared_error', optimizer='sgd', metrics=['accuracy'])"
   ]
  },
  {
   "cell_type": "code",
   "execution_count": 113,
   "metadata": {},
   "outputs": [
    {
     "name": "stdout",
     "output_type": "stream",
     "text": [
      "Epoch 1/20\n",
      "41994/41994 [==============================] - 9s 221us/sample - loss: 0.0827 - acc: 0.9132\n",
      "Epoch 2/20\n",
      "41994/41994 [==============================] - 9s 212us/sample - loss: 0.0804 - acc: 0.9134\n",
      "Epoch 3/20\n",
      "41994/41994 [==============================] - 8s 182us/sample - loss: 0.0801 - acc: 0.9134\n",
      "Epoch 4/20\n",
      "41994/41994 [==============================] - 7s 173us/sample - loss: 0.0799 - acc: 0.9134\n",
      "Epoch 5/20\n",
      "41994/41994 [==============================] - 8s 179us/sample - loss: 0.0797 - acc: 0.9134\n",
      "Epoch 6/20\n",
      "41994/41994 [==============================] - 9s 217us/sample - loss: 0.0795 - acc: 0.9134\n",
      "Epoch 7/20\n",
      "41994/41994 [==============================] - 8s 201us/sample - loss: 0.0795 - acc: 0.9134s\n",
      "Epoch 8/20\n",
      "41994/41994 [==============================] - 11s 262us/sample - loss: 0.0793 - acc: 0.9134\n",
      "Epoch 9/20\n",
      "41994/41994 [==============================] - 9s 220us/sample - loss: 0.0792 - acc: 0.9134\n",
      "Epoch 10/20\n",
      "41994/41994 [==============================] - 8s 201us/sample - loss: 0.0793 - acc: 0.9134\n",
      "Epoch 11/20\n",
      "41994/41994 [==============================] - 8s 192us/sample - loss: 0.0793 - acc: 0.9134\n",
      "Epoch 12/20\n",
      "41994/41994 [==============================] - 8s 201us/sample - loss: 0.0791 - acc: 0.9134\n",
      "Epoch 13/20\n",
      "41994/41994 [==============================] - 8s 183us/sample - loss: 0.0792 - acc: 0.9134\n",
      "Epoch 14/20\n",
      "41994/41994 [==============================] - 7s 175us/sample - loss: 0.0791 - acc: 0.9134\n",
      "Epoch 15/20\n",
      "41994/41994 [==============================] - 7s 178us/sample - loss: 0.0790 - acc: 0.9134\n",
      "Epoch 16/20\n",
      "41994/41994 [==============================] - 7s 176us/sample - loss: 0.0790 - acc: 0.9134\n",
      "Epoch 17/20\n",
      "41994/41994 [==============================] - 7s 177us/sample - loss: 0.0788 - acc: 0.9134\n",
      "Epoch 18/20\n",
      "41994/41994 [==============================] - 7s 175us/sample - loss: 0.0790 - acc: 0.9134\n",
      "Epoch 19/20\n",
      "41994/41994 [==============================] - 7s 177us/sample - loss: 0.0789 - acc: 0.9134\n",
      "Epoch 20/20\n",
      "41994/41994 [==============================] - 7s 175us/sample - loss: 0.0789 - acc: 0.9134\n"
     ]
    },
    {
     "data": {
      "text/plain": [
       "<tensorflow.python.keras.callbacks.History at 0x144323828>"
      ]
     },
     "execution_count": 113,
     "metadata": {},
     "output_type": "execute_result"
    }
   ],
   "source": [
    "model.fit(x_train_norm, y_train, epochs=epochs, batch_size=batch_size) # , class_weight=class_weight)"
   ]
  },
  {
   "cell_type": "code",
   "execution_count": null,
   "metadata": {},
   "outputs": [],
   "source": []
  },
  {
   "cell_type": "code",
   "execution_count": 107,
   "metadata": {},
   "outputs": [
    {
     "name": "stdout",
     "output_type": "stream",
     "text": [
      "accuracy 0.9132058\n"
     ]
    }
   ],
   "source": [
    "# evaluate model\n",
    "_, accuracy = model.evaluate(x_val_norm, y_val, batch_size=batch_size, verbose=0)\n",
    "print(\"accuracy\", accuracy)"
   ]
  },
  {
   "cell_type": "code",
   "execution_count": 108,
   "metadata": {},
   "outputs": [],
   "source": [
    "out = model.predict(x_val_norm)"
   ]
  },
  {
   "cell_type": "code",
   "execution_count": 36,
   "metadata": {},
   "outputs": [],
   "source": [
    "from sklearn.metrics import accuracy_score, balanced_accuracy_score, roc_auc_score"
   ]
  },
  {
   "cell_type": "code",
   "execution_count": 109,
   "metadata": {},
   "outputs": [
    {
     "data": {
      "text/plain": [
       "0.5381542470157368"
      ]
     },
     "execution_count": 109,
     "metadata": {},
     "output_type": "execute_result"
    }
   ],
   "source": [
    "roc_auc_score(y_val, out)"
   ]
  },
  {
   "cell_type": "code",
   "execution_count": 110,
   "metadata": {},
   "outputs": [
    {
     "data": {
      "image/png": "[encoded data removed]",
      "text/plain": [
       "<Figure size 432x288 with 1 Axes>"
      ]
     },
     "metadata": {
      "needs_background": "light"
     },
     "output_type": "display_data"
    }
   ],
   "source": [
    "plt.hist(out)\n",
    "plt.show()"
   ]
  },
  {
   "cell_type": "markdown",
   "metadata": {},
   "source": [
    "## Train seq to seq CNN"
   ]
  },
  {
   "cell_type": "code",
   "execution_count": 174,
   "metadata": {},
   "outputs": [],
   "source": [
    "from sklearn.model_selection import train_test_split\n",
    "def get_split_sequences(x,y, test_size = 0.1, val_size = 0.1):\n",
    "    x_train, x_test, y_train, y_test = train_test_split(x, y, test_size=test_size, random_state=1)\n",
    "    x_train, x_val, y_train, y_val = train_test_split(x_train, y_train, test_size=val_size, random_state=1)\n",
    "    return x_train,  y_train, x_val, y_val, x_test, y_test\n",
    "\n",
    "def get_data_from_csv(seq_csv_name, pad=True, pad_max_len=400, test_size = 0.1, val_size = 0.1):\n",
    "    df = pd.read_csv(seq_csv_name)\n",
    "    x = [eval(d) for d in df[\"data\"]]\n",
    "    y = [eval(lab) for lab in df[\"labels\"]]\n",
    "    if pad:\n",
    "        x, y = pad_seq(x,y, max_len=pad_max_len)\n",
    "    # print(y.shape, [len(y_o) for y_o in y])\n",
    "    return get_split_sequences(x, y, test_size = test_size, val_size = val_size)\n",
    "\n",
    "def pad_seq(seq_data, seq_labels, pad_val=-1, max_len=None):\n",
    "    if max_len is None:\n",
    "        lens = np.array([len(seq) for seq in seq_data])\n",
    "        max_len = np.max(lens)\n",
    "    for i in range(len(seq_data)):\n",
    "        pad_len = max_len-len(seq_data[i])\n",
    "        if pad_len>0:\n",
    "            padding = np.array([[pad_val for _ in range(5)] for _ in range(pad_len)])\n",
    "            # print(s.shape, padding.shape)\n",
    "            seq_data[i] = np.concatenate([seq_data[i], padding], axis=0)\n",
    "            seq_labels[i] = list(seq_labels[i]) + [-1 for _ in range(pad_len)]\n",
    "        elif pad_len<0:\n",
    "            seq_data[i] = seq_data[i][:max_len]\n",
    "            seq_labels[i] = seq_labels[i][:max_len]\n",
    "    return np.array(seq_data), np.array(seq_labels)\n",
    "\n",
    "def pad_seq_data(seq_data, pad_val=-1, max_len=None):\n",
    "    if max_len is None:\n",
    "        lens = np.array([len(seq) for seq in seq_data])\n",
    "        max_len = np.max(lens)\n",
    "    new_seq = []\n",
    "    for i in range(len(seq_data)):\n",
    "        pad_len = max_len-len(seq_data[i])\n",
    "        if pad_len>0:\n",
    "            padding = np.array([[pad_val for _ in range(5)] for _ in range(pad_len)])\n",
    "            # print(s.shape, padding.shape)\n",
    "            seq_data[i] = np.concatenate([seq_data[i], padding], axis=0).tolist()\n",
    "        elif pad_len<0:\n",
    "            seq_data[i] = list(seq_data[i][:max_len])\n",
    "        new_seq.append(seq_data[i])\n",
    "    return np.array(new_seq)"
   ]
  },
  {
   "cell_type": "code",
   "execution_count": 126,
   "metadata": {},
   "outputs": [],
   "source": [
    "x_train,  y_train, x_val, y_val, x_test, y_test = get_data_from_csv(os.path.join(\"data\", \"data_sequences.csv\"))"
   ]
  },
  {
   "cell_type": "markdown",
   "metadata": {},
   "source": [
    "## Train seq predictive model"
   ]
  },
  {
   "cell_type": "code",
   "execution_count": 136,
   "metadata": {},
   "outputs": [],
   "source": [
    "linear_df = pd.read_csv(\"data/linear_data_seq.csv\")"
   ]
  },
  {
   "cell_type": "code",
   "execution_count": 169,
   "metadata": {},
   "outputs": [],
   "source": [
    "data = np.array([eval(d) for d in linear_df[\"data\"]])"
   ]
  },
  {
   "cell_type": "code",
   "execution_count": 170,
   "metadata": {},
   "outputs": [],
   "source": [
    "labels = linear_df[\"labels\"].values"
   ]
  },
  {
   "cell_type": "code",
   "execution_count": 146,
   "metadata": {},
   "outputs": [],
   "source": [
    "lens = np.array([len(d) for d in data])"
   ]
  },
  {
   "cell_type": "code",
   "execution_count": 147,
   "metadata": {},
   "outputs": [
    {
     "data": {
      "image/png": "[encoded data removed]",
      "text/plain": [
       "<Figure size 432x288 with 1 Axes>"
      ]
     },
     "metadata": {
      "needs_background": "light"
     },
     "output_type": "display_data"
    }
   ],
   "source": [
    "plt.hist(lens)\n",
    "plt.show()"
   ]
  },
  {
   "cell_type": "code",
   "execution_count": 157,
   "metadata": {},
   "outputs": [],
   "source": [
    "data = data[lens<30]\n",
    "labels = labels[lens<30]"
   ]
  },
  {
   "cell_type": "code",
   "execution_count": 159,
   "metadata": {},
   "outputs": [
    {
     "data": {
      "text/plain": [
       "(30396, 30396, 30556)"
      ]
     },
     "execution_count": 159,
     "metadata": {},
     "output_type": "execute_result"
    }
   ],
   "source": [
    "len(labels), len(data), len(linear_df) # slightly more if considering sequences above 30"
   ]
  },
  {
   "cell_type": "code",
   "execution_count": 193,
   "metadata": {},
   "outputs": [],
   "source": [
    "MAX_SEQ_LEN = 30"
   ]
  },
  {
   "cell_type": "code",
   "execution_count": 175,
   "metadata": {},
   "outputs": [],
   "source": [
    "data = pad_seq_data(data, max_len=MAX_SEQ_LEN, pad_val=-2)"
   ]
  },
  {
   "cell_type": "code",
   "execution_count": 178,
   "metadata": {},
   "outputs": [
    {
     "data": {
      "text/plain": [
       "((30556, 30, 5), 30556)"
      ]
     },
     "execution_count": 178,
     "metadata": {},
     "output_type": "execute_result"
    }
   ],
   "source": [
    "data.shape, len(labels)"
   ]
  },
  {
   "cell_type": "code",
   "execution_count": 181,
   "metadata": {},
   "outputs": [],
   "source": [
    "def get_train_test_linear(data, labels, train_size, test_size, val_size):\n",
    "    # first select train and test samples\n",
    "    inds = np.random.permutation(len(data))\n",
    "    train_inds = inds[:int(train_size*len(inds))]\n",
    "    test_inds = inds[int(train_size*len(inds)): int(train_size*len(inds))+int(test_size*len(inds))]\n",
    "    val_inds = inds[int(train_size*len(inds))+int(test_size*len(inds)):]\n",
    "    \n",
    "    x_train = data[train_inds]\n",
    "    y_train = labels[train_inds]\n",
    "    x_test = data[test_inds]\n",
    "    y_test = labels[test_inds]\n",
    "    x_val = data[val_inds]\n",
    "    y_val = labels[val_inds]\n",
    "\n",
    "    print(\"number of protein sequences:\", len(train_inds), len(test_inds), len(val_inds))\n",
    "    print(\"train:\", x_train.shape, y_train.shape,\"val:\", x_val.shape, y_val.shape, \"test:\", x_test.shape, y_test.shape)\n",
    "    return x_train, y_train, x_val, y_val, x_test, y_test"
   ]
  },
  {
   "cell_type": "markdown",
   "metadata": {},
   "source": [
    "#### 0-1-normalization"
   ]
  },
  {
   "cell_type": "code",
   "execution_count": 186,
   "metadata": {},
   "outputs": [],
   "source": [
    "data = (data-np.min(data))/ (np.max(data)-np.min(data))"
   ]
  },
  {
   "cell_type": "code",
   "execution_count": 187,
   "metadata": {},
   "outputs": [
    {
     "name": "stdout",
     "output_type": "stream",
     "text": [
      "number of protein sequences: 24444 3055 3057\n",
      "train: (24444, 30, 5) (24444,) val: (3057, 30, 5) (3057,) test: (3055, 30, 5) (3055,)\n"
     ]
    }
   ],
   "source": [
    "x_train, y_train, x_val, y_val, x_test, y_test = get_train_test_linear(data, labels, 0.8, 0.1, 0.1)"
   ]
  },
  {
   "cell_type": "markdown",
   "metadata": {},
   "source": [
    "### Train CNN to predict label of linear epitopes"
   ]
  },
  {
   "cell_type": "code",
   "execution_count": 194,
   "metadata": {},
   "outputs": [],
   "source": [
    "# START CNN\n",
    "model = Sequential()\n",
    "model.add(Conv1D(filters=64, kernel_size=3, activation='relu', input_shape=(MAX_SEQ_LEN,n_features)))\n",
    "model.add(Conv1D(filters=64, kernel_size=3, activation='relu'))\n",
    "# model.add(Dropout(0.2))\n",
    "# model.add(MaxPooling1D(pool_size=2))\n",
    "model.add(Flatten())\n",
    "model.add(Dense(56, activation='relu'))\n",
    "# model.add(Dropout(0.1))\n",
    "model.add(Dense(1, activation='sigmoid'))\n",
    "model.compile(loss='mean_squared_error', optimizer='adam', metrics=['accuracy'])"
   ]
  },
  {
   "cell_type": "code",
   "execution_count": 202,
   "metadata": {},
   "outputs": [
    {
     "name": "stdout",
     "output_type": "stream",
     "text": [
      "Epoch 1/20\n",
      "24444/24444 [==============================] - 3s 141us/sample - loss: 0.1927 - acc: 0.7107\n",
      "Epoch 2/20\n",
      "24444/24444 [==============================] - 3s 137us/sample - loss: 0.1916 - acc: 0.7111\n",
      "Epoch 3/20\n",
      "24444/24444 [==============================] - 3s 139us/sample - loss: 0.1903 - acc: 0.7142\n",
      "Epoch 4/20\n",
      "24444/24444 [==============================] - 3s 140us/sample - loss: 0.1891 - acc: 0.7160\n",
      "Epoch 5/20\n",
      "24444/24444 [==============================] - 4s 151us/sample - loss: 0.1874 - acc: 0.7194\n",
      "Epoch 6/20\n",
      "24444/24444 [==============================] - 4s 144us/sample - loss: 0.1858 - acc: 0.7240\n",
      "Epoch 7/20\n",
      "24444/24444 [==============================] - 4s 159us/sample - loss: 0.1835 - acc: 0.7255\n",
      "Epoch 8/20\n",
      "24444/24444 [==============================] - 4s 151us/sample - loss: 0.1817 - acc: 0.7310\n",
      "Epoch 9/20\n",
      "24444/24444 [==============================] - 3s 141us/sample - loss: 0.1791 - acc: 0.7360\n",
      "Epoch 10/20\n",
      "24444/24444 [==============================] - 4s 147us/sample - loss: 0.1759 - acc: 0.7403\n",
      "Epoch 11/20\n",
      "24444/24444 [==============================] - 4s 171us/sample - loss: 0.1734 - acc: 0.7453\n",
      "Epoch 12/20\n",
      "24444/24444 [==============================] - 4s 147us/sample - loss: 0.1709 - acc: 0.7513\n",
      "Epoch 13/20\n",
      "24444/24444 [==============================] - 4s 156us/sample - loss: 0.1671 - acc: 0.7597\n",
      "Epoch 14/20\n",
      "24444/24444 [==============================] - 4s 165us/sample - loss: 0.1644 - acc: 0.7637\n",
      "Epoch 15/20\n",
      "24444/24444 [==============================] - 4s 164us/sample - loss: 0.1612 - acc: 0.7696\n",
      "Epoch 16/20\n",
      "24444/24444 [==============================] - 4s 149us/sample - loss: 0.1579 - acc: 0.7774\n",
      "Epoch 17/20\n",
      "24444/24444 [==============================] - 4s 154us/sample - loss: 0.1546 - acc: 0.7820\n",
      "Epoch 18/20\n",
      "24444/24444 [==============================] - 4s 166us/sample - loss: 0.1511 - acc: 0.7894\n",
      "Epoch 19/20\n",
      "24444/24444 [==============================] - 5s 194us/sample - loss: 0.1474 - acc: 0.7948\n",
      "Epoch 20/20\n",
      "24444/24444 [==============================] - 4s 181us/sample - loss: 0.1444 - acc: 0.8019\n"
     ]
    },
    {
     "data": {
      "text/plain": [
       "<tensorflow.python.keras.callbacks.History at 0x15df11b00>"
      ]
     },
     "execution_count": 202,
     "metadata": {},
     "output_type": "execute_result"
    }
   ],
   "source": [
    "# evaluate model\n",
    "epochs = 20\n",
    "batch_size = 64\n",
    "model.fit(x_train, y_train, epochs=epochs, batch_size=batch_size) # , class_weight=class_weight)"
   ]
  },
  {
   "cell_type": "code",
   "execution_count": 208,
   "metadata": {},
   "outputs": [
    {
     "name": "stdout",
     "output_type": "stream",
     "text": [
      "accuracy 0.67615306\n"
     ]
    }
   ],
   "source": [
    "_, accuracy = model.evaluate(x_val, y_val, batch_size=batch_size, verbose=0)\n",
    "print(\"accuracy\", accuracy)"
   ]
  },
  {
   "cell_type": "code",
   "execution_count": 235,
   "metadata": {},
   "outputs": [],
   "source": [
    "out = model.predict(x_val)"
   ]
  },
  {
   "cell_type": "code",
   "execution_count": 236,
   "metadata": {},
   "outputs": [
    {
     "name": "stdout",
     "output_type": "stream",
     "text": [
      "roc auc: 0.6994965563368825\n"
     ]
    }
   ],
   "source": [
    "print(\"roc auc:\", roc_auc_score(y_val, out))"
   ]
  },
  {
   "cell_type": "code",
   "execution_count": 237,
   "metadata": {},
   "outputs": [
    {
     "data": {
      "text/plain": [
       "0.634401833004935"
      ]
     },
     "execution_count": 237,
     "metadata": {},
     "output_type": "execute_result"
    }
   ],
   "source": [
    "balanced_accuracy_score(y_val, (out>0.5).astype(int))"
   ]
  },
  {
   "cell_type": "code",
   "execution_count": 248,
   "metadata": {},
   "outputs": [
    {
     "name": "stdout",
     "output_type": "stream",
     "text": [
      "acc 1 labels 0.45284621920135937\n",
      "acc 0 labels 0.8159574468085107\n"
     ]
    }
   ],
   "source": [
    "print(\"acc 1 labels\", accuracy_score(y_val[y_val==1], (out[y_val==1]>0.5).astype(int)))\n",
    "print(\"acc 0 labels\", accuracy_score(y_val[y_val==0], (out[y_val==0]>0.5).astype(int)))"
   ]
  },
  {
   "cell_type": "markdown",
   "metadata": {},
   "source": [
    "## Evaluate on our epitopes"
   ]
  },
  {
   "cell_type": "code",
   "execution_count": 217,
   "metadata": {},
   "outputs": [],
   "source": [
    "epis_sars = np.load(\"epis_sars.npy\", allow_pickle=True)"
   ]
  },
  {
   "cell_type": "code",
   "execution_count": 218,
   "metadata": {},
   "outputs": [
    {
     "data": {
      "text/plain": [
       "299"
      ]
     },
     "execution_count": 218,
     "metadata": {},
     "output_type": "execute_result"
    }
   ],
   "source": [
    "len(epis_sars)"
   ]
  },
  {
   "cell_type": "code",
   "execution_count": 223,
   "metadata": {},
   "outputs": [],
   "source": [
    "epis_sars_data = pad_seq_data(epis_sars, max_len=MAX_SEQ_LEN, pad_val=-2)"
   ]
  },
  {
   "cell_type": "code",
   "execution_count": 228,
   "metadata": {},
   "outputs": [],
   "source": [
    "norm_epis_sars_data = (epis_sars_data-np.min(epis_sars_data))/(np.max(epis_sars_data)-np.min(epis_sars_data))"
   ]
  },
  {
   "cell_type": "code",
   "execution_count": 229,
   "metadata": {},
   "outputs": [],
   "source": [
    "out_sars = model.predict(norm_epis_sars_data)"
   ]
  },
  {
   "cell_type": "code",
   "execution_count": 230,
   "metadata": {},
   "outputs": [
    {
     "data": {
      "image/png": "[encoded data removed]",
      "text/plain": [
       "<Figure size 432x288 with 1 Axes>"
      ]
     },
     "metadata": {
      "needs_background": "light"
     },
     "output_type": "display_data"
    }
   ],
   "source": [
    "plt.hist(out_sars)\n",
    "plt.show()"
   ]
  },
  {
   "cell_type": "code",
   "execution_count": 231,
   "metadata": {},
   "outputs": [],
   "source": [
    "gt_epi_labels = [1 for _ in range(len(epis_sars))]"
   ]
  },
  {
   "cell_type": "code",
   "execution_count": 234,
   "metadata": {},
   "outputs": [
    {
     "data": {
      "text/plain": [
       "0.7157190635451505"
      ]
     },
     "execution_count": 234,
     "metadata": {},
     "output_type": "execute_result"
    }
   ],
   "source": [
    "accuracy_score(gt_epi_labels, (out_sars>0.5).astype(int))"
   ]
  },
  {
   "cell_type": "code",
   "execution_count": null,
   "metadata": {},
   "outputs": [],
   "source": []
  }
 ],
 "metadata": {
  "kernelspec": {
   "display_name": "Python 3",
   "language": "python",
   "name": "python3"
  },
  "language_info": {
   "codemirror_mode": {
    "name": "ipython",
    "version": 3
   },
   "file_extension": ".py",
   "mimetype": "text/x-python",
   "name": "python",
   "nbconvert_exporter": "python",
   "pygments_lexer": "ipython3",
   "version": "3.6.10"
  }
 },
 "nbformat": 4,
 "nbformat_minor": 4
}
