{
 "cells": [
  {
   "cell_type": "code",
   "execution_count": 1,
   "metadata": {},
   "outputs": [],
   "source": [
    "import pandas as pd\n",
    "import numpy as np\n",
    "import matplotlib.pyplot as plt\n",
    "import os"
   ]
  },
  {
   "cell_type": "code",
   "execution_count": 2,
   "metadata": {},
   "outputs": [],
   "source": [
    "property_dict = {\n",
    "    \"A\": [\"NonPolar\", 'Neutral', 'Hydrophobic', 'NonAromatic', 'NonIonizable'],\n",
    "    \"R\": [\"Polar\", \"Positive\", 'Hydrophilic', 'NonAromatic', 'Ionizable'],\n",
    "    \"N\": [\"Polar\", 'Neutral', 'Hydrophilic', 'NonAromatic', 'NonIonizable'],\n",
    "    \"D\": [\"Polar\", \"Negative\", 'Hydrophilic', 'NonAromatic', 'Ionizable'],\n",
    "    \"C\": [\"Polar\", 'Neutral', 'Hydrophilic', 'NonAromatic', 'Ionizable'],\n",
    "    \"Q\": [\"Polar\", 'Neutral', 'Hydrophilic', 'NonAromatic', 'NonIonizable'],\n",
    "    \"E\": [\"Polar\", \"Negative\", 'Hydrophilic', 'NonAromatic', 'Ionizable'],\n",
    "    \"G\": [\"NonPolar\", 'Neutral', 'Hydrophobic', 'NonAromatic', 'NonIonizable'],\n",
    "    \"H\": [\"Polar\", \"Positive\", 'Hydrophilic', 'NonAromatic', 'Ionizable'],\n",
    "    \"I\": [\"NonPolar\", 'Neutral', 'Hydrophobic', 'NonAromatic', 'NonIonizable'],\n",
    "    \"L\": [\"NonPolar\", 'Neutral', 'Hydrophobic', 'NonAromatic', 'NonIonizable'],\n",
    "    \"K\": [\"Polar\", \"Positive\", 'Hydrophilic', 'NonAromatic', 'Ionizable'],\n",
    "    \"M\": [\"NonPolar\", 'Neutral', 'Hydrophobic', 'NonAromatic', 'NonIonizable'],\n",
    "    \"F\": [\"NonPolar\", 'Neutral', 'Hydrophobic', \"Aromatic\", 'NonIonizable'],\n",
    "    \"P\": [\"NonPolar\", 'Neutral', 'Hydrophobic', 'NonAromatic', 'NonIonizable'],\n",
    "    \"S\": [\"Polar\", 'Neutral', 'Hydrophilic', 'NonAromatic', 'NonIonizable'],\n",
    "    \"T\": [\"Polar\", 'Neutral', 'Hydrophilic', 'NonAromatic', 'NonIonizable'],\n",
    "    \"W\": [\"NonPolar\", 'Neutral', 'Hydrophobic', \"Aromatic\", 'NonIonizable'],\n",
    "    \"Y\": [\"Polar\", 'Neutral', 'Hydrophobic', \"Aromatic\", 'Ionizable'],\n",
    "    \"V\": [\"NonPolar\", 'Neutral', 'Hydrophobic', 'NonAromatic', 'NonIonizable']\n",
    "}\n",
    "\n",
    "mapping = {'Hydrophobic':0, 'Hydrophilic':1, 'Neutral':0, 'Positive':1, 'Negative':-1, 'Polar':1, 'NonPolar':0, 'Aromatic':1, 'NonAromatic':0, 'Ionizable':1, 'NonIonizable':0}\n",
    "\n"
   ]
  },
  {
   "cell_type": "code",
   "execution_count": 4,
   "metadata": {},
   "outputs": [],
   "source": [
    "data_path = \"data\""
   ]
  },
  {
   "cell_type": "code",
   "execution_count": 5,
   "metadata": {},
   "outputs": [],
   "source": [
    "data = pd.read_csv(os.path.join(data_path, \"data_struct_features.csv\"))"
   ]
  },
  {
   "cell_type": "code",
   "execution_count": 6,
   "metadata": {},
   "outputs": [
    {
     "data": {
      "text/html": [
       "<div>\n",
       "<style scoped>\n",
       "    .dataframe tbody tr th:only-of-type {\n",
       "        vertical-align: middle;\n",
       "    }\n",
       "\n",
       "    .dataframe tbody tr th {\n",
       "        vertical-align: top;\n",
       "    }\n",
       "\n",
       "    .dataframe thead th {\n",
       "        text-align: right;\n",
       "    }\n",
       "</style>\n",
       "<table border=\"1\" class=\"dataframe\">\n",
       "  <thead>\n",
       "    <tr style=\"text-align: right;\">\n",
       "      <th></th>\n",
       "      <th>Unnamed: 0</th>\n",
       "      <th>our_id</th>\n",
       "      <th>metadata</th>\n",
       "      <th>position</th>\n",
       "      <th>amino_acid</th>\n",
       "      <th>data</th>\n",
       "      <th>labels</th>\n",
       "    </tr>\n",
       "  </thead>\n",
       "  <tbody>\n",
       "    <tr>\n",
       "      <th>0</th>\n",
       "      <td>0</td>\n",
       "      <td>0</td>\n",
       "      <td>1AHW_ED C 4</td>\n",
       "      <td>0</td>\n",
       "      <td>t</td>\n",
       "      <td>[[0.5, 0.5, 0.5, 0.5, 0.5], [0.5, 0.5, 0.5, 0....</td>\n",
       "      <td>0</td>\n",
       "    </tr>\n",
       "    <tr>\n",
       "      <th>1</th>\n",
       "      <td>1</td>\n",
       "      <td>0</td>\n",
       "      <td>1AHW_ED C 4</td>\n",
       "      <td>1</td>\n",
       "      <td>n</td>\n",
       "      <td>[[0.5, 0.5, 0.5, 0.5, 0.5], [0.5, 0.5, 0.5, 0....</td>\n",
       "      <td>0</td>\n",
       "    </tr>\n",
       "    <tr>\n",
       "      <th>2</th>\n",
       "      <td>2</td>\n",
       "      <td>0</td>\n",
       "      <td>1AHW_ED C 4</td>\n",
       "      <td>2</td>\n",
       "      <td>t</td>\n",
       "      <td>[[0.5, 0.5, 0.5, 0.5, 0.5], [0.5, 0.5, 0.5, 0....</td>\n",
       "      <td>0</td>\n",
       "    </tr>\n",
       "    <tr>\n",
       "      <th>3</th>\n",
       "      <td>3</td>\n",
       "      <td>0</td>\n",
       "      <td>1AHW_ED C 4</td>\n",
       "      <td>3</td>\n",
       "      <td>v</td>\n",
       "      <td>[[0.5, 0.5, 0.5, 0.5, 0.5], [1.0, 0.0, 1.0, 0....</td>\n",
       "      <td>0</td>\n",
       "    </tr>\n",
       "    <tr>\n",
       "      <th>4</th>\n",
       "      <td>4</td>\n",
       "      <td>0</td>\n",
       "      <td>1AHW_ED C 4</td>\n",
       "      <td>4</td>\n",
       "      <td>a</td>\n",
       "      <td>[[1.0, 0.0, 1.0, 0.0, 0.0], [1.0, 0.0, 1.0, 0....</td>\n",
       "      <td>0</td>\n",
       "    </tr>\n",
       "  </tbody>\n",
       "</table>\n",
       "</div>"
      ],
      "text/plain": [
       "   Unnamed: 0  our_id     metadata  position amino_acid  \\\n",
       "0           0       0  1AHW_ED C 4         0          t   \n",
       "1           1       0  1AHW_ED C 4         1          n   \n",
       "2           2       0  1AHW_ED C 4         2          t   \n",
       "3           3       0  1AHW_ED C 4         3          v   \n",
       "4           4       0  1AHW_ED C 4         4          a   \n",
       "\n",
       "                                                data  labels  \n",
       "0  [[0.5, 0.5, 0.5, 0.5, 0.5], [0.5, 0.5, 0.5, 0....       0  \n",
       "1  [[0.5, 0.5, 0.5, 0.5, 0.5], [0.5, 0.5, 0.5, 0....       0  \n",
       "2  [[0.5, 0.5, 0.5, 0.5, 0.5], [0.5, 0.5, 0.5, 0....       0  \n",
       "3  [[0.5, 0.5, 0.5, 0.5, 0.5], [1.0, 0.0, 1.0, 0....       0  \n",
       "4  [[1.0, 0.0, 1.0, 0.0, 0.0], [1.0, 0.0, 1.0, 0....       0  "
      ]
     },
     "execution_count": 6,
     "metadata": {},
     "output_type": "execute_result"
    }
   ],
   "source": [
    "data.head()"
   ]
  },
  {
   "cell_type": "code",
   "execution_count": 9,
   "metadata": {},
   "outputs": [],
   "source": [
    "def get_train_test(df, train_size, test_size, val_size):\n",
    "    # first select train and test samples\n",
    "    inds = np.random.permutation(len(np.unique(df[\"our_id\"])))\n",
    "    train_inds = inds[:int(train_size*len(inds))]\n",
    "    test_inds = inds[int(train_size*len(inds)): int(train_size*len(inds))+int(test_size*len(inds))]\n",
    "    val_inds = inds[int(train_size*len(inds))+int(test_size*len(inds)):]\n",
    "    \n",
    "    train_data = df[df['our_id'].isin(train_inds)]\n",
    "    test_data = df[df['our_id'].isin(test_inds)]\n",
    "    val_data = df[df['our_id'].isin(val_inds)]\n",
    "\n",
    "    x_train = np.array([d for d in train_data[\"data\"].values])\n",
    "    y_train = np.array(train_data[\"labels\"])\n",
    "    x_test = np.array([d for d in test_data[\"data\"].values])\n",
    "    y_test = np.array(test_data[\"labels\"])\n",
    "    x_val = np.array([d for d in val_data[\"data\"].values])\n",
    "    y_val = np.array(val_data[\"labels\"])\n",
    "\n",
    "    print(\"number of protein sequences:\", len(train_inds), len(test_inds), len(val_inds))\n",
    "    print(\"train:\", x_train.shape, y_train.shape,\"val:\", x_val.shape, y_val.shape, \"test:\", x_test.shape, y_test.shape)\n",
    "    return x_train, y_train, x_val, y_val, x_test, y_test"
   ]
  },
  {
   "cell_type": "code",
   "execution_count": 10,
   "metadata": {},
   "outputs": [
    {
     "name": "stdout",
     "output_type": "stream",
     "text": [
      "number of protein sequences: 181 51 27\n",
      "train: (45560,) (45560,) val: (5847,) (5847,) test: (10019,) (10019,)\n"
     ]
    }
   ],
   "source": [
    "train_size = 0.7\n",
    "test_size = 0.2\n",
    "val_size = 0.1\n",
    "x_train, y_train, x_val, y_val, x_test, y_test = get_train_test(data, train_size, test_size, val_size)"
   ]
  },
  {
   "cell_type": "code",
   "execution_count": null,
   "metadata": {},
   "outputs": [],
   "source": [
    "from tensorflow.keras.models import Sequential\n",
    "from tensorflow.keras.layers import Dense\n",
    "from tensorflow.keras.layers import Flatten\n",
    "from tensorflow.keras.layers import Dropout\n",
    "from tensorflow.keras.layers.convolutional import Conv1D\n",
    "from tensorflow.keras.layers.convolutional import MaxPooling1D"
   ]
  },
  {
   "cell_type": "code",
   "execution_count": 11,
   "metadata": {},
   "outputs": [
    {
     "name": "stdout",
     "output_type": "stream",
     "text": [
      "README.md         environment.yml   train_model.ipynb\r\n",
      "\u001b[1m\u001b[36mdata\u001b[m\u001b[m              prepareData.ipynb\r\n"
     ]
    }
   ],
   "source": [
    "!ls"
   ]
  },
  {
   "cell_type": "code",
   "execution_count": null,
   "metadata": {},
   "outputs": [],
   "source": [
    "window_size = 9\n",
    "n_features = 5\n",
    "\n",
    "epochs = 10\n",
    "batch_size = 16"
   ]
  },
  {
   "cell_type": "code",
   "execution_count": null,
   "metadata": {},
   "outputs": [],
   "source": [
    "# START CNN\n",
    "model = Sequential()\n",
    "model.add(Conv1D(filters=64, kernel_size=3, activation='relu', input_shape=(window_size,n_features)))\n",
    "model.add(Conv1D(filters=64, kernel_size=3, activation='relu'))\n",
    "# model.add(Dropout(0.5))\n",
    "# model.add(MaxPooling1D(pool_size=2))\n",
    "model.add(Flatten())\n",
    "model.add(Dense(100, activation='relu'))\n",
    "model.add(Dense(1, activation='sigmoid'))\n",
    "model.compile(loss='mean_squared_error', optimizer='adam', metrics=['accuracy'])"
   ]
  },
  {
   "cell_type": "code",
   "execution_count": null,
   "metadata": {},
   "outputs": [],
   "source": [
    "model.fit(x_train, y_train, epochs=epochs, batch_size=batch_size)"
   ]
  },
  {
   "cell_type": "code",
   "execution_count": null,
   "metadata": {},
   "outputs": [],
   "source": [
    "# evaluate model\n",
    "_, accuracy = model.evaluate(x_val, y_val, batch_size=batch_size, verbose=0)\n",
    "print(\"accuracy\", accuracy)"
   ]
  }
 ],
 "metadata": {
  "kernelspec": {
   "display_name": "Python 3",
   "language": "python",
   "name": "python3"
  },
  "language_info": {
   "codemirror_mode": {
    "name": "ipython",
    "version": 3
   },
   "file_extension": ".py",
   "mimetype": "text/x-python",
   "name": "python",
   "nbconvert_exporter": "python",
   "pygments_lexer": "ipython3",
   "version": "3.7.4"
  }
 },
 "nbformat": 4,
 "nbformat_minor": 4
}
