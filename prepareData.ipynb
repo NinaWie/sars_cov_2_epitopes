{
 "cells": [
  {
   "cell_type": "code",
   "execution_count": 30,
   "metadata": {},
   "outputs": [],
   "source": [
    "import pandas as pd\n",
    "import numpy as np\n",
    "import matplotlib.pyplot as plt\n",
    "import os"
   ]
  },
  {
   "cell_type": "markdown",
   "metadata": {},
   "source": [
    "### Define path to data"
   ]
  },
  {
   "cell_type": "code",
   "execution_count": 31,
   "metadata": {},
   "outputs": [],
   "source": [
    "base_path = \"data/raw\""
   ]
  },
  {
   "cell_type": "code",
   "execution_count": 32,
   "metadata": {},
   "outputs": [],
   "source": [
    "property_dict = {\n",
    "    \"A\": [\"NonPolar\", 'Neutral', 'Hydrophobic', 'NonAromatic', 'NonIonizable'],\n",
    "    \"R\": [\"Polar\", \"Positive\", 'Hydrophilic', 'NonAromatic', 'Ionizable'],\n",
    "    \"N\": [\"Polar\", 'Neutral', 'Hydrophilic', 'NonAromatic', 'NonIonizable'],\n",
    "    \"D\": [\"Polar\", \"Negative\", 'Hydrophilic', 'NonAromatic', 'Ionizable'],\n",
    "    \"C\": [\"Polar\", 'Neutral', 'Hydrophilic', 'NonAromatic', 'Ionizable'],\n",
    "    \"Q\": [\"Polar\", 'Neutral', 'Hydrophilic', 'NonAromatic', 'NonIonizable'],\n",
    "    \"E\": [\"Polar\", \"Negative\", 'Hydrophilic', 'NonAromatic', 'Ionizable'],\n",
    "    \"G\": [\"NonPolar\", 'Neutral', 'Hydrophobic', 'NonAromatic', 'NonIonizable'],\n",
    "    \"H\": [\"Polar\", \"Positive\", 'Hydrophilic', 'NonAromatic', 'Ionizable'],\n",
    "    \"I\": [\"NonPolar\", 'Neutral', 'Hydrophobic', 'NonAromatic', 'NonIonizable'],\n",
    "    \"L\": [\"NonPolar\", 'Neutral', 'Hydrophobic', 'NonAromatic', 'NonIonizable'],\n",
    "    \"K\": [\"Polar\", \"Positive\", 'Hydrophilic', 'NonAromatic', 'Ionizable'],\n",
    "    \"M\": [\"NonPolar\", 'Neutral', 'Hydrophobic', 'NonAromatic', 'NonIonizable'],\n",
    "    \"F\": [\"NonPolar\", 'Neutral', 'Hydrophobic', \"Aromatic\", 'NonIonizable'],\n",
    "    \"P\": [\"NonPolar\", 'Neutral', 'Hydrophobic', 'NonAromatic', 'NonIonizable'],\n",
    "    \"S\": [\"Polar\", 'Neutral', 'Hydrophilic', 'NonAromatic', 'NonIonizable'],\n",
    "    \"T\": [\"Polar\", 'Neutral', 'Hydrophilic', 'NonAromatic', 'NonIonizable'],\n",
    "    \"W\": [\"NonPolar\", 'Neutral', 'Hydrophobic', \"Aromatic\", 'NonIonizable'],\n",
    "    \"Y\": [\"Polar\", 'Neutral', 'Hydrophobic', \"Aromatic\", 'Ionizable'],\n",
    "    \"V\": [\"NonPolar\", 'Neutral', 'Hydrophobic', 'NonAromatic', 'NonIonizable']\n",
    "}"
   ]
  },
  {
   "cell_type": "markdown",
   "metadata": {},
   "source": [
    "### Transform property dictionary"
   ]
  },
  {
   "cell_type": "code",
   "execution_count": 33,
   "metadata": {},
   "outputs": [],
   "source": [
    "mapping = {'Hydrophobic':0, 'Hydrophilic':1, 'Neutral':0, 'Positive':1, 'Negative':-1, 'Polar':1, 'NonPolar':0, 'Aromatic':1, 'NonAromatic':0, 'Ionizable':1, 'NonIonizable':0}\n"
   ]
  },
  {
   "cell_type": "code",
   "execution_count": 35,
   "metadata": {},
   "outputs": [],
   "source": [
    "prop_arr = np.asarray([v for v in property_dict.values()])\n",
    "# for i in range(len(prop_arr[:,0]"
   ]
  },
  {
   "cell_type": "code",
   "execution_count": 36,
   "metadata": {},
   "outputs": [],
   "source": [
    "feature_dict = {}\n",
    "for key in property_dict.keys():\n",
    "    vals = [mapping[p] for p in property_dict[key]]\n",
    "    feature_dict[key.lower()] = vals"
   ]
  },
  {
   "cell_type": "code",
   "execution_count": 37,
   "metadata": {},
   "outputs": [
    {
     "data": {
      "text/plain": [
       "{'a': [0, 0, 0, 0, 0],\n",
       " 'r': [1, 1, 1, 0, 1],\n",
       " 'n': [1, 0, 1, 0, 0],\n",
       " 'd': [1, -1, 1, 0, 1],\n",
       " 'c': [1, 0, 1, 0, 1],\n",
       " 'q': [1, 0, 1, 0, 0],\n",
       " 'e': [1, -1, 1, 0, 1],\n",
       " 'g': [0, 0, 0, 0, 0],\n",
       " 'h': [1, 1, 1, 0, 1],\n",
       " 'i': [0, 0, 0, 0, 0],\n",
       " 'l': [0, 0, 0, 0, 0],\n",
       " 'k': [1, 1, 1, 0, 1],\n",
       " 'm': [0, 0, 0, 0, 0],\n",
       " 'f': [0, 0, 0, 1, 0],\n",
       " 'p': [0, 0, 0, 0, 0],\n",
       " 's': [1, 0, 1, 0, 0],\n",
       " 't': [1, 0, 1, 0, 0],\n",
       " 'w': [0, 0, 0, 1, 0],\n",
       " 'y': [1, 0, 0, 1, 1],\n",
       " 'v': [0, 0, 0, 0, 0]}"
      ]
     },
     "execution_count": 37,
     "metadata": {},
     "output_type": "execute_result"
    }
   ],
   "source": [
    "feature_dict"
   ]
  },
  {
   "cell_type": "markdown",
   "metadata": {},
   "source": [
    "## Notes"
   ]
  },
  {
   "cell_type": "markdown",
   "metadata": {},
   "source": [
    "The RF was trained in a 5-fold cross-validation manner training on 4 of the 5 partitions using the epitope residues (positive dataset) and a subset of randomly selected non-epitope residues (negative dataset)\n",
    "\n",
    "Each amino acid was encoded using the volume (5), hydrophobicity (6) and polarity (7) combined with the relative surface accessibility (RSA) and secondary structure (SS) predicted using NetsurfP (8).\n",
    "\n",
    "Possible feature: Sum of volumes of residues (equation 1 in supple)"
   ]
  },
  {
   "cell_type": "markdown",
   "metadata": {},
   "source": [
    "### Load epitope data of SARS"
   ]
  },
  {
   "cell_type": "code",
   "execution_count": 38,
   "metadata": {},
   "outputs": [],
   "source": [
    "data = pd.read_csv(os.path.join(base_path, \"epitope_table_export_1582825906.csv\"))"
   ]
  },
  {
   "cell_type": "code",
   "execution_count": 39,
   "metadata": {},
   "outputs": [],
   "source": [
    "epitopes_sars = data[\"Epitope.2\"][1:]"
   ]
  },
  {
   "cell_type": "code",
   "execution_count": 40,
   "metadata": {},
   "outputs": [
    {
     "name": "stdout",
     "output_type": "stream",
     "text": [
      "AALVSGTATAGWTFGAG\n",
      "AATKMSECVLGQSKRVD\n",
      "AATVLQLPQGTTLPK\n",
      "AAYFVGYLKPTTFMLKY\n",
      "AGCLIGAEHVDTSYECD\n",
      "AIPTNFSISITTEVMPV\n",
      "AISSVLNDILSRLDKVE\n",
      "ALALLLLDRLNQLESKV\n",
      "ALNCYW\n",
      "ALNCYWPLNDYGFYTTTGIGYQPYRVVVLSFEL + ACET(A1)\n",
      "AMDPIYDEPTTTTSVPL\n",
      "AMQMAYRF\n",
      "ANKEGIVWVATEGALN\n",
      "APRITFGGPTDSTDNNQN\n",
      "AQKFNGLTVLPPLLTDD\n",
      "ASSRSSSRSRGNSRNST\n",
      "ASWFTALTQHGKEELRFPRGQ\n",
      "ATEKSNVVRGWV\n",
      "AYFPREGVFVFNGTSWF\n",
      "AYSNNTIAIPTNFSISI\n",
      "CANLLLQYGSFCTQLNRALSGIA\n",
      "CASYHTVSLLRSTSQKS\n",
      "CDIPIGAGICASYHTVS\n",
      "CGPKLSTDLIKNQCVNF\n",
      "CGPKLSTDLIKNQCVNFNFNGLTGTGVLTPSSKRFQPFQQFG\n",
      "CGPKLSTDLIKNQCVNFNFNGLTGTGVLTPSSKRFQPFQQFGRDVSDFTD\n",
      "CKFDEDDSEPVLKGVKLHYT\n",
      "CSQNPLAELKCSVKSFE\n",
      "CSQNPLAELKCSVKSFEIDKGIYQTSNFRVVPSGD\n",
      "CTDVSTAIHADQLTPAW\n",
      "CTDVSTAIHADQLTPAWRIYSTGNNVFQTQAG\n",
      "CTPPALNCYWPLNDYGF\n",
      "CTTFDDVQAPNYTQHTSSMRGVYYPDEIFR\n",
      "CVLAWNTRNIDATSTGN\n",
      "CYGVSATKLNDLCFSNV\n",
      "CYWPLNDYGFYTTTGIG\n",
      "DDKDPQFKDNVILLNKHIDA\n",
      "DDSEPVLKGVKLHYT\n",
      "DFCGKGYHLMSFPQAAP\n",
      "DFSRQLQNSMSGASA\n",
      "DGIYFAATEKSNVVRGW\n",
      "DLGDISGINASVVNIQK\n",
      "DLPSGFNTLKPIFKLPL\n",
      "DMIAAYTAALVSGTATA\n",
      "DNIKDC\n",
      "DRCTTFDDVQAPNYTQH\n",
      "DRLNQLESKVSGKGQQQQ\n",
      "DVNLHSSR\n",
      "DVSEKSGNFKHLREFVF\n",
      "DVVNQNAQALNTLVKQL\n",
      "EAEVQIDRLITGRLQSL\n",
      "EASLPYGANKEGIVWVA\n",
      "EIDKGIYQTSNFRVVPS\n",
      "EIDRLNEVAKNLNESLIDLQELGKYEQY + ACET(E1)\n",
      "EPKKDKKKKTDEAQPL\n",
      "ESLTTTSTALGKLQDVV\n",
      "EVAKNLNESLIDLQELG\n",
      "FFAVSKPMGTQTHTMIF\n",
      "FFGMSRIGMEVTPSGTW\n",
      "FFSTFKCYGVSATKLND\n",
      "FGEVFNAT\n",
      "FIEDLLFNKVTLADAGF\n",
      "FKHLREFVFKNKDGFLY\n",
      "FKNKDGFLYVYKGYQPI\n",
      "FQQFGRDVSDFTDSVRDPKT\n",
      "FRSDTLYLTQDLFLPFY\n",
      "FTDSVRDPKTSEILDIS\n",
      "FVFNGTSWFITQRNFFS\n",
      "GAALQIPFAMQMAYRFN\n",
      "GAGICASY\n",
      "GALNTPKDHIGTRNPNNNA\n",
      "GAVIIRGHLRMAGHSLGR\n",
      "GFMKQYGECLGDINARD\n",
      "GFYTTTGIGYQPYRVVV\n",
      "GIGVTQNVLYENQKQIA\n",
      "GLPNNTASWFTALTQHGK\n",
      "GNFGDQDLIRQGTDYKHW\n",
      "GRCDIKDLPKEITVATSR\n",
      "GRNGARPKQRRPQGL\n",
      "GSFCTQLN\n",
      "GTTLPK\n",
      "GVLTPSSKRFQPFQQFG\n",
      "GVLTPSSKRFQPFQQFGRDVSDFTDSVRDPK\n",
      "GWVFGSTMNNKSQSVII\n",
      "GYQPYRVVVLSFELLNA\n",
      "HADQLTPAWRIYSTGNN\n",
      "HEGKAYFPREGV\n",
      "HGKEELRFPRGQGVPI\n",
      "HTINHTFGNPVIPFKDG\n",
      "HTSSMRGVYYPDEIFRS\n",
      "HVDTSYECDIPIGAGIC\n",
      "IAAEQDRNTREVFAQVK\n",
      "IADYNYKLPDDFMGCVL\n",
      "IAGLIAIVMVTILLCCM\n",
      "IAPGQTGVIADYNYKLP\n",
      "IGTRNPNNNAATVLQL\n",
      "IINNSTNVVIRACNFEL\n",
      "IKLNG\n",
      "ILSRLDKVEAEVQIDRL\n",
      "IRQGTDYKHWPQIAQFA\n",
      "ISPCAFGGVSVITPGTN\n",
      "ITVATSRT\n",
      "ITVEELKQ\n",
      "ITVEELKQLLEQWNLVI\n",
      "IVWVATEGALNTPKDHI\n",
      "KAISQIQESLTTTSTAL\n",
      "KDKKKKTDEAQPLPQRQKKQ\n",
      "KGIYQTSN\n",
      "KGIYQTSNFRVVPSGDVVRF\n",
      "KHIDAYKTFPPTEPKKDKKK\n",
      "KHKKVSTNLCTHSFRKKQVR\n",
      "KHWPQIAQFAPSASAFF\n",
      "KKISNCVADYSVLYNST\n",
      "KKQPTVTLLPAADMDDF\n",
      "KKSAAEASKKPRQKRTA\n",
      "KKSAAEASKKPRQKRTATKQYNVTQ\n",
      "KKTDEAQPLPQRQKK\n",
      "KLDDKDPQFKDNVILL\n",
      "KLFIRQEEVQQELYSP\n",
      "KLNDLCFSNVYADSFVV\n",
      "KLNTDHAGSNDNIALLVQ\n",
      "KLPDDFMGCVLAWNTRN\n",
      "KNHTSPDVDLGDISGIN\n",
      "KPTTFMLKYDENGTITD\n",
      "KRTATKQYNVTQAFGRR\n",
      "KSIVAYTMSLGADSSIA\n",
      "KTFPPTEPKKDKKKK\n",
      "KTSVDCNMYICGDSTEC\n",
      "KVSGKGQQQQGQTVTKK\n",
      "KVTAFQHQNSKKTTK\n",
      "LCPFGEVFNATKFPSVY\n",
      "LEDPCKV\n",
      "LGINITNFRAILTAFSP\n",
      "LIKNQCVNFNFNGLTGT\n",
      "LKCSVKSFEIDKGIYQT\n",
      "LKGACSCGSCCKFDEDD\n",
      "LKPIFKLPLGINITNFR\n",
      "LLFNKVTLADAGFMKQYGECLGDINA\n",
      "LLPAAD\n",
      "LLPAADMDDFSRQLQNSM\n",
      "LLRSTSQK\n",
      "LLRSTSQKSIVAYTMSL\n",
      "LMESELVIGAVIIRGHLR\n",
      "LMESELVIGAVIIRGHLRMAGHPLGRCDIK\n",
      "LMSFPQAAPHGVVFLHV\n",
      "LNKHIDAYKTFPPTEPK\n",
      "LPQGTTLPKG + ACET(L1)\n",
      "LPQRQKKQ\n",
      "LQNSMSGASADSTQA\n",
      "LQYGSFCTQLNRALSGI\n",
      "LRMAGHSLGRCDIKDLPK\n",
      "LTPAWRIYSTGNNVFQ\n",
      "LVIGAVIIRGHLRMAGHSLGR\n",
      "LYQDVNCTDVSTAIHAD\n",
      "MADNGTITVEELKQL\n",
      "MADNGTITVEELKQLL\n",
      "MADNGTITVEELKQLLEQ\n",
      "MADNGTITVEELKQLLEQWNLVIGFLFLAWI\n",
      "MASGGGETALALLLLDRL\n",
      "MAYRFNGIGVTQNVLYE\n",
      "MEVTPSGTWLTYHGAIK\n",
      "MFIFLLFLTLTSGSDLD\n",
      "MLKYDENGTITDAVDCS\n",
      "MSDNGPQSNQRSAPRI\n",
      "MSDNGPQSNQRSAPRIT\n",
      "MVTILLCCMTSCCSCLK\n",
      "NAFNCTFEYISDAFSLD\n",
      "NAPATVCGPKLSTDLIK\n",
      "NASSEVAVLYQDVNCTD\n",
      "NFELCDNPFFAVSKPMG\n",
      "NFNGLTGTGVLTPSSKR\n",
      "NFSISI\n",
      "NIDATSTGNYNYKYRYL\n",
      "NNKSQSVIIINNSTNVV\n",
      "NPVIPFKDGIYFAATEK\n",
      "NTNSGPDDQIGYYRRATR\n",
      "NTRNIDATSTGN\n",
      "NVFQTQAGCLIGAEHVD\n",
      "NVYADSFVVKGDDVRQI\n",
      "NYNYKYRYLRHGKLRPF\n",
      "PAICHEGKAYFPREGVFVFNGTSWFITQRNFFS\n",
      "PFAMQMAYRFNGIGVTQ\n",
      "PFSPDGKPCTPP\n",
      "PHGVVFLHVTYVPSQER\n",
      "PKEITVATSRTLSYYKL\n",
      "PKGFYAEGSRGGSQASSR\n",
      "PKQRRPQGLPNNTASWFT\n",
      "PKTSEILDISPCAFGGV\n",
      "PLKPTKRSFIEDLLF\n",
      "PLKPTKRSFIEDLLFNK\n",
      "PMGTQTHTMIFDNAFNC\n",
      "PSSKRFQPFQQFGRD\n",
      "PSSKRFQPFQQFGRDVSDFT\n",
      "PSSKRFQPFQQFGRDVSDFTDSVRDPKTSE\n",
      "PSVYAWERKKISNCVAD\n",
      "PTDSTDNNQNGGRNGARPKQRRPQ\n",
      "PVSMAKTSVDCNMYICGDS\n",
      "PWYVWLGFIAGLIAIVM\n",
      "QALNTLVKQLSSNFGAI\n",
      "QDVNCTDVSTAIHADQLTPAWR\n",
      "QFAPSASAFFGMSRIGM\n",
      "QFGRDVSDFTDSVRDPK\n",
      "QFKDNVILLNKHIDAYK\n",
      "QGTDYKHW\n",
      "QIANQFNKAISQIQESL\n",
      "QIGYYRRATRRVRGGDGK\n",
      "QILPDPLKPTKRSFIEDLLFNKVTLA + ACET(Q1)\n",
      "QLIRAAEIRASANLAAT\n",
      "QLNRALSGIAAEQDRNT\n",
      "QLPQGTTLPKGFYAE\n",
      "QLPQGTTLPKGFYAEGSR\n",
      "QLPQGTTLPKGFYAEGSRGGSQ\n",
      "QPLPQRQKKQPTVTLL\n",
      "QQFGRD\n",
      "QQQGQTVTKKSAAEASKK\n",
      "QRQKKQPTVTLLPAADMDDFSRQ\n",
      "QSNQRSAPRITFGGPTDS\n",
      "RAILTAFSPAQDIWGTS\n",
      "RASANLAATKMSECVLG\n",
      "RDVSDFTDSVRDPKTSEI\n",
      "RFPRGQGVPINTNSGPDDQI\n",
      "RFQPFQQFGRDVSDFTD\n",
      "RGPEQTQGNFGDQDLIR\n",
      "RITFGGPTDSTDNNQNGGR\n",
      "RLITGRLQSLQTYVTQQ\n",
      "RNFTTAPAICHEGKAYF\n",
      "RPFERDISNVPFSPDGK\n",
      "RPKQRRPQGLPNNTASWF\n",
      "RSAPRITFG\n",
      "RSRGNSRNSTPGSSR\n",
      "RVKN\n",
      "SGDVVRFPNITNLCPFG\n",
      "SGNCDVVIGIINNTVYD\n",
      "SKKPRQKRTATKQYNV\n",
      "SLGADSSIAYSNNTIAI\n",
      "SLQTYVTQQLIRAAEIR\n",
      "SNVPFSPDGKPCTPPAL\n",
      "SPAQDIWGTSAAAYFVG\n",
      "SPDGKPCTPPALNCYWP\n",
      "SQASSRSS\n",
      "SRGGSQASSRSSSRSR\n",
      "SRGNSPARMASGGGETAL\n",
      "SRNSTPGSSRGNSPARMA\n",
      "SRVKNLNSSEGVPDLLV\n",
      "SSEVAVLYQDVNCTDV\n",
      "STAIHADQLTPAWRIY\n",
      "STDNNQNGGRNGARPKQR\n",
      "TAGWTFGAGAALQIPFA\n",
      "TALGKLQDVVNQNAQAL\n",
      "TDHAGSNDNIALLVQ\n",
      "TDNNQNGGRNGARPKQRRP\n",
      "TDVSTAIHADQLTPAWRIYSTG + ACET(T1)\n",
      "TECANLLLQYGSFCTQL\n",
      "TEPKKDKKKKTDEAQPLPQRQKK + ACET(T1)\n",
      "TFPPTEPK\n",
      "TITDAVDCSQNPLAELK\n",
      "TKKNYSELDDEEPMELDYP\n",
      "TLKYFGGFNFSQILPDP\n",
      "TLTSGSDLDRCTTFDDV\n",
      "TNVVIRACNFELCDNPF\n",
      "TPSSKRFQPFQQFGRDVSDFT\n",
      "TQDLFLPFYSNVTGFHT\n",
      "TRRVRGGDGKMKELSPRW\n",
      "TSNFRVVPSGDVVRFPN\n",
      "TSRTLSYYKLGASQRV\n",
      "TVYDPLQPELDSFKEEL\n",
      "VIGIINNTVYDPLQPEL\n",
      "VITPGTNASSEVAVLY\n",
      "VKQMYKTPTLKYFGGFN\n",
      "VLPPLLTDDMIAAYTAA\n",
      "VLSFELLNAPATVCGPK\n",
      "VLYENQKQIANQFNKAI\n",
      "VQAPNYTQHTSSMRGVY\n",
      "VRFPNITNLCPFGEVFN\n",
      "VSDFTDSV\n",
      "VSVITPGTNASSEVAVL\n",
      "VSVITPGTNASSEVAVLYQDVNCTDVSTAIHADQLTPAWRIYSTGNNVFQ\n",
      "VTYVPSQERNFTTAPAI\n",
      "VYYPDEIFRSDTLYLTQD\n",
      "WFTALTQHGKEELRFPR\n",
      "WGTSAAAYFVGYLKPTT\n",
      "WLTYHGAIKLDDKDPQF\n",
      "WRIYSTGNNVFQTQAGC\n",
      "YICGDSTECANLLLQYG\n",
      "YISDAFSLDVSEKSGNF\n",
      "YLGTGPEASLPYGANK\n",
      "YLTQDL\n",
      "YNVTQAFGRRGPEQTQGNF\n",
      "YQPIDVVRDLPSGFNTL\n",
      "YSNVTGFHT\n",
      "YSVLYNSTFFSTFKCYG\n",
      "YVYKGYQPIDVVRDLPS\n",
      "KLRPFERDISNV\n",
      "ALNCYWPLNDYGFYTTTGIGYQPYRVVVLSFEL\n",
      "EIDRLNEVAKNLNESLIDLQELGKYEQY\n",
      "LYQDVN\n",
      "LYQDVNC\n",
      "LYQDVNCT\n",
      "LYQDVNCTDVSTAIHADQLTPAWRIYSTG\n",
      "TDVSTAIHADQLTPAWRIYSTG\n"
     ]
    }
   ],
   "source": [
    "for epi in epitopes_sars:\n",
    "    print(epi)"
   ]
  },
  {
   "cell_type": "code",
   "execution_count": 41,
   "metadata": {},
   "outputs": [
    {
     "name": "stdout",
     "output_type": "stream",
     "text": [
      "mean epitope length: 17.42\n"
     ]
    }
   ],
   "source": [
    "print(\"mean epitope length:\", np.mean([len(epi) for epi in epitopes_sars])) # , return_counts=True)"
   ]
  },
  {
   "cell_type": "markdown",
   "metadata": {},
   "source": [
    "### Load structural data of paper"
   ]
  },
  {
   "cell_type": "code",
   "execution_count": 42,
   "metadata": {},
   "outputs": [],
   "source": [
    "with open(os.path.join(base_path, \"pdb_chains.fasta.txt\"), \"r\") as infile:\n",
    "    txt = infile.read()\n",
    "structured = txt.split(\">\")[1:]"
   ]
  },
  {
   "cell_type": "code",
   "execution_count": 113,
   "metadata": {},
   "outputs": [],
   "source": [
    "struct_metadata = list()\n",
    "struct_sequ = list()\n",
    "struct_lab_arr = list()\n",
    "for entry in structured:\n",
    "    split_entry = entry.split(\"\\n\")\n",
    "    struct_metadata.append(split_entry[0])\n",
    "    struct_sequ.append(split_entry[1])\n",
    "    labels = [int(s.isupper()) for s in split_entry[1]]\n",
    "    struct_lab_arr.append(labels)\n",
    "struct_lab_arr = np.array(struct_lab_arr)"
   ]
  },
  {
   "cell_type": "code",
   "execution_count": 44,
   "metadata": {},
   "outputs": [
    {
     "name": "stdout",
     "output_type": "stream",
     "text": [
      "statlclghhavpngtlvktitddqievtnatelvqsssTGKicnnphriLDgIDctlidallgdPHcdVFqnEtwdlfveRsKaFsncypydvpdyaslrslvassgtlefitegftwtgvtqnggsnackrgpgsgffsrlnwltksgstypvlnvtmpnndnfdklyiwgihhpstnqeqtslyvqasgrvtvstrrsqqtiipnigsrpwvrglssrisiywtivkpgdvlvinsngnliaprgyfkmrtgkssimrsDAPIdtcisecitpngsipndkpfqnvnkitygacpkyvkqntlklatgmrnvpekq\n",
      "[0, 0, 0, 0, 0, 0, 0, 0, 0, 0, 0, 0, 0, 0, 0, 0, 0, 0, 0, 0, 0, 0, 0, 0, 0, 0, 0, 0, 0, 0, 0, 0, 0, 0, 0, 0, 0, 0, 0, 1, 1, 1, 0, 0, 0, 0, 0, 0, 0, 0, 1, 1, 0, 1, 1, 0, 0, 0, 0, 0, 0, 0, 0, 0, 0, 1, 1, 0, 0, 1, 1, 0, 0, 1, 0, 0, 0, 0, 0, 0, 0, 1, 0, 1, 0, 1, 0, 0, 0, 0, 0, 0, 0, 0, 0, 0, 0, 0, 0, 0, 0, 0, 0, 0, 0, 0, 0, 0, 0, 0, 0, 0, 0, 0, 0, 0, 0, 0, 0, 0, 0, 0, 0, 0, 0, 0, 0, 0, 0, 0, 0, 0, 0, 0, 0, 0, 0, 0, 0, 0, 0, 0, 0, 0, 0, 0, 0, 0, 0, 0, 0, 0, 0, 0, 0, 0, 0, 0, 0, 0, 0, 0, 0, 0, 0, 0, 0, 0, 0, 0, 0, 0, 0, 0, 0, 0, 0, 0, 0, 0, 0, 0, 0, 0, 0, 0, 0, 0, 0, 0, 0, 0, 0, 0, 0, 0, 0, 0, 0, 0, 0, 0, 0, 0, 0, 0, 0, 0, 0, 0, 0, 0, 0, 0, 0, 0, 0, 0, 0, 0, 0, 0, 0, 0, 0, 0, 0, 0, 0, 0, 0, 0, 0, 0, 0, 0, 0, 0, 0, 0, 0, 0, 0, 0, 0, 0, 0, 0, 0, 0, 0, 0, 0, 0, 0, 0, 0, 0, 0, 0, 0, 0, 1, 1, 1, 1, 0, 0, 0, 0, 0, 0, 0, 0, 0, 0, 0, 0, 0, 0, 0, 0, 0, 0, 0, 0, 0, 0, 0, 0, 0, 0, 0, 0, 0, 0, 0, 0, 0, 0, 0, 0, 0, 0, 0, 0, 0, 0, 0, 0, 0, 0, 0, 0, 0, 0, 0, 0, 0]\n"
     ]
    }
   ],
   "source": [
    "# TESTING\n",
    "print(struct_sequ[20])\n",
    "print(struct_lab_arr[20])"
   ]
  },
  {
   "cell_type": "code",
   "execution_count": 46,
   "metadata": {},
   "outputs": [
    {
     "name": "stdout",
     "output_type": "stream",
     "text": [
      "number amino acids 183887 number sequences 776\n"
     ]
    }
   ],
   "source": [
    "print(\"number amino acids\", len(\"\".join(struct_sequ)), \"number sequences\", len(struct_lab_arr))"
   ]
  },
  {
   "cell_type": "markdown",
   "metadata": {},
   "source": [
    "### Load linear data of paper"
   ]
  },
  {
   "cell_type": "code",
   "execution_count": 47,
   "metadata": {},
   "outputs": [],
   "source": [
    "with open(os.path.join(base_path, \"iedb_linear_epitopes.fasta.txt\"), \"r\") as infile:\n",
    "    txt_linear = infile.read()"
   ]
  },
  {
   "cell_type": "code",
   "execution_count": 48,
   "metadata": {},
   "outputs": [],
   "source": [
    "linear = txt_linear.split(\">\")[1:]"
   ]
  },
  {
   "cell_type": "code",
   "execution_count": 49,
   "metadata": {},
   "outputs": [],
   "source": [
    "linear_metadata = list()\n",
    "linear_sequ = list()\n",
    "linear_epi = list()\n",
    "linear_labs = list()\n",
    "for entry in linear:\n",
    "    split_entry = entry.split(\"\\n\")\n",
    "    if split_entry[0][:3]==\"Pos\":\n",
    "        linear_labs.append(1)\n",
    "    elif split_entry[0][:3]==\"Neg\":\n",
    "        linear_labs.append(0)\n",
    "    linear_metadata.append(split_entry[0][9:])\n",
    "    linear_sequ.append(split_entry[1])\n",
    "    linear_epi.append(\"\".join([s for s in split_entry[1] if s.isupper()]))"
   ]
  },
  {
   "cell_type": "code",
   "execution_count": 50,
   "metadata": {},
   "outputs": [
    {
     "name": "stdout",
     "output_type": "stream",
     "text": [
      "PositiveID_46198\n",
      "msdngpqsnqrsapritfggptdstdnnqnggrngarpkqrrpqglpnntaswftaltqhgkeelrfprgqgvpiNTNSGPDDQIGYYRRATRrvrggdgkmkelsprwyfyylgtgpeaslpygankegivwvategalntpkdhigtrnpnnnaatvlqlpqgttlpkgfyaegsrggsqassrsssrsrgnsrnstpgssrgnsparmasgggetalalllldrlnqleskvsgkgqqqqgqtvtkksaaeaskkprqkrtatkqynvtqafgrrgpeqtqgnfgdqdlirqgtdykhwpqiaqfapsasaffgmsrigmevtpsgtwltyhgaiklddkdpqfkdnvillnkhidayktfpptepkkdkkkktdeaqplpqrqkkqptvtllpaadmddfsrqlqnsmsgasadstqa\n",
      "\n",
      "msdngpqsnqrsapritfggptdstdnnqnggrngarpkqrrpqglpnntaswftaltqhgkeelrfprgqgvpiNTNSGPDDQIGYYRRATRrvrggdgkmkelsprwyfyylgtgpeaslpygankegivwvategalntpkdhigtrnpnnnaatvlqlpqgttlpkgfyaegsrggsqassrsssrsrgnsrnstpgssrgnsparmasgggetalalllldrlnqleskvsgkgqqqqgqtvtkksaaeaskkprqkrtatkqynvtqafgrrgpeqtqgnfgdqdlirqgtdykhwpqiaqfapsasaffgmsrigmevtpsgtwltyhgaiklddkdpqfkdnvillnkhidayktfpptepkkdkkkktdeaqplpqrqkkqptvtllpaadmddfsrqlqnsmsgasadstqa\n",
      "NTNSGPDDQIGYYRRATR\n",
      "1\n"
     ]
    }
   ],
   "source": [
    "# TESTING\n",
    "test_int = 50\n",
    "print(linear[test_int])\n",
    "print(linear_sequ[test_int])\n",
    "print(linear_epi[test_int])\n",
    "print(linear_labs[test_int])"
   ]
  },
  {
   "cell_type": "code",
   "execution_count": 51,
   "metadata": {},
   "outputs": [
    {
     "name": "stdout",
     "output_type": "stream",
     "text": [
      "class balance (array([0, 1]), array([18722, 11834]))\n"
     ]
    }
   ],
   "source": [
    "print(\"class balance\", np.unique(linear_labs, return_counts=True))"
   ]
  },
  {
   "cell_type": "markdown",
   "metadata": {},
   "source": [
    "### Define features"
   ]
  },
  {
   "cell_type": "code",
   "execution_count": 90,
   "metadata": {},
   "outputs": [],
   "source": [
    "feature_dict[\"x\"] = [0.5 for _ in range(5)]"
   ]
  },
  {
   "cell_type": "code",
   "execution_count": 93,
   "metadata": {},
   "outputs": [],
   "source": [
    "def pad_seq(seq, pad_len=10):\n",
    "    return \"\".join([\"x\" for _ in range(pad_len)])+seq+\"\".join([\"x\" for _ in range(pad_len)])"
   ]
  },
  {
   "cell_type": "code",
   "execution_count": 104,
   "metadata": {},
   "outputs": [],
   "source": [
    "def seq2features(seq, window_r=4):\n",
    "    seq_padded = pad_seq(seq, pad_len=window_r)\n",
    "    feats = np.array([feature_dict[s.lower()] for s in seq_padded])\n",
    "    window_feats = np.array([feats[i-window_r:i+window_r+1] for i in range(window_r, len(seq)+window_r)])\n",
    "    return window_feats"
   ]
  },
  {
   "cell_type": "code",
   "execution_count": 108,
   "metadata": {},
   "outputs": [
    {
     "data": {
      "text/plain": [
       "(11, 9, 5)"
      ]
     },
     "execution_count": 108,
     "metadata": {},
     "output_type": "execute_result"
    }
   ],
   "source": [
    "seq2features(linear_epi[20]).shape"
   ]
  },
  {
   "cell_type": "code",
   "execution_count": 54,
   "metadata": {},
   "outputs": [
    {
     "name": "stdout",
     "output_type": "stream",
     "text": [
      "TNGTSGRTPVL\n",
      "[[1 0 1 0 0]\n",
      " [1 0 1 0 0]\n",
      " [0 0 0 0 0]\n",
      " [1 0 1 0 0]\n",
      " [1 0 1 0 0]\n",
      " [0 0 0 0 0]\n",
      " [1 1 1 0 1]\n",
      " [1 0 1 0 0]\n",
      " [0 0 0 0 0]\n",
      " [0 0 0 0 0]\n",
      " [0 0 0 0 0]]\n"
     ]
    }
   ],
   "source": [
    "print(linear_epi[20])\n",
    "print(seq2features(linear_epi[20]))"
   ]
  },
  {
   "cell_type": "code",
   "execution_count": null,
   "metadata": {},
   "outputs": [],
   "source": [
    "# jede aminosäure 45 features\n",
    "# 1d convolution auf je 45 features\n",
    "# spalte: protein-id, position im "
   ]
  },
  {
   "cell_type": "markdown",
   "metadata": {},
   "source": [
    "### Prepare structured data for CNN"
   ]
  },
  {
   "cell_type": "code",
   "execution_count": 63,
   "metadata": {},
   "outputs": [],
   "source": [
    "from sklearn.model_selection import train_test_split"
   ]
  },
  {
   "cell_type": "code",
   "execution_count": null,
   "metadata": {},
   "outputs": [],
   "source": [
    "flattened_df_cols[2]"
   ]
  },
  {
   "cell_type": "code",
   "execution_count": 70,
   "metadata": {},
   "outputs": [],
   "source": [
    "x_train, x_test, y_train, y_test = train_test_split(struct_sequ, struct_lab_arr, test_size=0.1, random_state=1)\n",
    "\n",
    "x_train, x_val, y_train, y_val = train_test_split(x_train, y_train, test_size=0.2, random_state=1)"
   ]
  },
  {
   "cell_type": "code",
   "execution_count": 72,
   "metadata": {},
   "outputs": [
    {
     "name": "stdout",
     "output_type": "stream",
     "text": [
      "train: (558,) (558,) val: (140,) (140,) test: (78,) (78,)\n"
     ]
    }
   ],
   "source": [
    "print(\"train:\", x_train.shape, y_train.shape,\"val:\", x_val.shape, y_val.shape, \"test:\", x_test.shape, y_test.shape)"
   ]
  },
  {
   "cell_type": "code",
   "execution_count": 62,
   "metadata": {},
   "outputs": [
    {
     "data": {
      "text/plain": [
       "776"
      ]
     },
     "execution_count": 62,
     "metadata": {},
     "output_type": "execute_result"
    }
   ],
   "source": [
    "inds = np.random.permutation(len(struct_sequ))\n",
    "nr_train = len(inds)//5\n",
    "train = data_struct[inds[:nr_train]]"
   ]
  },
  {
   "cell_type": "code",
   "execution_count": 86,
   "metadata": {},
   "outputs": [],
   "source": [
    "data_struct = [seq2features(seq) for seq in x_train]\n",
    "x_inp = np.concatenate(data_struct, axis=0)"
   ]
  },
  {
   "cell_type": "code",
   "execution_count": 88,
   "metadata": {},
   "outputs": [
    {
     "name": "stdout",
     "output_type": "stream",
     "text": [
      "(133036, 5) (133036,)\n"
     ]
    }
   ],
   "source": [
    "y_inp = np.concatenate(y_train, axis=0)\n",
    "print(x_inp.shape, y_inp.shape)"
   ]
  },
  {
   "cell_type": "code",
   "execution_count": null,
   "metadata": {},
   "outputs": [],
   "source": []
  },
  {
   "cell_type": "markdown",
   "metadata": {},
   "source": [
    "## Prepare dataframe:"
   ]
  },
  {
   "cell_type": "code",
   "execution_count": 157,
   "metadata": {},
   "outputs": [],
   "source": [
    "df_cols = [[] for _ in range(6)]\n",
    "for i in range(len(struct_sequ)):\n",
    "    sequ_len = len(struct_sequ[i])\n",
    "    # our id column\n",
    "    df_cols[0].append(np.array([i for _ in range(sequ_len)]))\n",
    "    # metadata column\n",
    "    df_cols[1].append(np.array([struct_metadata[i] for _ in range(sequ_len)]))\n",
    "    # position in this sequence\n",
    "    df_cols[2].append(np.arange(0,sequ_len, 1))\n",
    "    # actual amino acid\n",
    "    df_cols[3].append(list(struct_sequ[i]))\n",
    "    # actual data\n",
    "    df_cols[4].append(seq2features(struct_sequ[i], window_r=4))\n",
    "    # labels\n",
    "    df_cols[5].append(struct_lab_arr[i])"
   ]
  },
  {
   "cell_type": "code",
   "execution_count": 158,
   "metadata": {},
   "outputs": [],
   "source": [
    "flattened_df_cols = [np.concatenate(df_cols[i]) for i in range(6)]"
   ]
  },
  {
   "cell_type": "code",
   "execution_count": 159,
   "metadata": {},
   "outputs": [],
   "source": [
    "names = [\"our_id\", \"metadata\", \"position\", \"amino_acid\", \"data\", \"labels\"]\n",
    "df = pd.DataFrame()"
   ]
  },
  {
   "cell_type": "code",
   "execution_count": 160,
   "metadata": {},
   "outputs": [],
   "source": [
    "for i in range(6):\n",
    "    df[names[i]] = pd.Series(flattened_df_cols[i].tolist())"
   ]
  },
  {
   "cell_type": "code",
   "execution_count": null,
   "metadata": {},
   "outputs": [],
   "source": [
    "out_path = \"data\""
   ]
  },
  {
   "cell_type": "code",
   "execution_count": 163,
   "metadata": {},
   "outputs": [],
   "source": [
    "df.to_csv(os.path.join(out_path, \"data_struct_features.csv\"))"
   ]
  },
  {
   "cell_type": "code",
   "execution_count": 162,
   "metadata": {},
   "outputs": [
    {
     "data": {
      "text/plain": [
       "183887"
      ]
     },
     "execution_count": 162,
     "metadata": {},
     "output_type": "execute_result"
    }
   ],
   "source": [
    "len(df)"
   ]
  },
  {
   "cell_type": "code",
   "execution_count": 161,
   "metadata": {},
   "outputs": [
    {
     "data": {
      "text/html": [
       "<div>\n",
       "<style scoped>\n",
       "    .dataframe tbody tr th:only-of-type {\n",
       "        vertical-align: middle;\n",
       "    }\n",
       "\n",
       "    .dataframe tbody tr th {\n",
       "        vertical-align: top;\n",
       "    }\n",
       "\n",
       "    .dataframe thead th {\n",
       "        text-align: right;\n",
       "    }\n",
       "</style>\n",
       "<table border=\"1\" class=\"dataframe\">\n",
       "  <thead>\n",
       "    <tr style=\"text-align: right;\">\n",
       "      <th></th>\n",
       "      <th>our_id</th>\n",
       "      <th>metadata</th>\n",
       "      <th>position</th>\n",
       "      <th>amino_acid</th>\n",
       "      <th>data</th>\n",
       "      <th>labels</th>\n",
       "    </tr>\n",
       "  </thead>\n",
       "  <tbody>\n",
       "    <tr>\n",
       "      <th>0</th>\n",
       "      <td>0</td>\n",
       "      <td>1A2Y_BA C 2</td>\n",
       "      <td>0</td>\n",
       "      <td>k</td>\n",
       "      <td>[[0.5, 0.5, 0.5, 0.5, 0.5], [0.5, 0.5, 0.5, 0....</td>\n",
       "      <td>0</td>\n",
       "    </tr>\n",
       "    <tr>\n",
       "      <th>1</th>\n",
       "      <td>0</td>\n",
       "      <td>1A2Y_BA C 2</td>\n",
       "      <td>1</td>\n",
       "      <td>v</td>\n",
       "      <td>[[0.5, 0.5, 0.5, 0.5, 0.5], [0.5, 0.5, 0.5, 0....</td>\n",
       "      <td>0</td>\n",
       "    </tr>\n",
       "    <tr>\n",
       "      <th>2</th>\n",
       "      <td>0</td>\n",
       "      <td>1A2Y_BA C 2</td>\n",
       "      <td>2</td>\n",
       "      <td>f</td>\n",
       "      <td>[[0.5, 0.5, 0.5, 0.5, 0.5], [0.5, 0.5, 0.5, 0....</td>\n",
       "      <td>0</td>\n",
       "    </tr>\n",
       "    <tr>\n",
       "      <th>3</th>\n",
       "      <td>0</td>\n",
       "      <td>1A2Y_BA C 2</td>\n",
       "      <td>3</td>\n",
       "      <td>g</td>\n",
       "      <td>[[0.5, 0.5, 0.5, 0.5, 0.5], [1.0, 1.0, 1.0, 0....</td>\n",
       "      <td>0</td>\n",
       "    </tr>\n",
       "    <tr>\n",
       "      <th>4</th>\n",
       "      <td>0</td>\n",
       "      <td>1A2Y_BA C 2</td>\n",
       "      <td>4</td>\n",
       "      <td>r</td>\n",
       "      <td>[[1.0, 1.0, 1.0, 0.0, 1.0], [0.0, 0.0, 0.0, 0....</td>\n",
       "      <td>0</td>\n",
       "    </tr>\n",
       "    <tr>\n",
       "      <th>5</th>\n",
       "      <td>0</td>\n",
       "      <td>1A2Y_BA C 2</td>\n",
       "      <td>5</td>\n",
       "      <td>c</td>\n",
       "      <td>[[0.0, 0.0, 0.0, 0.0, 0.0], [0.0, 0.0, 0.0, 1....</td>\n",
       "      <td>0</td>\n",
       "    </tr>\n",
       "    <tr>\n",
       "      <th>6</th>\n",
       "      <td>0</td>\n",
       "      <td>1A2Y_BA C 2</td>\n",
       "      <td>6</td>\n",
       "      <td>e</td>\n",
       "      <td>[[0.0, 0.0, 0.0, 1.0, 0.0], [0.0, 0.0, 0.0, 0....</td>\n",
       "      <td>0</td>\n",
       "    </tr>\n",
       "    <tr>\n",
       "      <th>7</th>\n",
       "      <td>0</td>\n",
       "      <td>1A2Y_BA C 2</td>\n",
       "      <td>7</td>\n",
       "      <td>l</td>\n",
       "      <td>[[0.0, 0.0, 0.0, 0.0, 0.0], [1.0, 1.0, 1.0, 0....</td>\n",
       "      <td>0</td>\n",
       "    </tr>\n",
       "    <tr>\n",
       "      <th>8</th>\n",
       "      <td>0</td>\n",
       "      <td>1A2Y_BA C 2</td>\n",
       "      <td>8</td>\n",
       "      <td>a</td>\n",
       "      <td>[[1.0, 1.0, 1.0, 0.0, 1.0], [1.0, 0.0, 1.0, 0....</td>\n",
       "      <td>0</td>\n",
       "    </tr>\n",
       "    <tr>\n",
       "      <th>9</th>\n",
       "      <td>0</td>\n",
       "      <td>1A2Y_BA C 2</td>\n",
       "      <td>9</td>\n",
       "      <td>a</td>\n",
       "      <td>[[1.0, 0.0, 1.0, 0.0, 1.0], [1.0, -1.0, 1.0, 0...</td>\n",
       "      <td>0</td>\n",
       "    </tr>\n",
       "    <tr>\n",
       "      <th>10</th>\n",
       "      <td>0</td>\n",
       "      <td>1A2Y_BA C 2</td>\n",
       "      <td>10</td>\n",
       "      <td>a</td>\n",
       "      <td>[[1.0, -1.0, 1.0, 0.0, 1.0], [0.0, 0.0, 0.0, 0...</td>\n",
       "      <td>0</td>\n",
       "    </tr>\n",
       "    <tr>\n",
       "      <th>11</th>\n",
       "      <td>0</td>\n",
       "      <td>1A2Y_BA C 2</td>\n",
       "      <td>11</td>\n",
       "      <td>m</td>\n",
       "      <td>[[0.0, 0.0, 0.0, 0.0, 0.0], [0.0, 0.0, 0.0, 0....</td>\n",
       "      <td>0</td>\n",
       "    </tr>\n",
       "    <tr>\n",
       "      <th>12</th>\n",
       "      <td>0</td>\n",
       "      <td>1A2Y_BA C 2</td>\n",
       "      <td>12</td>\n",
       "      <td>k</td>\n",
       "      <td>[[0.0, 0.0, 0.0, 0.0, 0.0], [0.0, 0.0, 0.0, 0....</td>\n",
       "      <td>0</td>\n",
       "    </tr>\n",
       "    <tr>\n",
       "      <th>13</th>\n",
       "      <td>0</td>\n",
       "      <td>1A2Y_BA C 2</td>\n",
       "      <td>13</td>\n",
       "      <td>r</td>\n",
       "      <td>[[0.0, 0.0, 0.0, 0.0, 0.0], [0.0, 0.0, 0.0, 0....</td>\n",
       "      <td>0</td>\n",
       "    </tr>\n",
       "    <tr>\n",
       "      <th>14</th>\n",
       "      <td>0</td>\n",
       "      <td>1A2Y_BA C 2</td>\n",
       "      <td>14</td>\n",
       "      <td>h</td>\n",
       "      <td>[[0.0, 0.0, 0.0, 0.0, 0.0], [0.0, 0.0, 0.0, 0....</td>\n",
       "      <td>0</td>\n",
       "    </tr>\n",
       "    <tr>\n",
       "      <th>15</th>\n",
       "      <td>0</td>\n",
       "      <td>1A2Y_BA C 2</td>\n",
       "      <td>15</td>\n",
       "      <td>g</td>\n",
       "      <td>[[0.0, 0.0, 0.0, 0.0, 0.0], [1.0, 1.0, 1.0, 0....</td>\n",
       "      <td>0</td>\n",
       "    </tr>\n",
       "    <tr>\n",
       "      <th>16</th>\n",
       "      <td>0</td>\n",
       "      <td>1A2Y_BA C 2</td>\n",
       "      <td>16</td>\n",
       "      <td>l</td>\n",
       "      <td>[[1.0, 1.0, 1.0, 0.0, 1.0], [1.0, 1.0, 1.0, 0....</td>\n",
       "      <td>0</td>\n",
       "    </tr>\n",
       "    <tr>\n",
       "      <th>17</th>\n",
       "      <td>0</td>\n",
       "      <td>1A2Y_BA C 2</td>\n",
       "      <td>17</td>\n",
       "      <td>a</td>\n",
       "      <td>[[1.0, 1.0, 1.0, 0.0, 1.0], [1.0, 1.0, 1.0, 0....</td>\n",
       "      <td>0</td>\n",
       "    </tr>\n",
       "    <tr>\n",
       "      <th>18</th>\n",
       "      <td>0</td>\n",
       "      <td>1A2Y_BA C 2</td>\n",
       "      <td>18</td>\n",
       "      <td>N</td>\n",
       "      <td>[[1.0, 1.0, 1.0, 0.0, 1.0], [0.0, 0.0, 0.0, 0....</td>\n",
       "      <td>1</td>\n",
       "    </tr>\n",
       "    <tr>\n",
       "      <th>19</th>\n",
       "      <td>0</td>\n",
       "      <td>1A2Y_BA C 2</td>\n",
       "      <td>19</td>\n",
       "      <td>y</td>\n",
       "      <td>[[0.0, 0.0, 0.0, 0.0, 0.0], [0.0, 0.0, 0.0, 0....</td>\n",
       "      <td>0</td>\n",
       "    </tr>\n",
       "  </tbody>\n",
       "</table>\n",
       "</div>"
      ],
      "text/plain": [
       "    our_id     metadata  position amino_acid  \\\n",
       "0        0  1A2Y_BA C 2         0          k   \n",
       "1        0  1A2Y_BA C 2         1          v   \n",
       "2        0  1A2Y_BA C 2         2          f   \n",
       "3        0  1A2Y_BA C 2         3          g   \n",
       "4        0  1A2Y_BA C 2         4          r   \n",
       "5        0  1A2Y_BA C 2         5          c   \n",
       "6        0  1A2Y_BA C 2         6          e   \n",
       "7        0  1A2Y_BA C 2         7          l   \n",
       "8        0  1A2Y_BA C 2         8          a   \n",
       "9        0  1A2Y_BA C 2         9          a   \n",
       "10       0  1A2Y_BA C 2        10          a   \n",
       "11       0  1A2Y_BA C 2        11          m   \n",
       "12       0  1A2Y_BA C 2        12          k   \n",
       "13       0  1A2Y_BA C 2        13          r   \n",
       "14       0  1A2Y_BA C 2        14          h   \n",
       "15       0  1A2Y_BA C 2        15          g   \n",
       "16       0  1A2Y_BA C 2        16          l   \n",
       "17       0  1A2Y_BA C 2        17          a   \n",
       "18       0  1A2Y_BA C 2        18          N   \n",
       "19       0  1A2Y_BA C 2        19          y   \n",
       "\n",
       "                                                 data  labels  \n",
       "0   [[0.5, 0.5, 0.5, 0.5, 0.5], [0.5, 0.5, 0.5, 0....       0  \n",
       "1   [[0.5, 0.5, 0.5, 0.5, 0.5], [0.5, 0.5, 0.5, 0....       0  \n",
       "2   [[0.5, 0.5, 0.5, 0.5, 0.5], [0.5, 0.5, 0.5, 0....       0  \n",
       "3   [[0.5, 0.5, 0.5, 0.5, 0.5], [1.0, 1.0, 1.0, 0....       0  \n",
       "4   [[1.0, 1.0, 1.0, 0.0, 1.0], [0.0, 0.0, 0.0, 0....       0  \n",
       "5   [[0.0, 0.0, 0.0, 0.0, 0.0], [0.0, 0.0, 0.0, 1....       0  \n",
       "6   [[0.0, 0.0, 0.0, 1.0, 0.0], [0.0, 0.0, 0.0, 0....       0  \n",
       "7   [[0.0, 0.0, 0.0, 0.0, 0.0], [1.0, 1.0, 1.0, 0....       0  \n",
       "8   [[1.0, 1.0, 1.0, 0.0, 1.0], [1.0, 0.0, 1.0, 0....       0  \n",
       "9   [[1.0, 0.0, 1.0, 0.0, 1.0], [1.0, -1.0, 1.0, 0...       0  \n",
       "10  [[1.0, -1.0, 1.0, 0.0, 1.0], [0.0, 0.0, 0.0, 0...       0  \n",
       "11  [[0.0, 0.0, 0.0, 0.0, 0.0], [0.0, 0.0, 0.0, 0....       0  \n",
       "12  [[0.0, 0.0, 0.0, 0.0, 0.0], [0.0, 0.0, 0.0, 0....       0  \n",
       "13  [[0.0, 0.0, 0.0, 0.0, 0.0], [0.0, 0.0, 0.0, 0....       0  \n",
       "14  [[0.0, 0.0, 0.0, 0.0, 0.0], [0.0, 0.0, 0.0, 0....       0  \n",
       "15  [[0.0, 0.0, 0.0, 0.0, 0.0], [1.0, 1.0, 1.0, 0....       0  \n",
       "16  [[1.0, 1.0, 1.0, 0.0, 1.0], [1.0, 1.0, 1.0, 0....       0  \n",
       "17  [[1.0, 1.0, 1.0, 0.0, 1.0], [1.0, 1.0, 1.0, 0....       0  \n",
       "18  [[1.0, 1.0, 1.0, 0.0, 1.0], [0.0, 0.0, 0.0, 0....       1  \n",
       "19  [[0.0, 0.0, 0.0, 0.0, 0.0], [0.0, 0.0, 0.0, 0....       0  "
      ]
     },
     "execution_count": 161,
     "metadata": {},
     "output_type": "execute_result"
    }
   ],
   "source": [
    "df.head(20)"
   ]
  },
  {
   "cell_type": "code",
   "execution_count": null,
   "metadata": {},
   "outputs": [],
   "source": []
  }
 ],
 "metadata": {
  "kernelspec": {
   "display_name": "Python 3",
   "language": "python",
   "name": "python3"
  },
  "language_info": {
   "codemirror_mode": {
    "name": "ipython",
    "version": 3
   },
   "file_extension": ".py",
   "mimetype": "text/x-python",
   "name": "python",
   "nbconvert_exporter": "python",
   "pygments_lexer": "ipython3",
   "version": "3.7.4"
  }
 },
 "nbformat": 4,
 "nbformat_minor": 4
}
