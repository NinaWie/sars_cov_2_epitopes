{
 "cells": [
  {
   "cell_type": "code",
   "execution_count": 1,
   "metadata": {},
   "outputs": [],
   "source": [
    "import pandas as pd\n",
    "import numpy as np\n",
    "import matplotlib.pyplot as plt"
   ]
  },
  {
   "cell_type": "code",
   "execution_count": 2,
   "metadata": {},
   "outputs": [],
   "source": [
    "property_dict = {\n",
    "    \"A\": [\"NonPolar\", 'Neutral', 'Hydrophobic', 'NonAromatic', 'NonIonizable'],\n",
    "    \"R\": [\"Polar\", \"Positive\", 'Hydrophilic', 'NonAromatic', 'Ionizable'],\n",
    "    \"N\": [\"Polar\", 'Neutral', 'Hydrophilic', 'NonAromatic', 'NonIonizable'],\n",
    "    \"D\": [\"Polar\", \"Negative\", 'Hydrophilic', 'NonAromatic', 'Ionizable'],\n",
    "    \"C\": [\"Polar\", 'Neutral', 'Hydrophilic', 'NonAromatic', 'Ionizable'],\n",
    "    \"Q\": [\"Polar\", 'Neutral', 'Hydrophilic', 'NonAromatic', 'NonIonizable'],\n",
    "    \"E\": [\"Polar\", \"Negative\", 'Hydrophilic', 'NonAromatic', 'Ionizable'],\n",
    "    \"G\": [\"NonPolar\", 'Neutral', 'Hydrophobic', 'NonAromatic', 'NonIonizable'],\n",
    "    \"H\": [\"Polar\", \"Positive\", 'Hydrophilic', 'NonAromatic', 'Ionizable'],\n",
    "    \"I\": [\"NonPolar\", 'Neutral', 'Hydrophobic', 'NonAromatic', 'NonIonizable'],\n",
    "    \"L\": [\"NonPolar\", 'Neutral', 'Hydrophobic', 'NonAromatic', 'NonIonizable'],\n",
    "    \"K\": [\"Polar\", \"Positive\", 'Hydrophilic', 'NonAromatic', 'Ionizable'],\n",
    "    \"M\": [\"NonPolar\", 'Neutral', 'Hydrophobic', 'NonAromatic', 'NonIonizable'],\n",
    "    \"F\": [\"NonPolar\", 'Neutral', 'Hydrophobic', \"Aromatic\", 'NonIonizable'],\n",
    "    \"P\": [\"NonPolar\", 'Neutral', 'Hydrophobic', 'NonAromatic', 'NonIonizable'],\n",
    "    \"S\": [\"Polar\", 'Neutral', 'Hydrophilic', 'NonAromatic', 'NonIonizable'],\n",
    "    \"T\": [\"Polar\", 'Neutral', 'Hydrophilic', 'NonAromatic', 'NonIonizable'],\n",
    "    \"W\": [\"NonPolar\", 'Neutral', 'Hydrophobic', \"Aromatic\", 'NonIonizable'],\n",
    "    \"Y\": [\"Polar\", 'Neutral', 'Hydrophobic', \"Aromatic\", 'Ionizable'],\n",
    "    \"V\": [\"NonPolar\", 'Neutral', 'Hydrophobic', 'NonAromatic', 'NonIonizable']\n",
    "}"
   ]
  },
  {
   "cell_type": "markdown",
   "metadata": {},
   "source": [
    "### Transform property dictionary"
   ]
  },
  {
   "cell_type": "code",
   "execution_count": null,
   "metadata": {},
   "outputs": [],
   "source": []
  },
  {
   "cell_type": "markdown",
   "metadata": {},
   "source": [
    "## Notes"
   ]
  },
  {
   "cell_type": "markdown",
   "metadata": {},
   "source": [
    "The RF was trained in a 5-fold cross-validation manner training on 4 of the 5 partitions using the epitope residues (positive dataset) and a subset of randomly selected non-epitope residues (negative dataset)\n",
    "\n",
    "Each amino acid was encoded using the volume (5), hydrophobicity (6) and polarity (7) combined with the relative surface accessibility (RSA) and secondary structure (SS) predicted using NetsurfP (8).\n",
    "\n",
    "Possible feature: Sum of volumes of residues (equation 1 in supple)"
   ]
  },
  {
   "cell_type": "markdown",
   "metadata": {},
   "source": [
    "### Load epitope data of SARS"
   ]
  },
  {
   "cell_type": "code",
   "execution_count": 6,
   "metadata": {},
   "outputs": [],
   "source": [
    "path = \"epitope_table_export_1582825906.csv\""
   ]
  },
  {
   "cell_type": "code",
   "execution_count": 7,
   "metadata": {},
   "outputs": [],
   "source": [
    "data = pd.read_csv(path)"
   ]
  },
  {
   "cell_type": "code",
   "execution_count": 8,
   "metadata": {},
   "outputs": [],
   "source": [
    "epitopes_sars = data[\"Epitope.2\"][1:]"
   ]
  },
  {
   "cell_type": "code",
   "execution_count": 9,
   "metadata": {},
   "outputs": [
    {
     "name": "stdout",
     "output_type": "stream",
     "text": [
      "AALVSGTATAGWTFGAG\n",
      "AATKMSECVLGQSKRVD\n",
      "AATVLQLPQGTTLPK\n",
      "AAYFVGYLKPTTFMLKY\n",
      "AGCLIGAEHVDTSYECD\n",
      "AIPTNFSISITTEVMPV\n",
      "AISSVLNDILSRLDKVE\n",
      "ALALLLLDRLNQLESKV\n",
      "ALNCYW\n",
      "ALNCYWPLNDYGFYTTTGIGYQPYRVVVLSFEL + ACET(A1)\n",
      "AMDPIYDEPTTTTSVPL\n",
      "AMQMAYRF\n",
      "ANKEGIVWVATEGALN\n",
      "APRITFGGPTDSTDNNQN\n",
      "AQKFNGLTVLPPLLTDD\n",
      "ASSRSSSRSRGNSRNST\n",
      "ASWFTALTQHGKEELRFPRGQ\n",
      "ATEKSNVVRGWV\n",
      "AYFPREGVFVFNGTSWF\n",
      "AYSNNTIAIPTNFSISI\n",
      "CANLLLQYGSFCTQLNRALSGIA\n",
      "CASYHTVSLLRSTSQKS\n",
      "CDIPIGAGICASYHTVS\n",
      "CGPKLSTDLIKNQCVNF\n",
      "CGPKLSTDLIKNQCVNFNFNGLTGTGVLTPSSKRFQPFQQFG\n",
      "CGPKLSTDLIKNQCVNFNFNGLTGTGVLTPSSKRFQPFQQFGRDVSDFTD\n",
      "CKFDEDDSEPVLKGVKLHYT\n",
      "CSQNPLAELKCSVKSFE\n",
      "CSQNPLAELKCSVKSFEIDKGIYQTSNFRVVPSGD\n",
      "CTDVSTAIHADQLTPAW\n",
      "CTDVSTAIHADQLTPAWRIYSTGNNVFQTQAG\n",
      "CTPPALNCYWPLNDYGF\n",
      "CTTFDDVQAPNYTQHTSSMRGVYYPDEIFR\n",
      "CVLAWNTRNIDATSTGN\n",
      "CYGVSATKLNDLCFSNV\n",
      "CYWPLNDYGFYTTTGIG\n",
      "DDKDPQFKDNVILLNKHIDA\n",
      "DDSEPVLKGVKLHYT\n",
      "DFCGKGYHLMSFPQAAP\n",
      "DFSRQLQNSMSGASA\n",
      "DGIYFAATEKSNVVRGW\n",
      "DLGDISGINASVVNIQK\n",
      "DLPSGFNTLKPIFKLPL\n",
      "DMIAAYTAALVSGTATA\n",
      "DNIKDC\n",
      "DRCTTFDDVQAPNYTQH\n",
      "DRLNQLESKVSGKGQQQQ\n",
      "DVNLHSSR\n",
      "DVSEKSGNFKHLREFVF\n",
      "DVVNQNAQALNTLVKQL\n",
      "EAEVQIDRLITGRLQSL\n",
      "EASLPYGANKEGIVWVA\n",
      "EIDKGIYQTSNFRVVPS\n",
      "EIDRLNEVAKNLNESLIDLQELGKYEQY + ACET(E1)\n",
      "EPKKDKKKKTDEAQPL\n",
      "ESLTTTSTALGKLQDVV\n",
      "EVAKNLNESLIDLQELG\n",
      "FFAVSKPMGTQTHTMIF\n",
      "FFGMSRIGMEVTPSGTW\n",
      "FFSTFKCYGVSATKLND\n",
      "FGEVFNAT\n",
      "FIEDLLFNKVTLADAGF\n",
      "FKHLREFVFKNKDGFLY\n",
      "FKNKDGFLYVYKGYQPI\n",
      "FQQFGRDVSDFTDSVRDPKT\n",
      "FRSDTLYLTQDLFLPFY\n",
      "FTDSVRDPKTSEILDIS\n",
      "FVFNGTSWFITQRNFFS\n",
      "GAALQIPFAMQMAYRFN\n",
      "GAGICASY\n",
      "GALNTPKDHIGTRNPNNNA\n",
      "GAVIIRGHLRMAGHSLGR\n",
      "GFMKQYGECLGDINARD\n",
      "GFYTTTGIGYQPYRVVV\n",
      "GIGVTQNVLYENQKQIA\n",
      "GLPNNTASWFTALTQHGK\n",
      "GNFGDQDLIRQGTDYKHW\n",
      "GRCDIKDLPKEITVATSR\n",
      "GRNGARPKQRRPQGL\n",
      "GSFCTQLN\n",
      "GTTLPK\n",
      "GVLTPSSKRFQPFQQFG\n",
      "GVLTPSSKRFQPFQQFGRDVSDFTDSVRDPK\n",
      "GWVFGSTMNNKSQSVII\n",
      "GYQPYRVVVLSFELLNA\n",
      "HADQLTPAWRIYSTGNN\n",
      "HEGKAYFPREGV\n",
      "HGKEELRFPRGQGVPI\n",
      "HTINHTFGNPVIPFKDG\n",
      "HTSSMRGVYYPDEIFRS\n",
      "HVDTSYECDIPIGAGIC\n",
      "IAAEQDRNTREVFAQVK\n",
      "IADYNYKLPDDFMGCVL\n",
      "IAGLIAIVMVTILLCCM\n",
      "IAPGQTGVIADYNYKLP\n",
      "IGTRNPNNNAATVLQL\n",
      "IINNSTNVVIRACNFEL\n",
      "IKLNG\n",
      "ILSRLDKVEAEVQIDRL\n",
      "IRQGTDYKHWPQIAQFA\n",
      "ISPCAFGGVSVITPGTN\n",
      "ITVATSRT\n",
      "ITVEELKQ\n",
      "ITVEELKQLLEQWNLVI\n",
      "IVWVATEGALNTPKDHI\n",
      "KAISQIQESLTTTSTAL\n",
      "KDKKKKTDEAQPLPQRQKKQ\n",
      "KGIYQTSN\n",
      "KGIYQTSNFRVVPSGDVVRF\n",
      "KHIDAYKTFPPTEPKKDKKK\n",
      "KHKKVSTNLCTHSFRKKQVR\n",
      "KHWPQIAQFAPSASAFF\n",
      "KKISNCVADYSVLYNST\n",
      "KKQPTVTLLPAADMDDF\n",
      "KKSAAEASKKPRQKRTA\n",
      "KKSAAEASKKPRQKRTATKQYNVTQ\n",
      "KKTDEAQPLPQRQKK\n",
      "KLDDKDPQFKDNVILL\n",
      "KLFIRQEEVQQELYSP\n",
      "KLNDLCFSNVYADSFVV\n",
      "KLNTDHAGSNDNIALLVQ\n",
      "KLPDDFMGCVLAWNTRN\n",
      "KNHTSPDVDLGDISGIN\n",
      "KPTTFMLKYDENGTITD\n",
      "KRTATKQYNVTQAFGRR\n",
      "KSIVAYTMSLGADSSIA\n",
      "KTFPPTEPKKDKKKK\n",
      "KTSVDCNMYICGDSTEC\n",
      "KVSGKGQQQQGQTVTKK\n",
      "KVTAFQHQNSKKTTK\n",
      "LCPFGEVFNATKFPSVY\n",
      "LEDPCKV\n",
      "LGINITNFRAILTAFSP\n",
      "LIKNQCVNFNFNGLTGT\n",
      "LKCSVKSFEIDKGIYQT\n",
      "LKGACSCGSCCKFDEDD\n",
      "LKPIFKLPLGINITNFR\n",
      "LLFNKVTLADAGFMKQYGECLGDINA\n",
      "LLPAAD\n",
      "LLPAADMDDFSRQLQNSM\n",
      "LLRSTSQK\n",
      "LLRSTSQKSIVAYTMSL\n",
      "LMESELVIGAVIIRGHLR\n",
      "LMESELVIGAVIIRGHLRMAGHPLGRCDIK\n",
      "LMSFPQAAPHGVVFLHV\n",
      "LNKHIDAYKTFPPTEPK\n",
      "LPQGTTLPKG + ACET(L1)\n",
      "LPQRQKKQ\n",
      "LQNSMSGASADSTQA\n",
      "LQYGSFCTQLNRALSGI\n",
      "LRMAGHSLGRCDIKDLPK\n",
      "LTPAWRIYSTGNNVFQ\n",
      "LVIGAVIIRGHLRMAGHSLGR\n",
      "LYQDVNCTDVSTAIHAD\n",
      "MADNGTITVEELKQL\n",
      "MADNGTITVEELKQLL\n",
      "MADNGTITVEELKQLLEQ\n",
      "MADNGTITVEELKQLLEQWNLVIGFLFLAWI\n",
      "MASGGGETALALLLLDRL\n",
      "MAYRFNGIGVTQNVLYE\n",
      "MEVTPSGTWLTYHGAIK\n",
      "MFIFLLFLTLTSGSDLD\n",
      "MLKYDENGTITDAVDCS\n",
      "MSDNGPQSNQRSAPRI\n",
      "MSDNGPQSNQRSAPRIT\n",
      "MVTILLCCMTSCCSCLK\n",
      "NAFNCTFEYISDAFSLD\n",
      "NAPATVCGPKLSTDLIK\n",
      "NASSEVAVLYQDVNCTD\n",
      "NFELCDNPFFAVSKPMG\n",
      "NFNGLTGTGVLTPSSKR\n",
      "NFSISI\n",
      "NIDATSTGNYNYKYRYL\n",
      "NNKSQSVIIINNSTNVV\n",
      "NPVIPFKDGIYFAATEK\n",
      "NTNSGPDDQIGYYRRATR\n",
      "NTRNIDATSTGN\n",
      "NVFQTQAGCLIGAEHVD\n",
      "NVYADSFVVKGDDVRQI\n",
      "NYNYKYRYLRHGKLRPF\n",
      "PAICHEGKAYFPREGVFVFNGTSWFITQRNFFS\n",
      "PFAMQMAYRFNGIGVTQ\n",
      "PFSPDGKPCTPP\n",
      "PHGVVFLHVTYVPSQER\n",
      "PKEITVATSRTLSYYKL\n",
      "PKGFYAEGSRGGSQASSR\n",
      "PKQRRPQGLPNNTASWFT\n",
      "PKTSEILDISPCAFGGV\n",
      "PLKPTKRSFIEDLLF\n",
      "PLKPTKRSFIEDLLFNK\n",
      "PMGTQTHTMIFDNAFNC\n",
      "PSSKRFQPFQQFGRD\n",
      "PSSKRFQPFQQFGRDVSDFT\n",
      "PSSKRFQPFQQFGRDVSDFTDSVRDPKTSE\n",
      "PSVYAWERKKISNCVAD\n",
      "PTDSTDNNQNGGRNGARPKQRRPQ\n",
      "PVSMAKTSVDCNMYICGDS\n",
      "PWYVWLGFIAGLIAIVM\n",
      "QALNTLVKQLSSNFGAI\n",
      "QDVNCTDVSTAIHADQLTPAWR\n",
      "QFAPSASAFFGMSRIGM\n",
      "QFGRDVSDFTDSVRDPK\n",
      "QFKDNVILLNKHIDAYK\n",
      "QGTDYKHW\n",
      "QIANQFNKAISQIQESL\n",
      "QIGYYRRATRRVRGGDGK\n",
      "QILPDPLKPTKRSFIEDLLFNKVTLA + ACET(Q1)\n",
      "QLIRAAEIRASANLAAT\n",
      "QLNRALSGIAAEQDRNT\n",
      "QLPQGTTLPKGFYAE\n",
      "QLPQGTTLPKGFYAEGSR\n",
      "QLPQGTTLPKGFYAEGSRGGSQ\n",
      "QPLPQRQKKQPTVTLL\n",
      "QQFGRD\n",
      "QQQGQTVTKKSAAEASKK\n",
      "QRQKKQPTVTLLPAADMDDFSRQ\n",
      "QSNQRSAPRITFGGPTDS\n",
      "RAILTAFSPAQDIWGTS\n",
      "RASANLAATKMSECVLG\n",
      "RDVSDFTDSVRDPKTSEI\n",
      "RFPRGQGVPINTNSGPDDQI\n",
      "RFQPFQQFGRDVSDFTD\n",
      "RGPEQTQGNFGDQDLIR\n",
      "RITFGGPTDSTDNNQNGGR\n",
      "RLITGRLQSLQTYVTQQ\n",
      "RNFTTAPAICHEGKAYF\n",
      "RPFERDISNVPFSPDGK\n",
      "RPKQRRPQGLPNNTASWF\n",
      "RSAPRITFG\n",
      "RSRGNSRNSTPGSSR\n",
      "RVKN\n",
      "SGDVVRFPNITNLCPFG\n",
      "SGNCDVVIGIINNTVYD\n",
      "SKKPRQKRTATKQYNV\n",
      "SLGADSSIAYSNNTIAI\n",
      "SLQTYVTQQLIRAAEIR\n",
      "SNVPFSPDGKPCTPPAL\n",
      "SPAQDIWGTSAAAYFVG\n",
      "SPDGKPCTPPALNCYWP\n",
      "SQASSRSS\n",
      "SRGGSQASSRSSSRSR\n",
      "SRGNSPARMASGGGETAL\n",
      "SRNSTPGSSRGNSPARMA\n",
      "SRVKNLNSSEGVPDLLV\n",
      "SSEVAVLYQDVNCTDV\n",
      "STAIHADQLTPAWRIY\n",
      "STDNNQNGGRNGARPKQR\n",
      "TAGWTFGAGAALQIPFA\n",
      "TALGKLQDVVNQNAQAL\n",
      "TDHAGSNDNIALLVQ\n",
      "TDNNQNGGRNGARPKQRRP\n",
      "TDVSTAIHADQLTPAWRIYSTG + ACET(T1)\n",
      "TECANLLLQYGSFCTQL\n",
      "TEPKKDKKKKTDEAQPLPQRQKK + ACET(T1)\n",
      "TFPPTEPK\n",
      "TITDAVDCSQNPLAELK\n",
      "TKKNYSELDDEEPMELDYP\n",
      "TLKYFGGFNFSQILPDP\n",
      "TLTSGSDLDRCTTFDDV\n",
      "TNVVIRACNFELCDNPF\n",
      "TPSSKRFQPFQQFGRDVSDFT\n",
      "TQDLFLPFYSNVTGFHT\n",
      "TRRVRGGDGKMKELSPRW\n",
      "TSNFRVVPSGDVVRFPN\n",
      "TSRTLSYYKLGASQRV\n",
      "TVYDPLQPELDSFKEEL\n",
      "VIGIINNTVYDPLQPEL\n",
      "VITPGTNASSEVAVLY\n",
      "VKQMYKTPTLKYFGGFN\n",
      "VLPPLLTDDMIAAYTAA\n",
      "VLSFELLNAPATVCGPK\n",
      "VLYENQKQIANQFNKAI\n",
      "VQAPNYTQHTSSMRGVY\n",
      "VRFPNITNLCPFGEVFN\n",
      "VSDFTDSV\n",
      "VSVITPGTNASSEVAVL\n",
      "VSVITPGTNASSEVAVLYQDVNCTDVSTAIHADQLTPAWRIYSTGNNVFQ\n",
      "VTYVPSQERNFTTAPAI\n",
      "VYYPDEIFRSDTLYLTQD\n",
      "WFTALTQHGKEELRFPR\n",
      "WGTSAAAYFVGYLKPTT\n",
      "WLTYHGAIKLDDKDPQF\n",
      "WRIYSTGNNVFQTQAGC\n",
      "YICGDSTECANLLLQYG\n",
      "YISDAFSLDVSEKSGNF\n",
      "YLGTGPEASLPYGANK\n",
      "YLTQDL\n",
      "YNVTQAFGRRGPEQTQGNF\n",
      "YQPIDVVRDLPSGFNTL\n",
      "YSNVTGFHT\n",
      "YSVLYNSTFFSTFKCYG\n",
      "YVYKGYQPIDVVRDLPS\n",
      "KLRPFERDISNV\n",
      "ALNCYWPLNDYGFYTTTGIGYQPYRVVVLSFEL\n",
      "EIDRLNEVAKNLNESLIDLQELGKYEQY\n",
      "LYQDVN\n",
      "LYQDVNC\n",
      "LYQDVNCT\n",
      "LYQDVNCTDVSTAIHADQLTPAWRIYSTG\n",
      "TDVSTAIHADQLTPAWRIYSTG\n"
     ]
    }
   ],
   "source": [
    "for epi in epitopes_sars:\n",
    "    print(epi)"
   ]
  },
  {
   "cell_type": "code",
   "execution_count": 14,
   "metadata": {},
   "outputs": [
    {
     "data": {
      "text/plain": [
       "17.42"
      ]
     },
     "execution_count": 14,
     "metadata": {},
     "output_type": "execute_result"
    }
   ],
   "source": [
    "np.mean([len(epi) for epi in epis]) # , return_counts=True)"
   ]
  },
  {
   "cell_type": "markdown",
   "metadata": {},
   "source": [
    "### Load structural data of paper"
   ]
  },
  {
   "cell_type": "code",
   "execution_count": 10,
   "metadata": {},
   "outputs": [],
   "source": [
    "with open(\"pdb_chains.fasta.txt\", \"r\") as infile:\n",
    "    txt = infile.read()\n",
    "structured = txt.split(\">\")[1:]"
   ]
  },
  {
   "cell_type": "code",
   "execution_count": 29,
   "metadata": {},
   "outputs": [],
   "source": [
    "stuct_metadata = list()\n",
    "struct_sequ = list()\n",
    "struct_lab_arr = list()\n",
    "for entry in structured:\n",
    "    split_entry = entry.split(\"\\n\")\n",
    "    stuct_metadata.append(split_entry[0])\n",
    "    struct_sequ.append(split_entry[1])\n",
    "    labels = [int(s.isupper()) for s in split_entry[1]]\n",
    "    struct_lab_arr.append(labels)\n",
    "struct_lab_arr = np.array(struct_lab_arr)"
   ]
  },
  {
   "cell_type": "code",
   "execution_count": 30,
   "metadata": {},
   "outputs": [
    {
     "name": "stdout",
     "output_type": "stream",
     "text": [
      "statlclghhavpngtlvktitddqievtnatelvqsssTGKicnnphriLDgIDctlidallgdPHcdVFqnEtwdlfveRsKaFsncypydvpdyaslrslvassgtlefitegftwtgvtqnggsnackrgpgsgffsrlnwltksgstypvlnvtmpnndnfdklyiwgihhpstnqeqtslyvqasgrvtvstrrsqqtiipnigsrpwvrglssrisiywtivkpgdvlvinsngnliaprgyfkmrtgkssimrsDAPIdtcisecitpngsipndkpfqnvnkitygacpkyvkqntlklatgmrnvpekq\n",
      "[0, 0, 0, 0, 0, 0, 0, 0, 0, 0, 0, 0, 0, 0, 0, 0, 0, 0, 0, 0, 0, 0, 0, 0, 0, 0, 0, 0, 0, 0, 0, 0, 0, 0, 0, 0, 0, 0, 0, 1, 1, 1, 0, 0, 0, 0, 0, 0, 0, 0, 1, 1, 0, 1, 1, 0, 0, 0, 0, 0, 0, 0, 0, 0, 0, 1, 1, 0, 0, 1, 1, 0, 0, 1, 0, 0, 0, 0, 0, 0, 0, 1, 0, 1, 0, 1, 0, 0, 0, 0, 0, 0, 0, 0, 0, 0, 0, 0, 0, 0, 0, 0, 0, 0, 0, 0, 0, 0, 0, 0, 0, 0, 0, 0, 0, 0, 0, 0, 0, 0, 0, 0, 0, 0, 0, 0, 0, 0, 0, 0, 0, 0, 0, 0, 0, 0, 0, 0, 0, 0, 0, 0, 0, 0, 0, 0, 0, 0, 0, 0, 0, 0, 0, 0, 0, 0, 0, 0, 0, 0, 0, 0, 0, 0, 0, 0, 0, 0, 0, 0, 0, 0, 0, 0, 0, 0, 0, 0, 0, 0, 0, 0, 0, 0, 0, 0, 0, 0, 0, 0, 0, 0, 0, 0, 0, 0, 0, 0, 0, 0, 0, 0, 0, 0, 0, 0, 0, 0, 0, 0, 0, 0, 0, 0, 0, 0, 0, 0, 0, 0, 0, 0, 0, 0, 0, 0, 0, 0, 0, 0, 0, 0, 0, 0, 0, 0, 0, 0, 0, 0, 0, 0, 0, 0, 0, 0, 0, 0, 0, 0, 0, 0, 0, 0, 0, 0, 0, 0, 0, 0, 0, 0, 1, 1, 1, 1, 0, 0, 0, 0, 0, 0, 0, 0, 0, 0, 0, 0, 0, 0, 0, 0, 0, 0, 0, 0, 0, 0, 0, 0, 0, 0, 0, 0, 0, 0, 0, 0, 0, 0, 0, 0, 0, 0, 0, 0, 0, 0, 0, 0, 0, 0, 0, 0, 0, 0, 0, 0, 0]\n"
     ]
    }
   ],
   "source": [
    "# TESTING\n",
    "print(struct_sequ[20])\n",
    "print(struct_lab_arr[20])"
   ]
  },
  {
   "cell_type": "code",
   "execution_count": 38,
   "metadata": {},
   "outputs": [
    {
     "name": "stdout",
     "output_type": "stream",
     "text": [
      "number amino acids 183887 number sequences 776\n"
     ]
    }
   ],
   "source": [
    "print(\"number amino acids\", len(\"\".join(struct_sequ)), \"number sequences\", len(lab_arr))"
   ]
  },
  {
   "cell_type": "markdown",
   "metadata": {},
   "source": [
    "### Load linear data of paper"
   ]
  },
  {
   "cell_type": "code",
   "execution_count": 25,
   "metadata": {},
   "outputs": [],
   "source": [
    "with open(\"iedb_linear_epitopes.fasta.txt\", \"r\") as infile:\n",
    "    txt_linear = infile.read()"
   ]
  },
  {
   "cell_type": "code",
   "execution_count": 28,
   "metadata": {},
   "outputs": [],
   "source": [
    "linear = txt_linear.split(\">\")[1:]"
   ]
  },
  {
   "cell_type": "code",
   "execution_count": 45,
   "metadata": {},
   "outputs": [],
   "source": [
    "linear_metadata = list()\n",
    "linear_sequ = list()\n",
    "linear_epi = list()\n",
    "linear_labs = list()\n",
    "for entry in linear:\n",
    "    split_entry = entry.split(\"\\n\")\n",
    "    if split_entry[0][:3]==\"Pos\":\n",
    "        linear_labs.append(1)\n",
    "    elif split_entry[0][:3]==\"Neg\":\n",
    "        linear_labs.append(0)\n",
    "    linear_metadata.append(split_entry[0][9:])\n",
    "    linear_sequ.append(split_entry[1])\n",
    "    linear_epi.append(\"\".join([s for s in split_entry[1] if s.isupper()]))"
   ]
  },
  {
   "cell_type": "code",
   "execution_count": 52,
   "metadata": {},
   "outputs": [
    {
     "name": "stdout",
     "output_type": "stream",
     "text": [
      "PositiveID_46198\n",
      "msdngpqsnqrsapritfggptdstdnnqnggrngarpkqrrpqglpnntaswftaltqhgkeelrfprgqgvpiNTNSGPDDQIGYYRRATRrvrggdgkmkelsprwyfyylgtgpeaslpygankegivwvategalntpkdhigtrnpnnnaatvlqlpqgttlpkgfyaegsrggsqassrsssrsrgnsrnstpgssrgnsparmasgggetalalllldrlnqleskvsgkgqqqqgqtvtkksaaeaskkprqkrtatkqynvtqafgrrgpeqtqgnfgdqdlirqgtdykhwpqiaqfapsasaffgmsrigmevtpsgtwltyhgaiklddkdpqfkdnvillnkhidayktfpptepkkdkkkktdeaqplpqrqkkqptvtllpaadmddfsrqlqnsmsgasadstqa\n",
      "\n",
      "msdngpqsnqrsapritfggptdstdnnqnggrngarpkqrrpqglpnntaswftaltqhgkeelrfprgqgvpiNTNSGPDDQIGYYRRATRrvrggdgkmkelsprwyfyylgtgpeaslpygankegivwvategalntpkdhigtrnpnnnaatvlqlpqgttlpkgfyaegsrggsqassrsssrsrgnsrnstpgssrgnsparmasgggetalalllldrlnqleskvsgkgqqqqgqtvtkksaaeaskkprqkrtatkqynvtqafgrrgpeqtqgnfgdqdlirqgtdykhwpqiaqfapsasaffgmsrigmevtpsgtwltyhgaiklddkdpqfkdnvillnkhidayktfpptepkkdkkkktdeaqplpqrqkkqptvtllpaadmddfsrqlqnsmsgasadstqa\n",
      "NTNSGPDDQIGYYRRATR\n",
      "1\n"
     ]
    }
   ],
   "source": [
    "# TESTING\n",
    "test_int = 50\n",
    "print(linear[test_int])\n",
    "print(linear_sequ[test_int])\n",
    "print(linear_epi[test_int])\n",
    "print(linear_labs[test_int])"
   ]
  },
  {
   "cell_type": "code",
   "execution_count": 55,
   "metadata": {},
   "outputs": [
    {
     "name": "stdout",
     "output_type": "stream",
     "text": [
      "class balance (array([0, 1]), array([18722, 11834]))\n"
     ]
    }
   ],
   "source": [
    "print(\"class balance\", np.unique(linear_labs, return_counts=True))"
   ]
  },
  {
   "cell_type": "markdown",
   "metadata": {},
   "source": [
    "### Define features"
   ]
  },
  {
   "cell_type": "code",
   "execution_count": null,
   "metadata": {},
   "outputs": [],
   "source": [
    "def seq2features(seq):\n",
    "    for s in seq"
   ]
  }
 ],
 "metadata": {
  "kernelspec": {
   "display_name": "Python 3",
   "language": "python",
   "name": "python3"
  },
  "language_info": {
   "codemirror_mode": {
    "name": "ipython",
    "version": 3
   },
   "file_extension": ".py",
   "mimetype": "text/x-python",
   "name": "python",
   "nbconvert_exporter": "python",
   "pygments_lexer": "ipython3",
   "version": "3.7.4"
  }
 },
 "nbformat": 4,
 "nbformat_minor": 4
}
