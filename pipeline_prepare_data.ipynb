{
 "cells": [
  {
   "cell_type": "code",
   "execution_count": 1,
   "metadata": {},
   "outputs": [],
   "source": [
    "import pandas as pd\n",
    "import numpy as np\n",
    "import matplotlib.pyplot as plt\n",
    "import os\n",
    "from difflib import SequenceMatcher\n",
    "import pickle"
   ]
  },
  {
   "cell_type": "code",
   "execution_count": 2,
   "metadata": {},
   "outputs": [],
   "source": [
    "property_dict = {\n",
    "    \"A\": [\"NonPolar\", 'Neutral', 'Hydrophobic', 'NonAromatic', 'NonIonizable'],\n",
    "    \"R\": [\"Polar\", \"Positive\", 'Hydrophilic', 'NonAromatic', 'Ionizable'],\n",
    "    \"N\": [\"Polar\", 'Neutral', 'Hydrophilic', 'NonAromatic', 'NonIonizable'],\n",
    "    \"D\": [\"Polar\", \"Negative\", 'Hydrophilic', 'NonAromatic', 'Ionizable'],\n",
    "    \"C\": [\"Polar\", 'Neutral', 'Hydrophilic', 'NonAromatic', 'Ionizable'],\n",
    "    \"Q\": [\"Polar\", 'Neutral', 'Hydrophilic', 'NonAromatic', 'NonIonizable'],\n",
    "    \"E\": [\"Polar\", \"Negative\", 'Hydrophilic', 'NonAromatic', 'Ionizable'],\n",
    "    \"G\": [\"NonPolar\", 'Neutral', 'Hydrophobic', 'NonAromatic', 'NonIonizable'],\n",
    "    \"H\": [\"Polar\", \"Positive\", 'Hydrophilic', 'NonAromatic', 'Ionizable'],\n",
    "    \"I\": [\"NonPolar\", 'Neutral', 'Hydrophobic', 'NonAromatic', 'NonIonizable'],\n",
    "    \"L\": [\"NonPolar\", 'Neutral', 'Hydrophobic', 'NonAromatic', 'NonIonizable'],\n",
    "    \"K\": [\"Polar\", \"Positive\", 'Hydrophilic', 'NonAromatic', 'Ionizable'],\n",
    "    \"M\": [\"NonPolar\", 'Neutral', 'Hydrophobic', 'NonAromatic', 'NonIonizable'],\n",
    "    \"F\": [\"NonPolar\", 'Neutral', 'Hydrophobic', \"Aromatic\", 'NonIonizable'],\n",
    "    \"P\": [\"NonPolar\", 'Neutral', 'Hydrophobic', 'NonAromatic', 'NonIonizable'],\n",
    "    \"S\": [\"Polar\", 'Neutral', 'Hydrophilic', 'NonAromatic', 'NonIonizable'],\n",
    "    \"T\": [\"Polar\", 'Neutral', 'Hydrophilic', 'NonAromatic', 'NonIonizable'],\n",
    "    \"W\": [\"NonPolar\", 'Neutral', 'Hydrophobic', \"Aromatic\", 'NonIonizable'],\n",
    "    \"Y\": [\"Polar\", 'Neutral', 'Hydrophobic', \"Aromatic\", 'Ionizable'],\n",
    "    \"V\": [\"NonPolar\", 'Neutral', 'Hydrophobic', 'NonAromatic', 'NonIonizable']\n",
    "}\n",
    "\n",
    "mapping = {'Hydrophobic':0, 'Hydrophilic':1, 'Neutral':0, 'Positive':1, 'Negative':-1, 'Polar':1, 'NonPolar':0, 'Aromatic':1, 'NonAromatic':0, 'Ionizable':1, 'NonIonizable':0}\n",
    "\n",
    "feature_dict = {}\n",
    "for key in property_dict.keys():\n",
    "    vals = [mapping[p] for p in property_dict[key]]\n",
    "    feature_dict[key.lower()] = vals"
   ]
  },
  {
   "cell_type": "code",
   "execution_count": 3,
   "metadata": {},
   "outputs": [
    {
     "data": {
      "text/plain": [
       "{'a': [0, 0, 0, 0, 0],\n",
       " 'r': [1, 1, 1, 0, 1],\n",
       " 'n': [1, 0, 1, 0, 0],\n",
       " 'd': [1, -1, 1, 0, 1],\n",
       " 'c': [1, 0, 1, 0, 1],\n",
       " 'q': [1, 0, 1, 0, 0],\n",
       " 'e': [1, -1, 1, 0, 1],\n",
       " 'g': [0, 0, 0, 0, 0],\n",
       " 'h': [1, 1, 1, 0, 1],\n",
       " 'i': [0, 0, 0, 0, 0],\n",
       " 'l': [0, 0, 0, 0, 0],\n",
       " 'k': [1, 1, 1, 0, 1],\n",
       " 'm': [0, 0, 0, 0, 0],\n",
       " 'f': [0, 0, 0, 1, 0],\n",
       " 'p': [0, 0, 0, 0, 0],\n",
       " 's': [1, 0, 1, 0, 0],\n",
       " 't': [1, 0, 1, 0, 0],\n",
       " 'w': [0, 0, 0, 1, 0],\n",
       " 'y': [1, 0, 0, 1, 1],\n",
       " 'v': [0, 0, 0, 0, 0]}"
      ]
     },
     "execution_count": 3,
     "metadata": {},
     "output_type": "execute_result"
    }
   ],
   "source": [
    "feature_dict"
   ]
  },
  {
   "cell_type": "markdown",
   "metadata": {},
   "source": [
    "### Load new features"
   ]
  },
  {
   "cell_type": "code",
   "execution_count": 4,
   "metadata": {},
   "outputs": [],
   "source": [
    "feats = pd.read_csv(\"data/features_AA.csv\", header=None)"
   ]
  },
  {
   "cell_type": "code",
   "execution_count": 5,
   "metadata": {},
   "outputs": [],
   "source": [
    "feats = feats.replace(to_replace='-', value=0)"
   ]
  },
  {
   "cell_type": "code",
   "execution_count": 6,
   "metadata": {},
   "outputs": [
    {
     "data": {
      "text/html": [
       "<div>\n",
       "<style scoped>\n",
       "    .dataframe tbody tr th:only-of-type {\n",
       "        vertical-align: middle;\n",
       "    }\n",
       "\n",
       "    .dataframe tbody tr th {\n",
       "        vertical-align: top;\n",
       "    }\n",
       "\n",
       "    .dataframe thead th {\n",
       "        text-align: right;\n",
       "    }\n",
       "</style>\n",
       "<table border=\"1\" class=\"dataframe\">\n",
       "  <thead>\n",
       "    <tr style=\"text-align: right;\">\n",
       "      <th></th>\n",
       "      <th>0</th>\n",
       "      <th>1</th>\n",
       "      <th>2</th>\n",
       "      <th>3</th>\n",
       "      <th>4</th>\n",
       "      <th>5</th>\n",
       "      <th>6</th>\n",
       "      <th>7</th>\n",
       "      <th>8</th>\n",
       "      <th>9</th>\n",
       "    </tr>\n",
       "  </thead>\n",
       "  <tbody>\n",
       "    <tr>\n",
       "      <th>0</th>\n",
       "      <td>Alanine</td>\n",
       "      <td>Ala</td>\n",
       "      <td>A</td>\n",
       "      <td>89.10</td>\n",
       "      <td>71.08</td>\n",
       "      <td>2.34</td>\n",
       "      <td>9.69</td>\n",
       "      <td>0.00</td>\n",
       "      <td>6.00</td>\n",
       "      <td>47</td>\n",
       "    </tr>\n",
       "    <tr>\n",
       "      <th>1</th>\n",
       "      <td>Arginine</td>\n",
       "      <td>Arg</td>\n",
       "      <td>R</td>\n",
       "      <td>174.20</td>\n",
       "      <td>156.19</td>\n",
       "      <td>2.17</td>\n",
       "      <td>9.04</td>\n",
       "      <td>12.48</td>\n",
       "      <td>10.76</td>\n",
       "      <td>-26</td>\n",
       "    </tr>\n",
       "    <tr>\n",
       "      <th>2</th>\n",
       "      <td>Asparagine</td>\n",
       "      <td>Asn</td>\n",
       "      <td>N</td>\n",
       "      <td>132.12</td>\n",
       "      <td>114.11</td>\n",
       "      <td>2.02</td>\n",
       "      <td>8.80</td>\n",
       "      <td>0.00</td>\n",
       "      <td>5.41</td>\n",
       "      <td>-41</td>\n",
       "    </tr>\n",
       "    <tr>\n",
       "      <th>3</th>\n",
       "      <td>Aspartic acid</td>\n",
       "      <td>Asp</td>\n",
       "      <td>D</td>\n",
       "      <td>133.11</td>\n",
       "      <td>115.09</td>\n",
       "      <td>1.88</td>\n",
       "      <td>9.60</td>\n",
       "      <td>3.65</td>\n",
       "      <td>2.77</td>\n",
       "      <td>-18</td>\n",
       "    </tr>\n",
       "    <tr>\n",
       "      <th>4</th>\n",
       "      <td>Cysteine</td>\n",
       "      <td>Cys</td>\n",
       "      <td>C</td>\n",
       "      <td>121.16</td>\n",
       "      <td>103.15</td>\n",
       "      <td>1.96</td>\n",
       "      <td>10.28</td>\n",
       "      <td>8.18</td>\n",
       "      <td>5.07</td>\n",
       "      <td>52</td>\n",
       "    </tr>\n",
       "    <tr>\n",
       "      <th>5</th>\n",
       "      <td>Glutamic acid</td>\n",
       "      <td>Glu</td>\n",
       "      <td>E</td>\n",
       "      <td>147.13</td>\n",
       "      <td>129.12</td>\n",
       "      <td>2.19</td>\n",
       "      <td>9.67</td>\n",
       "      <td>4.25</td>\n",
       "      <td>3.22</td>\n",
       "      <td>8</td>\n",
       "    </tr>\n",
       "    <tr>\n",
       "      <th>6</th>\n",
       "      <td>Glutamine</td>\n",
       "      <td>Gln</td>\n",
       "      <td>Q</td>\n",
       "      <td>146.15</td>\n",
       "      <td>128.13</td>\n",
       "      <td>2.17</td>\n",
       "      <td>9.13</td>\n",
       "      <td>0.00</td>\n",
       "      <td>5.65</td>\n",
       "      <td>-18</td>\n",
       "    </tr>\n",
       "    <tr>\n",
       "      <th>7</th>\n",
       "      <td>Glycine</td>\n",
       "      <td>Gly</td>\n",
       "      <td>G</td>\n",
       "      <td>75.07</td>\n",
       "      <td>57.05</td>\n",
       "      <td>2.34</td>\n",
       "      <td>9.60</td>\n",
       "      <td>0.00</td>\n",
       "      <td>5.97</td>\n",
       "      <td>0</td>\n",
       "    </tr>\n",
       "    <tr>\n",
       "      <th>8</th>\n",
       "      <td>Histidine</td>\n",
       "      <td>His</td>\n",
       "      <td>H</td>\n",
       "      <td>155.16</td>\n",
       "      <td>137.14</td>\n",
       "      <td>1.82</td>\n",
       "      <td>9.17</td>\n",
       "      <td>6.00</td>\n",
       "      <td>7.59</td>\n",
       "      <td>-42</td>\n",
       "    </tr>\n",
       "    <tr>\n",
       "      <th>9</th>\n",
       "      <td>Hydroxyproline</td>\n",
       "      <td>Hyp</td>\n",
       "      <td>O</td>\n",
       "      <td>131.13</td>\n",
       "      <td>113.11</td>\n",
       "      <td>1.82</td>\n",
       "      <td>9.65</td>\n",
       "      <td>0.00</td>\n",
       "      <td>0.00</td>\n",
       "      <td>0</td>\n",
       "    </tr>\n",
       "    <tr>\n",
       "      <th>10</th>\n",
       "      <td>Isoleucine</td>\n",
       "      <td>Ile</td>\n",
       "      <td>I</td>\n",
       "      <td>131.18</td>\n",
       "      <td>113.16</td>\n",
       "      <td>2.36</td>\n",
       "      <td>9.60</td>\n",
       "      <td>0.00</td>\n",
       "      <td>6.02</td>\n",
       "      <td>100</td>\n",
       "    </tr>\n",
       "    <tr>\n",
       "      <th>11</th>\n",
       "      <td>Leucine</td>\n",
       "      <td>Leu</td>\n",
       "      <td>L</td>\n",
       "      <td>131.18</td>\n",
       "      <td>113.16</td>\n",
       "      <td>2.36</td>\n",
       "      <td>9.60</td>\n",
       "      <td>0.00</td>\n",
       "      <td>5.98</td>\n",
       "      <td>100</td>\n",
       "    </tr>\n",
       "    <tr>\n",
       "      <th>12</th>\n",
       "      <td>Lysine</td>\n",
       "      <td>Lys</td>\n",
       "      <td>K</td>\n",
       "      <td>146.19</td>\n",
       "      <td>128.18</td>\n",
       "      <td>2.18</td>\n",
       "      <td>8.95</td>\n",
       "      <td>10.53</td>\n",
       "      <td>9.74</td>\n",
       "      <td>-37</td>\n",
       "    </tr>\n",
       "    <tr>\n",
       "      <th>13</th>\n",
       "      <td>Methionine</td>\n",
       "      <td>Met</td>\n",
       "      <td>M</td>\n",
       "      <td>149.21</td>\n",
       "      <td>131.20</td>\n",
       "      <td>2.28</td>\n",
       "      <td>9.21</td>\n",
       "      <td>0.00</td>\n",
       "      <td>5.74</td>\n",
       "      <td>74</td>\n",
       "    </tr>\n",
       "    <tr>\n",
       "      <th>14</th>\n",
       "      <td>Phenylalanine</td>\n",
       "      <td>Phe</td>\n",
       "      <td>F</td>\n",
       "      <td>165.19</td>\n",
       "      <td>147.18</td>\n",
       "      <td>1.83</td>\n",
       "      <td>9.13</td>\n",
       "      <td>0.00</td>\n",
       "      <td>5.48</td>\n",
       "      <td>92</td>\n",
       "    </tr>\n",
       "    <tr>\n",
       "      <th>15</th>\n",
       "      <td>Proline</td>\n",
       "      <td>Pro</td>\n",
       "      <td>P</td>\n",
       "      <td>115.13</td>\n",
       "      <td>97.12</td>\n",
       "      <td>1.99</td>\n",
       "      <td>10.60</td>\n",
       "      <td>0.00</td>\n",
       "      <td>6.30</td>\n",
       "      <td>-46</td>\n",
       "    </tr>\n",
       "    <tr>\n",
       "      <th>16</th>\n",
       "      <td>Pyroglutamatic</td>\n",
       "      <td>Glp</td>\n",
       "      <td>U</td>\n",
       "      <td>139.11</td>\n",
       "      <td>121.09</td>\n",
       "      <td>0.00</td>\n",
       "      <td>0.00</td>\n",
       "      <td>0.00</td>\n",
       "      <td>5.68</td>\n",
       "      <td>0</td>\n",
       "    </tr>\n",
       "    <tr>\n",
       "      <th>17</th>\n",
       "      <td>Serine</td>\n",
       "      <td>Ser</td>\n",
       "      <td>S</td>\n",
       "      <td>105.09</td>\n",
       "      <td>87.08</td>\n",
       "      <td>2.21</td>\n",
       "      <td>9.15</td>\n",
       "      <td>0.00</td>\n",
       "      <td>5.68</td>\n",
       "      <td>-7</td>\n",
       "    </tr>\n",
       "    <tr>\n",
       "      <th>18</th>\n",
       "      <td>Threonine</td>\n",
       "      <td>Thr</td>\n",
       "      <td>T</td>\n",
       "      <td>119.12</td>\n",
       "      <td>101.11</td>\n",
       "      <td>2.09</td>\n",
       "      <td>9.10</td>\n",
       "      <td>0.00</td>\n",
       "      <td>5.60</td>\n",
       "      <td>13</td>\n",
       "    </tr>\n",
       "    <tr>\n",
       "      <th>19</th>\n",
       "      <td>Tryptophan</td>\n",
       "      <td>Trp</td>\n",
       "      <td>W</td>\n",
       "      <td>204.23</td>\n",
       "      <td>186.22</td>\n",
       "      <td>2.83</td>\n",
       "      <td>9.39</td>\n",
       "      <td>0.00</td>\n",
       "      <td>5.89</td>\n",
       "      <td>84</td>\n",
       "    </tr>\n",
       "    <tr>\n",
       "      <th>20</th>\n",
       "      <td>Tyrosine</td>\n",
       "      <td>Tyr</td>\n",
       "      <td>Y</td>\n",
       "      <td>181.19</td>\n",
       "      <td>163.18</td>\n",
       "      <td>2.20</td>\n",
       "      <td>9.11</td>\n",
       "      <td>10.07</td>\n",
       "      <td>5.66</td>\n",
       "      <td>49</td>\n",
       "    </tr>\n",
       "    <tr>\n",
       "      <th>21</th>\n",
       "      <td>Valine</td>\n",
       "      <td>Val</td>\n",
       "      <td>V</td>\n",
       "      <td>117.15</td>\n",
       "      <td>99.13</td>\n",
       "      <td>2.32</td>\n",
       "      <td>9.62</td>\n",
       "      <td>0.00</td>\n",
       "      <td>5.96</td>\n",
       "      <td>97</td>\n",
       "    </tr>\n",
       "  </tbody>\n",
       "</table>\n",
       "</div>"
      ],
      "text/plain": [
       "                 0    1  2       3       4     5      6      7      8    9\n",
       "0          Alanine  Ala  A   89.10   71.08  2.34   9.69   0.00   6.00   47\n",
       "1         Arginine  Arg  R  174.20  156.19  2.17   9.04  12.48  10.76  -26\n",
       "2       Asparagine  Asn  N  132.12  114.11  2.02   8.80   0.00   5.41  -41\n",
       "3    Aspartic acid  Asp  D  133.11  115.09  1.88   9.60   3.65   2.77  -18\n",
       "4         Cysteine  Cys  C  121.16  103.15  1.96  10.28   8.18   5.07   52\n",
       "5    Glutamic acid  Glu  E  147.13  129.12  2.19   9.67   4.25   3.22    8\n",
       "6        Glutamine  Gln  Q  146.15  128.13  2.17   9.13   0.00   5.65  -18\n",
       "7          Glycine  Gly  G   75.07   57.05  2.34   9.60   0.00   5.97    0\n",
       "8        Histidine  His  H  155.16  137.14  1.82   9.17   6.00   7.59  -42\n",
       "9   Hydroxyproline  Hyp  O  131.13  113.11  1.82   9.65   0.00   0.00    0\n",
       "10      Isoleucine  Ile  I  131.18  113.16  2.36   9.60   0.00   6.02  100\n",
       "11         Leucine  Leu  L  131.18  113.16  2.36   9.60   0.00   5.98  100\n",
       "12          Lysine  Lys  K  146.19  128.18  2.18   8.95  10.53   9.74  -37\n",
       "13      Methionine  Met  M  149.21  131.20  2.28   9.21   0.00   5.74   74\n",
       "14   Phenylalanine  Phe  F  165.19  147.18  1.83   9.13   0.00   5.48   92\n",
       "15         Proline  Pro  P  115.13   97.12  1.99  10.60   0.00   6.30  -46\n",
       "16  Pyroglutamatic  Glp  U  139.11  121.09  0.00   0.00   0.00   5.68    0\n",
       "17          Serine  Ser  S  105.09   87.08  2.21   9.15   0.00   5.68   -7\n",
       "18       Threonine  Thr  T  119.12  101.11  2.09   9.10   0.00   5.60   13\n",
       "19      Tryptophan  Trp  W  204.23  186.22  2.83   9.39   0.00   5.89   84\n",
       "20        Tyrosine  Tyr  Y  181.19  163.18  2.20   9.11  10.07   5.66   49\n",
       "21          Valine  Val  V  117.15   99.13  2.32   9.62   0.00   5.96   97"
      ]
     },
     "execution_count": 6,
     "metadata": {},
     "output_type": "execute_result"
    }
   ],
   "source": [
    "feats"
   ]
  },
  {
   "cell_type": "code",
   "execution_count": 7,
   "metadata": {},
   "outputs": [],
   "source": [
    "for i, row in feats.iterrows():\n",
    "    l = list(row[3:])\n",
    "    one_hot = [0 for _ in range(len(feats))]\n",
    "    one_hot[i] = 1\n",
    "    try:\n",
    "        feature_dict[row[2].lower()].extend(l+one_hot)\n",
    "    except KeyError:\n",
    "        feature_dict[row[2].lower()] = [0 for _ in range(5)] + l + one_hot"
   ]
  },
  {
   "cell_type": "code",
   "execution_count": 8,
   "metadata": {},
   "outputs": [],
   "source": [
    "prop_arr = np.array(list(feature_dict.values()))"
   ]
  },
  {
   "cell_type": "code",
   "execution_count": 9,
   "metadata": {},
   "outputs": [],
   "source": [
    "mean_props = np.mean(prop_arr, axis=0)"
   ]
  },
  {
   "cell_type": "code",
   "execution_count": 10,
   "metadata": {
    "scrolled": true
   },
   "outputs": [],
   "source": [
    "feature_dict[\"x\"] = mean_props # can be any\n",
    "feature_dict[\"z\"] = feature_dict[\"e\"] # = e\n",
    "feature_dict[\"b\"] = list(0.5* (np.array(feature_dict[\"n\"]) + np.array(feature_dict[\"d\"]))) # mix of ([1, 0, 1, 0, 0], [1, -1, 1, 0, 1]) # n or d\n",
    "feature_dict[\"j\"] = list(0.5* (np.array(feature_dict[\"l\"]) + np.array(feature_dict[\"i\"]))) # [0,0,0,0,0] # =l = i"
   ]
  },
  {
   "cell_type": "markdown",
   "metadata": {},
   "source": [
    "### Prepare data"
   ]
  },
  {
   "cell_type": "code",
   "execution_count": 11,
   "metadata": {},
   "outputs": [],
   "source": [
    "def seq2features(seq):\n",
    "    return [feature_dict[s.lower()] for s in seq]\n",
    "\n",
    "def pad_seq_simple(seq, pad_len=10):\n",
    "    return \"\".join([\"x\" for _ in range(pad_len)])+seq+\"\".join([\"x\" for _ in range(pad_len)])\n",
    "\n",
    "def seq2windowfeatures(seq, window_r=4):\n",
    "    seq_padded = pad_seq_simple(seq, pad_len=window_r)\n",
    "    feats = np.array([feature_dict[s.lower()] for s in seq_padded])\n",
    "    window_feats = np.array([feats[i-window_r:i+window_r+1] for i in range(window_r, len(seq)+window_r)])\n",
    "    return window_feats"
   ]
  },
  {
   "cell_type": "code",
   "execution_count": 12,
   "metadata": {},
   "outputs": [],
   "source": [
    "with open(os.path.join(\"data/raw/iedb_linear_epitopes.fasta\"), \"r\") as infile:\n",
    "    txt_linear = infile.read()"
   ]
  },
  {
   "cell_type": "markdown",
   "metadata": {},
   "source": [
    "### Data for sequence model"
   ]
  },
  {
   "cell_type": "code",
   "execution_count": 38,
   "metadata": {},
   "outputs": [],
   "source": [
    "linear = txt_linear.split(\">\")[1:]\n",
    "\n",
    "linear_data_seq = list()\n",
    "linear_labels = list()\n",
    "linear_inds = list()\n",
    "\n",
    "for i, entry in enumerate(linear[10000:10200]): # linear[:len(linear)//5] TRAIN DATA # 1000-1200 is TEST SET\n",
    "    split_entry = entry.split(\"\\n\")\n",
    "    \n",
    "    linear_metadata.append(split_entry[0])\n",
    "    \n",
    "    # data for predictive model\n",
    "    # only_epis = [s for s in split_entry[1] if s.isupper()]\n",
    "    # linear_data_pred.append(seq2features(only_epis)) # simply features for each entry\n",
    "\n",
    "    if split_entry[0][:3]==\"Pos\":\n",
    "        linear_pos_neg.append(1)\n",
    "        \n",
    "        # data for the seq model: requires whole seq single with features\n",
    "        gt = np.array([s.isupper() for s in split_entry[1]])\n",
    "        inds = np.where(gt==1)[0]\n",
    "        low = max([inds[0] - len(inds), 0])\n",
    "        high = min([inds[-1] + len(inds), len(split_entry[1])])\n",
    "        # print(inds, low, high)\n",
    "        feat_arr = seq2windowfeatures(split_entry[1])\n",
    "        linear_labels.append(gt[low:high])\n",
    "        linear_data_seq.append(feat_arr[low:high])\n",
    "        linear_inds.append([i for _ in range(len(split_entry[1]))])\n",
    "        \n",
    "    # if negative\n",
    "    else: \n",
    "        linear_pos_neg.append(0)"
   ]
  },
  {
   "cell_type": "code",
   "execution_count": 39,
   "metadata": {},
   "outputs": [
    {
     "name": "stdout",
     "output_type": "stream",
     "text": [
      "(138107, 9, 34)\n"
     ]
    }
   ],
   "source": [
    "linear_data_concat = np.concatenate(linear_data_seq, axis=0)\n",
    "print(linear_data_concat.shape)"
   ]
  },
  {
   "cell_type": "code",
   "execution_count": 40,
   "metadata": {},
   "outputs": [],
   "source": [
    "linear_labels_concat = np.concatenate(linear_labels, axis=0)\n",
    "linear_inds_concat = np.concatenate(linear_inds, axis=0)"
   ]
  },
  {
   "cell_type": "code",
   "execution_count": 44,
   "metadata": {},
   "outputs": [
    {
     "data": {
      "text/plain": [
       "690.535"
      ]
     },
     "execution_count": 44,
     "metadata": {},
     "output_type": "execute_result"
    }
   ],
   "source": [
    "138107 / 200 # average sequence length"
   ]
  },
  {
   "cell_type": "code",
   "execution_count": 45,
   "metadata": {},
   "outputs": [],
   "source": [
    "with open(\"seq_model_test\", \"wb\") as outfile:\n",
    "    pickle.dump((linear_data_concat, linear_labels_concat, linear_inds_concat), outfile)"
   ]
  },
  {
   "cell_type": "code",
   "execution_count": 51,
   "metadata": {},
   "outputs": [
    {
     "data": {
      "text/plain": [
       "[<matplotlib.lines.Line2D at 0x1202d6fd0>]"
      ]
     },
     "execution_count": 51,
     "metadata": {},
     "output_type": "execute_result"
    },
    {
     "data": {
      "image/png": "[encoded data removed]",
      "text/plain": [
       "<Figure size 432x288 with 1 Axes>"
      ]
     },
     "metadata": {
      "needs_background": "light"
     },
     "output_type": "display_data"
    }
   ],
   "source": [
    "plt.plot(linear_labels[1])"
   ]
  },
  {
   "cell_type": "markdown",
   "metadata": {},
   "source": [
    "### Data for predictive model"
   ]
  },
  {
   "cell_type": "code",
   "execution_count": 134,
   "metadata": {},
   "outputs": [],
   "source": [
    "linear = txt_linear.split(\">\")[1:]\n",
    "\n",
    "linear_data_pred = list()\n",
    "linear_pos_neg = list()\n",
    "for i, entry in enumerate(linear[:len(linear)//5]): # TRAIN DATA: \n",
    "    split_entry = entry.split(\"\\n\")\n",
    "    \n",
    "    # data for predictive model\n",
    "    only_epis = [s for s in split_entry[1] if s.isupper()]\n",
    "    linear_data_pred.append(seq2features(only_epis)) # simply features for each entry\n",
    "\n",
    "    if split_entry[0][:3]==\"Pos\":\n",
    "        linear_pos_neg.append(1)\n",
    "    # if negative\n",
    "    else: \n",
    "        linear_pos_neg.append(0)\n",
    "\n",
    "# save\n",
    "with open(\"pred_model_data\", \"wb\") as outfile:\n",
    "    pickle.dump((linear_data_pred, linear_pos_neg), outfile)"
   ]
  },
  {
   "cell_type": "code",
   "execution_count": 128,
   "metadata": {},
   "outputs": [
    {
     "data": {
      "text/plain": [
       "(433, 34)"
      ]
     },
     "execution_count": 128,
     "metadata": {},
     "output_type": "execute_result"
    }
   ],
   "source": [
    "np.array(linear_data_pred[1]).shape"
   ]
  },
  {
   "cell_type": "code",
   "execution_count": 131,
   "metadata": {},
   "outputs": [
    {
     "data": {
      "text/plain": [
       "'PositiveID_29205\\nmsdltdiqeditrheqqlIVARQKLKDAERAVevdpddvnkntlqarqqtvsaledkladykrrmadavsrkkmdtkptdptgiepddhlkersslrygnvldvnaidieepsgqtadwytigvyvigftlpiilkalymlstrgrqtvkenkgtrirfkddtsfedingirrpkhlyvsmptaqstmkaeeltpgrfrtivcglfptqiqvrnimspvmgvigfsffvkdwserirefmekecpfikpevkpgtpaqeiemlkrnkiyfmqrqdvldknhvadidklidyaasgdptspdnidspnapwvfacapdrcpptciyvagmaelgaffsilqdmrntimasktvgtaeeklkkkssfyqsylrrtqsmgiqldqriillfmlewgkemvdhfhlgddmdpelrglaqalidqkvkeisnqeplki\\n'"
      ]
     },
     "execution_count": 131,
     "metadata": {},
     "output_type": "execute_result"
    }
   ],
   "source": [
    "linear[1]"
   ]
  },
  {
   "cell_type": "markdown",
   "metadata": {},
   "source": [
    "## Prepare epi data"
   ]
  },
  {
   "cell_type": "code",
   "execution_count": 16,
   "metadata": {},
   "outputs": [],
   "source": [
    "data = pd.read_csv(os.path.join(\"data/raw\", \"epitope_table_export_1582825906.csv\"))\n",
    "epitopes_sars = data[\"Epitope.2\"][1:-1].values\n",
    "out_s = list()\n",
    "for epi in epitopes_sars:\n",
    "    new_s = []\n",
    "    for e in epi:\n",
    "        if e==\" \":\n",
    "            break\n",
    "        new_s.append(feature_dict[e.lower()])\n",
    "    out_s.append(new_s)"
   ]
  },
  {
   "cell_type": "code",
   "execution_count": 21,
   "metadata": {},
   "outputs": [],
   "source": [
    "with open(\"epi_sars_data\", \"wb\") as outfile:\n",
    "    pickle.dump(out_s, outfile)"
   ]
  },
  {
   "cell_type": "markdown",
   "metadata": {},
   "source": [
    "## Prepare protein sequences"
   ]
  },
  {
   "cell_type": "code",
   "execution_count": 52,
   "metadata": {},
   "outputs": [],
   "source": [
    "with open(os.path.join(\"data/raw/corona2019_proteins_silicosapiens.txt\"), \"r\") as infile:\n",
    "    txt_proteins = infile.read()"
   ]
  },
  {
   "cell_type": "code",
   "execution_count": 55,
   "metadata": {},
   "outputs": [],
   "source": [
    "proteins = txt_proteins.split(\">\")[1:]"
   ]
  },
  {
   "cell_type": "code",
   "execution_count": 68,
   "metadata": {},
   "outputs": [],
   "source": [
    "protein_data = []\n",
    "protein_ids = []\n",
    "for i, prot in enumerate(proteins):\n",
    "    actual_sequ = \"\".join(prot.split(\"\\n\")[1:])\n",
    "    protein_data.append(seq2windowfeatures(actual_sequ))\n",
    "    protein_ids.append([i for _ in range(len(actual_sequ))])"
   ]
  },
  {
   "cell_type": "code",
   "execution_count": 69,
   "metadata": {},
   "outputs": [],
   "source": [
    "protein_ids_concat = np.concatenate(protein_ids, axis=0)"
   ]
  },
  {
   "cell_type": "code",
   "execution_count": 71,
   "metadata": {},
   "outputs": [],
   "source": [
    "protein_data_concat = np.concatenate(protein_data, axis=0)"
   ]
  },
  {
   "cell_type": "code",
   "execution_count": 73,
   "metadata": {},
   "outputs": [
    {
     "data": {
      "text/plain": [
       "((453897, 9, 34), (453897,))"
      ]
     },
     "execution_count": 73,
     "metadata": {},
     "output_type": "execute_result"
    }
   ],
   "source": [
    "protein_data_concat.shape, protein_ids_concat.shape"
   ]
  },
  {
   "cell_type": "code",
   "execution_count": 74,
   "metadata": {},
   "outputs": [],
   "source": [
    "with open(\"protein_seq_data\", \"wb\") as outfile:\n",
    "    pickle.dump((protein_data_concat, protein_ids_concat) , outfile)"
   ]
  },
  {
   "cell_type": "code",
   "execution_count": null,
   "metadata": {},
   "outputs": [],
   "source": []
  }
 ],
 "metadata": {
  "kernelspec": {
   "display_name": "Python 3",
   "language": "python",
   "name": "python3"
  },
  "language_info": {
   "codemirror_mode": {
    "name": "ipython",
    "version": 3
   },
   "file_extension": ".py",
   "mimetype": "text/x-python",
   "name": "python",
   "nbconvert_exporter": "python",
   "pygments_lexer": "ipython3",
   "version": "3.6.10"
  }
 },
 "nbformat": 4,
 "nbformat_minor": 4
}
