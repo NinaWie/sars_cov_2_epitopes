{
 "cells": [
  {
   "cell_type": "code",
   "execution_count": 18,
   "metadata": {},
   "outputs": [],
   "source": [
    "import pandas as pd\n",
    "import numpy as np\n",
    "import matplotlib.pyplot as plt\n",
    "import os\n",
    "from sklearn.ensemble import RandomForestClassifier, RandomForestRegressor\n",
    "from sklearn.svm import SVR\n",
    "from sklearn.metrics import accuracy_score, balanced_accuracy_score, roc_auc_score\n",
    "from tensorflow.keras.models import Sequential\n",
    "from tensorflow.keras.layers import Dense, Flatten, Dropout, Conv1D, MaxPooling1D\n",
    "from tensorflow.keras import optimizers\n",
    "import pickle\n",
    "from utils import *"
   ]
  },
  {
   "cell_type": "code",
   "execution_count": 3,
   "metadata": {},
   "outputs": [],
   "source": [
    "def pad_seq_data(seq_data, pad_val=-1, max_len=None):\n",
    "    if max_len is None:\n",
    "        lens = np.array([len(seq) for seq in seq_data])\n",
    "        max_len = np.max(lens)\n",
    "    new_seq = []\n",
    "    for i in range(len(seq_data)):\n",
    "        pad_len = max_len - len(seq_data[i])\n",
    "        if pad_len > 0:\n",
    "            padding = np.array(\n",
    "                [[pad_val for _ in range(len(seq_data[0][0]))] for _ in range(pad_len)]\n",
    "            )\n",
    "            # print(s.shape, padding.shape)\n",
    "            seq_data[i] = np.concatenate([seq_data[i], padding],\n",
    "                                         axis=0).tolist()\n",
    "        elif pad_len < 0:\n",
    "            seq_data[i] = list(seq_data[i][:max_len])\n",
    "        new_seq.append(seq_data[i])\n",
    "    return np.array(new_seq)"
   ]
  },
  {
   "cell_type": "markdown",
   "metadata": {},
   "source": [
    "# Pipeline:\n",
    "\n",
    "* take protein sequences of positive linear data\n",
    "* predict possible candidates\n",
    "* put through predictive model"
   ]
  },
  {
   "cell_type": "markdown",
   "metadata": {},
   "source": [
    "## Train sequence model"
   ]
  },
  {
   "cell_type": "code",
   "execution_count": 19,
   "metadata": {},
   "outputs": [],
   "source": [
    "with open(\"seq_model_data\", \"rb\") as infile:\n",
    "    (data_seq, labels_seq, ids) = pickle.load(infile)"
   ]
  },
  {
   "cell_type": "code",
   "execution_count": 20,
   "metadata": {},
   "outputs": [
    {
     "name": "stdout",
     "output_type": "stream",
     "text": [
      "number of protein sequences: 195437 24429 24431\n",
      "train: (195437, 9, 34) (195437,) val: (24431, 9, 34) (24431,) test: (24429, 9, 34) (24429,)\n"
     ]
    }
   ],
   "source": [
    "x_train_seq, y_train_seq, x_val_seq, y_val_seq, x_test_seq, y_test_seq = get_train_test_linear(data_seq, labels_seq, 0.8, 0.1, 0.1)"
   ]
  },
  {
   "cell_type": "code",
   "execution_count": 74,
   "metadata": {},
   "outputs": [],
   "source": [
    "include_feats_list = np.arange(5, 13, 1) # all continoous features # np.arange(0,5,1) #\n",
    "WIN_SIZE=9\n",
    "N_FEATS = len(include_feats_list)"
   ]
  },
  {
   "cell_type": "code",
   "execution_count": 75,
   "metadata": {},
   "outputs": [],
   "source": [
    "x_train_in = (x_train_seq[:,:,include_feats_list]).reshape(len(x_train_seq), WIN_SIZE*N_FEATS)\n",
    "x_val_in = (x_val_seq[:,:,include_feats_list]).reshape(len(x_val_seq), WIN_SIZE*N_FEATS)"
   ]
  },
  {
   "cell_type": "code",
   "execution_count": 76,
   "metadata": {},
   "outputs": [
    {
     "data": {
      "text/plain": [
       "RandomForestRegressor(bootstrap=True, ccp_alpha=0.0, criterion='mse',\n",
       "                      max_depth=10, max_features='auto', max_leaf_nodes=None,\n",
       "                      max_samples=None, min_impurity_decrease=0.0,\n",
       "                      min_impurity_split=None, min_samples_leaf=1,\n",
       "                      min_samples_split=2, min_weight_fraction_leaf=0.0,\n",
       "                      n_estimators=100, n_jobs=None, oob_score=False,\n",
       "                      random_state=None, verbose=0, warm_start=False)"
      ]
     },
     "execution_count": 76,
     "metadata": {},
     "output_type": "execute_result"
    }
   ],
   "source": [
    "clf = RandomForestRegressor(max_depth=10)\n",
    "clf.fit(x_train_in, y_train_seq)"
   ]
  },
  {
   "cell_type": "code",
   "execution_count": 77,
   "metadata": {},
   "outputs": [
    {
     "name": "stdout",
     "output_type": "stream",
     "text": [
      "accuracy: 0.6567885064057959 balanced: 0.5030397454708115\n",
      "roc auc: 0.5550658020860106\n"
     ]
    }
   ],
   "source": [
    "# for RF regressor\n",
    "out = clf.predict(x_val_in)\n",
    "print(\"accuracy:\", accuracy_score(y_val_seq, out>0.5), \"balanced:\", balanced_accuracy_score(y_val_seq, out>0.5))\n",
    "print(\"roc auc:\", roc_auc_score(y_val_seq, out)) # [:,1]"
   ]
  },
  {
   "cell_type": "code",
   "execution_count": 45,
   "metadata": {},
   "outputs": [
    {
     "name": "stdout",
     "output_type": "stream",
     "text": [
      "accuracy: 0.6564610535794687 balanced: 0.5015473374311555\n",
      "roc auc: 0.556436899369815\n"
     ]
    }
   ],
   "source": [
    "# for RF classifier: \n",
    "out = clf.predict_proba(x_val_in)\n",
    "print(\"accuracy:\", accuracy_score(y_val_seq, out[:,1]>0.5), \"balanced:\", balanced_accuracy_score(y_val_seq, out[:,1]>0.5))\n",
    "print(\"roc auc:\", roc_auc_score(y_val_seq, out[:,1])) # [:,1]"
   ]
  },
  {
   "cell_type": "code",
   "execution_count": 71,
   "metadata": {},
   "outputs": [
    {
     "data": {
      "image/png": "[encoded data removed]",
      "text/plain": [
       "<Figure size 432x288 with 1 Axes>"
      ]
     },
     "metadata": {
      "needs_background": "light"
     },
     "output_type": "display_data"
    }
   ],
   "source": [
    "plt.hist(out)\n",
    "plt.show()"
   ]
  },
  {
   "cell_type": "markdown",
   "metadata": {},
   "source": [
    "## Convert into candidates of epitopes"
   ]
  },
  {
   "cell_type": "code",
   "execution_count": 127,
   "metadata": {},
   "outputs": [],
   "source": [
    "with open(\"protein_seq_data\", \"rb\") as infile:\n",
    "    (test_seq, ids) = pickle.load(infile) # test_labels_seq,"
   ]
  },
  {
   "cell_type": "code",
   "execution_count": 128,
   "metadata": {},
   "outputs": [
    {
     "data": {
      "text/plain": [
       "((453897, 9, 34), (453897,))"
      ]
     },
     "execution_count": 128,
     "metadata": {},
     "output_type": "execute_result"
    }
   ],
   "source": [
    "test_seq.shape, ids.shape # , test_labels_seq.shape "
   ]
  },
  {
   "cell_type": "code",
   "execution_count": 129,
   "metadata": {},
   "outputs": [],
   "source": [
    "test_seq_in = (test_seq[:,:,include_feats_list]).reshape(len(test_seq), WIN_SIZE*N_FEATS)"
   ]
  },
  {
   "cell_type": "code",
   "execution_count": 130,
   "metadata": {},
   "outputs": [],
   "source": [
    "# test with other sequences of the linear data set\n",
    "_, counts = np.unique(ids, return_counts=True) # counts are lengths of the respective sequences\n",
    "EPI_LEN = MAX_SEQ_LEN # 15 # to avoid padding below!\n",
    "N_MAX = 3"
   ]
  },
  {
   "cell_type": "code",
   "execution_count": 131,
   "metadata": {},
   "outputs": [],
   "source": [
    "test_preds = clf.predict(test_seq_in)"
   ]
  },
  {
   "cell_type": "code",
   "execution_count": 132,
   "metadata": {},
   "outputs": [],
   "source": [
    "from scipy.signal import find_peaks \n",
    "def find_maxima(signal, n_vals=5):\n",
    "    maxima = find_peaks(signal, distance=20)[0]\n",
    "    # plt.plot(signal)\n",
    "    # plt.scatter(maxima, signal[maxima])\n",
    "    vals = signal[maxima]\n",
    "    args = np.argsort(vals)[-n_vals:]\n",
    "    # plt.scatter(maxima[args], signal[maxima[args]])\n",
    "    # plt.show()\n",
    "    return maxima[args]"
   ]
  },
  {
   "cell_type": "code",
   "execution_count": 133,
   "metadata": {
    "scrolled": true
   },
   "outputs": [],
   "source": [
    "cum_count = 0\n",
    "smooth_filter = [1 for _ in range(EPI_LEN)]\n",
    "\n",
    "candidates_per_sequ = []\n",
    "\n",
    "for c in counts:\n",
    "    sequ_out = test_preds[cum_count:cum_count+c]\n",
    "    smoothed_sequ = (np.convolve(sequ_out, smooth_filter) / EPI_LEN)[EPI_LEN//2:-EPI_LEN//2]\n",
    "    \n",
    "    # best_ids = np.argsort(smoothed_sequ)[-N_MAX:]\n",
    "    best_ids = find_maxima(np.array(smoothed_sequ), N_MAX)\n",
    "    \n",
    "    # actual features\n",
    "    test_feat_arr = test_seq[cum_count:cum_count+c]\n",
    "    \n",
    "    candidates = []\n",
    "    for b in best_ids:\n",
    "        low = max([b-EPI_LEN//2, 0])\n",
    "        high = min([b+EPI_LEN//2, len(test_feat_arr)])\n",
    "        \n",
    "        candidates.append(test_feat_arr[low:high, WIN_SIZE//2])\n",
    "    \n",
    "    candidates_per_sequ.append(candidates)\n",
    "    \n",
    "    # TESTING\n",
    "    gt = test_labels_seq[cum_count:cum_count+c]\n",
    "    \n",
    "    # print(best_ids)\n",
    "    # print(len(smoothed_sequ), len(sequ_out))\n",
    "    # plt.figure(figsize=(20,10))\n",
    "    # plt.plot(gt, label=\"gt\")\n",
    "    # plt.plot(smoothed_sequ, label=\"smooth\")\n",
    "    # plt.plot(sequ_out, label=\"preds\")\n",
    "    # plt.scatter(best_ids, sequ_out[best_ids])\n",
    "    # plt.legend()\n",
    "    # plt.show()\n",
    "    \n",
    "    cum_count += c"
   ]
  },
  {
   "cell_type": "markdown",
   "metadata": {},
   "source": [
    "## Train predictive model"
   ]
  },
  {
   "cell_type": "code",
   "execution_count": 4,
   "metadata": {},
   "outputs": [],
   "source": [
    "## old version\n",
    "# linear_df = pd.read_csv(\"data/linear_data_seq.csv\")\n",
    "# data = np.array([eval(d) for d in linear_df[\"data\"]])\n",
    "# labels = linear_df[\"labels\"].values\n",
    "\n",
    "with open(\"pred_model_data\", \"rb\") as infile:\n",
    "    data, labels = pickle.load(infile)"
   ]
  },
  {
   "cell_type": "code",
   "execution_count": 5,
   "metadata": {},
   "outputs": [
    {
     "data": {
      "image/png": "[encoded data removed]",
      "text/plain": [
       "<Figure size 432x288 with 1 Axes>"
      ]
     },
     "metadata": {
      "needs_background": "light"
     },
     "output_type": "display_data"
    }
   ],
   "source": [
    "lens = np.array([len(d) for d in data])\n",
    "plt.hist(lens)\n",
    "plt.show()"
   ]
  },
  {
   "cell_type": "code",
   "execution_count": 6,
   "metadata": {},
   "outputs": [
    {
     "name": "stdout",
     "output_type": "stream",
     "text": [
      "(30556, 30, 34) 30556\n"
     ]
    }
   ],
   "source": [
    "MAX_SEQ_LEN = 30\n",
    "N_FEATURES = 34\n",
    "# padding and trim to max length\n",
    "data = pad_seq_data(data, max_len=MAX_SEQ_LEN, pad_val=-2)\n",
    "print(data.shape, len(labels))\n",
    "# normalize\n",
    "data = (data-np.min(data))/ (np.max(data)-np.min(data))"
   ]
  },
  {
   "cell_type": "markdown",
   "metadata": {},
   "source": [
    "### Balance"
   ]
  },
  {
   "cell_type": "code",
   "execution_count": 7,
   "metadata": {},
   "outputs": [],
   "source": [
    "_, c = np.unique(labels, return_counts=True)\n",
    "cutoff = 2 * c[1]\n",
    "labels = labels[:cutoff]\n",
    "data = data[:cutoff]"
   ]
  },
  {
   "cell_type": "markdown",
   "metadata": {},
   "source": [
    "### Construct train and test set"
   ]
  },
  {
   "cell_type": "code",
   "execution_count": 8,
   "metadata": {},
   "outputs": [
    {
     "name": "stdout",
     "output_type": "stream",
     "text": [
      "number of protein sequences: 18934 2366 2368\n",
      "train: (18934, 30, 34) (18934,) val: (2368, 30, 34) (2368,) test: (2366, 30, 34) (2366,)\n"
     ]
    }
   ],
   "source": [
    "def get_train_test_linear(data, labels, train_size, test_size, val_size):\n",
    "    # first select train and test samples\n",
    "    inds = np.random.permutation(len(data))\n",
    "    train_inds = inds[:int(train_size*len(inds))]\n",
    "    test_inds = inds[int(train_size*len(inds)): int(train_size*len(inds))+int(test_size*len(inds))]\n",
    "    val_inds = inds[int(train_size*len(inds))+int(test_size*len(inds)):]\n",
    "    \n",
    "    x_train = data[train_inds]\n",
    "    y_train = labels[train_inds]\n",
    "    x_test = data[test_inds]\n",
    "    y_test = labels[test_inds]\n",
    "    x_val = data[val_inds]\n",
    "    y_val = labels[val_inds]\n",
    "\n",
    "    print(\"number of protein sequences:\", len(train_inds), len(test_inds), len(val_inds))\n",
    "    print(\"train:\", x_train.shape, y_train.shape,\"val:\", x_val.shape, y_val.shape, \"test:\", x_test.shape, y_test.shape)\n",
    "    return x_train, y_train, x_val, y_val, x_test, y_test\n",
    "\n",
    "x_train, y_train, x_val, y_val, x_test, y_test = get_train_test_linear(data, np.array(labels), 0.8, 0.1, 0.1)"
   ]
  },
  {
   "cell_type": "markdown",
   "metadata": {},
   "source": [
    "### Train model"
   ]
  },
  {
   "cell_type": "code",
   "execution_count": 35,
   "metadata": {},
   "outputs": [],
   "source": [
    "# START CNN\n",
    "model = Sequential()\n",
    "model.add(Conv1D(filters=64, kernel_size=3, activation='relu', input_shape=(MAX_SEQ_LEN,N_FEATURES)))\n",
    "model.add(Conv1D(filters=64, kernel_size=3, activation='relu'))\n",
    "# model.add(Dropout(0.2))\n",
    "# model.add(MaxPooling1D(pool_size=2))\n",
    "model.add(Flatten())\n",
    "model.add(Dense(56, activation='relu'))\n",
    "# model.add(Dropout(0.1))\n",
    "model.add(Dense(1, activation='sigmoid'))\n",
    "sgd = optimizers.SGD(lr=0.01, decay=1e-6, momentum=0.9, nesterov=True)\n",
    "model.compile(loss='mean_squared_error', optimizer=sgd, metrics=['accuracy'])"
   ]
  },
  {
   "cell_type": "code",
   "execution_count": 37,
   "metadata": {
    "scrolled": true
   },
   "outputs": [
    {
     "name": "stdout",
     "output_type": "stream",
     "text": [
      "Train on 18934 samples, validate on 2368 samples\n",
      "Epoch 1/40\n",
      "18934/18934 [==============================] - 4s 185us/sample - loss: 0.2407 - acc: 0.5908 - val_loss: 0.2330 - val_acc: 0.6305\n",
      "Epoch 2/40\n",
      "18934/18934 [==============================] - 3s 179us/sample - loss: 0.2282 - acc: 0.6217 - val_loss: 0.2255 - val_acc: 0.6334\n",
      "Epoch 3/40\n",
      "18934/18934 [==============================] - 4s 216us/sample - loss: 0.2212 - acc: 0.6425 - val_loss: 0.2179 - val_acc: 0.6651\n",
      "Epoch 4/40\n",
      "18934/18934 [==============================] - 3s 154us/sample - loss: 0.2168 - acc: 0.6583 - val_loss: 0.2167 - val_acc: 0.6639\n",
      "Epoch 5/40\n",
      "18934/18934 [==============================] - 3s 153us/sample - loss: 0.2144 - acc: 0.6653 - val_loss: 0.2108 - val_acc: 0.6867\n",
      "Epoch 6/40\n",
      "18934/18934 [==============================] - 3s 160us/sample - loss: 0.2130 - acc: 0.6662 - val_loss: 0.2101 - val_acc: 0.6812\n",
      "Epoch 7/40\n",
      "18934/18934 [==============================] - 3s 177us/sample - loss: 0.2121 - acc: 0.6713 - val_loss: 0.2075 - val_acc: 0.6926\n",
      "Epoch 8/40\n",
      "18934/18934 [==============================] - 3s 172us/sample - loss: 0.2115 - acc: 0.6698 - val_loss: 0.2063 - val_acc: 0.6909\n",
      "Epoch 9/40\n",
      "18934/18934 [==============================] - 3s 149us/sample - loss: 0.2106 - acc: 0.6724 - val_loss: 0.2058 - val_acc: 0.7019\n",
      "Epoch 10/40\n",
      "18934/18934 [==============================] - 3s 152us/sample - loss: 0.2104 - acc: 0.6732 - val_loss: 0.2057 - val_acc: 0.6900\n",
      "Epoch 11/40\n",
      "18934/18934 [==============================] - 3s 166us/sample - loss: 0.2097 - acc: 0.6710 - val_loss: 0.2053 - val_acc: 0.6917\n",
      "Epoch 12/40\n",
      "18934/18934 [==============================] - 3s 159us/sample - loss: 0.2091 - acc: 0.6715 - val_loss: 0.2042 - val_acc: 0.6985\n",
      "Epoch 13/40\n",
      "18934/18934 [==============================] - 3s 164us/sample - loss: 0.2088 - acc: 0.6745 - val_loss: 0.2061 - val_acc: 0.6854\n",
      "Epoch 14/40\n",
      "18934/18934 [==============================] - 4s 198us/sample - loss: 0.2082 - acc: 0.6737 - val_loss: 0.2052 - val_acc: 0.6968\n",
      "Epoch 15/40\n",
      "18934/18934 [==============================] - 3s 177us/sample - loss: 0.2081 - acc: 0.6745 - val_loss: 0.2048 - val_acc: 0.6883\n",
      "Epoch 16/40\n",
      "18934/18934 [==============================] - 3s 168us/sample - loss: 0.2076 - acc: 0.6759 - val_loss: 0.2053 - val_acc: 0.6909\n",
      "Epoch 17/40\n",
      "18934/18934 [==============================] - 5s 282us/sample - loss: 0.2075 - acc: 0.6763 - val_loss: 0.2043 - val_acc: 0.6959\n",
      "Epoch 18/40\n",
      "18934/18934 [==============================] - 5s 290us/sample - loss: 0.2071 - acc: 0.6741 - val_loss: 0.2033 - val_acc: 0.6917\n",
      "Epoch 19/40\n",
      "18934/18934 [==============================] - 6s 310us/sample - loss: 0.2071 - acc: 0.6776 - val_loss: 0.2066 - val_acc: 0.6905\n",
      "Epoch 20/40\n",
      "18934/18934 [==============================] - 5s 286us/sample - loss: 0.2067 - acc: 0.6774 - val_loss: 0.2066 - val_acc: 0.6816\n",
      "Epoch 21/40\n",
      "18934/18934 [==============================] - 6s 314us/sample - loss: 0.2064 - acc: 0.6773 - val_loss: 0.2044 - val_acc: 0.6905\n",
      "Epoch 22/40\n",
      "18934/18934 [==============================] - 5s 271us/sample - loss: 0.2062 - acc: 0.6766 - val_loss: 0.2038 - val_acc: 0.6883\n",
      "Epoch 23/40\n",
      "18934/18934 [==============================] - 5s 243us/sample - loss: 0.2059 - acc: 0.6796 - val_loss: 0.2026 - val_acc: 0.6934\n",
      "Epoch 24/40\n",
      "18934/18934 [==============================] - 4s 226us/sample - loss: 0.2059 - acc: 0.6780 - val_loss: 0.2040 - val_acc: 0.6883\n",
      "Epoch 25/40\n",
      "18934/18934 [==============================] - 5s 244us/sample - loss: 0.2056 - acc: 0.6795 - val_loss: 0.2071 - val_acc: 0.6862\n",
      "Epoch 26/40\n",
      "18934/18934 [==============================] - 4s 215us/sample - loss: 0.2057 - acc: 0.6772 - val_loss: 0.2020 - val_acc: 0.7040\n",
      "Epoch 27/40\n",
      "18934/18934 [==============================] - 5s 251us/sample - loss: 0.2055 - acc: 0.6781 - val_loss: 0.2058 - val_acc: 0.6875\n",
      "Epoch 28/40\n",
      "18934/18934 [==============================] - 5s 262us/sample - loss: 0.2056 - acc: 0.6790 - val_loss: 0.2022 - val_acc: 0.6947\n",
      "Epoch 29/40\n",
      "18934/18934 [==============================] - 3s 162us/sample - loss: 0.2050 - acc: 0.6786 - val_loss: 0.2031 - val_acc: 0.6862\n",
      "Epoch 30/40\n",
      "18934/18934 [==============================] - 3s 160us/sample - loss: 0.2046 - acc: 0.6827 - val_loss: 0.2015 - val_acc: 0.6981\n",
      "Epoch 31/40\n",
      "18934/18934 [==============================] - 3s 160us/sample - loss: 0.2048 - acc: 0.6791 - val_loss: 0.2015 - val_acc: 0.6985\n",
      "Epoch 32/40\n",
      "18934/18934 [==============================] - 3s 158us/sample - loss: 0.2044 - acc: 0.6794 - val_loss: 0.2029 - val_acc: 0.6943\n",
      "Epoch 33/40\n",
      "18934/18934 [==============================] - 3s 162us/sample - loss: 0.2046 - acc: 0.6820 - val_loss: 0.2055 - val_acc: 0.6858\n",
      "Epoch 34/40\n",
      "18934/18934 [==============================] - 3s 171us/sample - loss: 0.2039 - acc: 0.6802 - val_loss: 0.2039 - val_acc: 0.6955\n",
      "Epoch 35/40\n",
      "18934/18934 [==============================] - 3s 159us/sample - loss: 0.2044 - acc: 0.6816 - val_loss: 0.2048 - val_acc: 0.6862\n",
      "Epoch 36/40\n",
      "18934/18934 [==============================] - 3s 163us/sample - loss: 0.2039 - acc: 0.6818 - val_loss: 0.2110 - val_acc: 0.6761\n",
      "Epoch 37/40\n",
      "18934/18934 [==============================] - 3s 175us/sample - loss: 0.2037 - acc: 0.6821 - val_loss: 0.2027 - val_acc: 0.6976\n",
      "Epoch 38/40\n",
      "18934/18934 [==============================] - 3s 166us/sample - loss: 0.2038 - acc: 0.6821 - val_loss: 0.2027 - val_acc: 0.6921\n",
      "Epoch 39/40\n",
      "18934/18934 [==============================] - 3s 160us/sample - loss: 0.2034 - acc: 0.6823 - val_loss: 0.2025 - val_acc: 0.6981\n",
      "Epoch 40/40\n",
      "18934/18934 [==============================] - 3s 161us/sample - loss: 0.2033 - acc: 0.6835 - val_loss: 0.2016 - val_acc: 0.6993\n"
     ]
    }
   ],
   "source": [
    "# train model\n",
    "epochs = 40\n",
    "batch_size = 64\n",
    "history = model.fit(x_train, y_train, validation_data=(x_val, y_val), epochs=epochs, batch_size=batch_size) # , class_weight=class_weight)"
   ]
  },
  {
   "cell_type": "code",
   "execution_count": 39,
   "metadata": {},
   "outputs": [
    {
     "data": {
      "image/png": "[encoded data removed]",
      "text/plain": [
       "<Figure size 432x288 with 1 Axes>"
      ]
     },
     "metadata": {
      "needs_background": "light"
     },
     "output_type": "display_data"
    }
   ],
   "source": [
    "plt.plot(history.history['loss'])\n",
    "plt.plot(history.history['val_loss'])\n",
    "plt.title('model loss')\n",
    "plt.ylabel('loss')\n",
    "plt.xlabel('epoch')\n",
    "plt.legend(['train', 'val'], loc='upper left')\n",
    "plt.show()"
   ]
  },
  {
   "cell_type": "code",
   "execution_count": 40,
   "metadata": {},
   "outputs": [
    {
     "name": "stdout",
     "output_type": "stream",
     "text": [
      "accuracy 0.6993243\n",
      "roc auc: 0.753378375965263\n",
      "acc 1 labels 0.6029798422436459\n",
      "acc 0 labels 0.7889160554197229\n"
     ]
    }
   ],
   "source": [
    "# evaluate\n",
    "_, accuracy = model.evaluate(x_val, y_val, batch_size=batch_size, verbose=0)\n",
    "print(\"accuracy\", accuracy)\n",
    "out = model.predict(x_val)\n",
    "print(\"roc auc:\", roc_auc_score(y_val, out))\n",
    "\n",
    "print(\"acc 1 labels\", accuracy_score(y_val[y_val==1], (out[y_val==1]>0.5).astype(int)))\n",
    "print(\"acc 0 labels\", accuracy_score(y_val[y_val==0], (out[y_val==0]>0.5).astype(int)))"
   ]
  },
  {
   "cell_type": "markdown",
   "metadata": {},
   "source": [
    "### Results:\n",
    "\n",
    "**40 epochs, 64 batch size, balanced data (less negatives), max len 30**\n",
    "\n",
    "* accuracy 0.6651182\n",
    "* roc auc: 0.7301934192229126\n",
    "* acc 1 labels 0.6627810158201499\n",
    "* acc 0 labels 0.6675235646958012"
   ]
  },
  {
   "cell_type": "markdown",
   "metadata": {},
   "source": [
    "### Predict SARS epitopes"
   ]
  },
  {
   "cell_type": "code",
   "execution_count": 41,
   "metadata": {},
   "outputs": [],
   "source": [
    "with open(\"epi_sars_data\", \"rb\") as outfile:\n",
    "    epi_sars = pickle.load(outfile)"
   ]
  },
  {
   "cell_type": "code",
   "execution_count": 42,
   "metadata": {},
   "outputs": [
    {
     "name": "stdout",
     "output_type": "stream",
     "text": [
      "299\n"
     ]
    }
   ],
   "source": [
    "print(len(epis_sars))\n",
    "epis_sars_data = pad_seq_data(epi_sars, max_len=MAX_SEQ_LEN, pad_val=-2)\n",
    "norm_epis_sars_data = (epis_sars_data-np.min(epis_sars_data))/(np.max(epis_sars_data)-np.min(epis_sars_data))"
   ]
  },
  {
   "cell_type": "code",
   "execution_count": 43,
   "metadata": {},
   "outputs": [],
   "source": [
    "out_sars = model.predict(norm_epis_sars_data)"
   ]
  },
  {
   "cell_type": "code",
   "execution_count": 44,
   "metadata": {},
   "outputs": [
    {
     "name": "stdout",
     "output_type": "stream",
     "text": [
      "accuracy: 0.7993311036789298\n"
     ]
    },
    {
     "data": {
      "image/png": "[encoded data removed]",
      "text/plain": [
       "<Figure size 432x288 with 1 Axes>"
      ]
     },
     "metadata": {
      "needs_background": "light"
     },
     "output_type": "display_data"
    }
   ],
   "source": [
    "gt_epi_labels = [1 for _ in range(len(epis_sars))]\n",
    "print(\"accuracy:\", accuracy_score(gt_epi_labels, (out_sars>0.5).astype(int)))\n",
    "plt.hist(out_sars)\n",
    "plt.show()"
   ]
  },
  {
   "cell_type": "markdown",
   "metadata": {},
   "source": [
    "### Refine model with SARS epitopes"
   ]
  },
  {
   "cell_type": "code",
   "execution_count": 25,
   "metadata": {},
   "outputs": [
    {
     "name": "stdout",
     "output_type": "stream",
     "text": [
      "299/299 [==============================] - 0s 238us/sample - loss: 0.0912 - acc: 0.8796\n"
     ]
    },
    {
     "data": {
      "text/plain": [
       "<tensorflow.python.keras.callbacks.History at 0x131705320>"
      ]
     },
     "execution_count": 25,
     "metadata": {},
     "output_type": "execute_result"
    }
   ],
   "source": [
    "model.fit(norm_epis_sars_data, gt_epi_labels)"
   ]
  },
  {
   "cell_type": "markdown",
   "metadata": {},
   "source": [
    "## Predict for test_seq_data"
   ]
  },
  {
   "cell_type": "code",
   "execution_count": 134,
   "metadata": {},
   "outputs": [],
   "source": [
    "cands_concat = []\n",
    "for can in candidates_per_sequ:\n",
    "    for c in can:\n",
    "        cands_concat.append(c)"
   ]
  },
  {
   "cell_type": "code",
   "execution_count": 135,
   "metadata": {},
   "outputs": [
    {
     "name": "stdout",
     "output_type": "stream",
     "text": [
      "(1296, 30, 34)\n"
     ]
    }
   ],
   "source": [
    "MAX_SEQ_LEN = 30\n",
    "N_FEATURES = 34\n",
    "# padding and trim to max length\n",
    "test_data = pad_seq_data(cands_concat, max_len=MAX_SEQ_LEN, pad_val=-2)\n",
    "print(test_data.shape)\n",
    "# normalize\n",
    "test_data = (test_data-np.min(test_data))/ (np.max(test_data)-np.min(test_data))"
   ]
  },
  {
   "cell_type": "code",
   "execution_count": 136,
   "metadata": {},
   "outputs": [],
   "source": [
    "out_test_seq = model.predict(test_data)"
   ]
  },
  {
   "cell_type": "code",
   "execution_count": 137,
   "metadata": {},
   "outputs": [
    {
     "data": {
      "image/png": "[encoded data removed]",
      "text/plain": [
       "<Figure size 432x288 with 1 Axes>"
      ]
     },
     "metadata": {
      "needs_background": "light"
     },
     "output_type": "display_data"
    }
   ],
   "source": [
    "# almost all zero --> was in training data!\n",
    "plt.hist(out_test_seq)\n",
    "plt.show()"
   ]
  },
  {
   "cell_type": "code",
   "execution_count": null,
   "metadata": {},
   "outputs": [],
   "source": []
  }
 ],
 "metadata": {
  "kernelspec": {
   "display_name": "Python 3",
   "language": "python",
   "name": "python3"
  },
  "language_info": {
   "codemirror_mode": {
    "name": "ipython",
    "version": 3
   },
   "file_extension": ".py",
   "mimetype": "text/x-python",
   "name": "python",
   "nbconvert_exporter": "python",
   "pygments_lexer": "ipython3",
   "version": "3.6.10"
  }
 },
 "nbformat": 4,
 "nbformat_minor": 4
}
